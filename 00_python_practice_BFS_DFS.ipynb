{
  "nbformat": 4,
  "nbformat_minor": 0,
  "metadata": {
    "colab": {
      "name": "00_python_practice_BFS/DFS.ipynb",
      "provenance": [],
      "authorship_tag": "ABX9TyP4IfE83w6M4Lw+jvzLcL19",
      "include_colab_link": true
    },
    "kernelspec": {
      "name": "python3",
      "display_name": "Python 3"
    },
    "language_info": {
      "name": "python"
    }
  },
  "cells": [
    {
      "cell_type": "markdown",
      "metadata": {
        "id": "view-in-github",
        "colab_type": "text"
      },
      "source": [
        "<a href=\"https://colab.research.google.com/github/cychen116/ExploratoryDataAnalysis_practice/blob/main/00_python_practice_BFS_DFS.ipynb\" target=\"_parent\"><img src=\"https://colab.research.google.com/assets/colab-badge.svg\" alt=\"Open In Colab\"/></a>"
      ]
    },
    {
      "cell_type": "code",
      "execution_count": 1,
      "metadata": {
        "id": "Om-xJt8YEpZO"
      },
      "outputs": [],
      "source": [
        "graph = {\"Lili Potter\": set([\"Harry Potter\",\"Professor Snape\",\"Voldemort\"]),\n",
        "         \"Harry Potter\": set([\"Hermione Granger\", \"Ron Weasley\", \"Dumbledore\",\"Hagrid\"]),\n",
        "         \"Dumbledore\": set([\"Harry Potter\", \"Professor Snape\", \"Hagrid\",\"Voldemort\"]),\n",
        "         \"Ron Weasley\": set([\"Harry Potter\", \"Hermione Granger\"]),\n",
        "         \"Hermione Granger\": set([\"Harry Potter\", \"Ron Weasley\"]),\n",
        "         \"Voldemort\": set([\"Professor Snape\",\"Dumbledore\",\"Lili Potter\"]),\n",
        "         \"Professor Snape\": set([\"Dumbledore\", \"Voldemort\", \"Lili Potter\"]),\n",
        "         \"Hagrid\": set([\"Harry Potter\"])\n",
        "         \n",
        "        }\n",
        "\n",
        "\n",
        "def dfs(graph, start, visited=None):\n",
        "    if visited is None:\n",
        "        visited = set()\n",
        "    visited.add(start)\n",
        "    for next in graph[start] - visited:\n",
        "        dfs(graph, next, visited)\n",
        "    return visited\n",
        "\n",
        "\n",
        "\n",
        "def dfs_paths(graph, start, end, path=None):\n",
        "    if path is None:\n",
        "        path = [start]\n",
        "    if start == end:\n",
        "        yield path\n",
        "    for next in graph[start] - set(path):\n",
        "        yield from dfs_paths(graph, next, end, path + [next])\n",
        "\n",
        "def bfs(graph, start):\n",
        "    visited, queue = set(), [start]\n",
        "    while queue:\n",
        "        vertex = queue.pop(0)\n",
        "        if vertex not in visited:\n",
        "            visited.add(vertex)\n",
        "            queue.extend(graph[vertex] - visited)\n",
        "    return visited\n",
        "\n",
        "def bfs_paths(graph, start, end):\n",
        "    queue = [(start, [start])]\n",
        "    while queue:\n",
        "        (vertex, path) = queue.pop(0)\n",
        "        for next in graph[vertex] - set(path):\n",
        "            if next == end:\n",
        "                yield path + [next]\n",
        "            else:\n",
        "                queue.append((next, path + [next]))"
      ]
    },
    {
      "cell_type": "code",
      "metadata": {
        "id": "WIJGadH-EkWo",
        "outputId": "97fd1be9-4cd0-41f3-fafb-cbb760c674f1",
        "colab": {
          "base_uri": "https://localhost:8080/"
        }
      },
      "source": [
        "#Running Depth-First Search\n",
        "dfs(graph, 'Voldemort')\n",
        "print(\"\\n\")\n",
        "list(dfs_paths(graph, 'Voldemort', 'Harry Potter'))"
      ],
      "execution_count": 2,
      "outputs": [
        {
          "output_type": "stream",
          "name": "stdout",
          "text": [
            "\n",
            "\n"
          ]
        },
        {
          "output_type": "execute_result",
          "data": {
            "text/plain": [
              "[['Voldemort', 'Lili Potter', 'Harry Potter'],\n",
              " ['Voldemort',\n",
              "  'Lili Potter',\n",
              "  'Professor Snape',\n",
              "  'Dumbledore',\n",
              "  'Hagrid',\n",
              "  'Harry Potter'],\n",
              " ['Voldemort', 'Lili Potter', 'Professor Snape', 'Dumbledore', 'Harry Potter'],\n",
              " ['Voldemort', 'Dumbledore', 'Hagrid', 'Harry Potter'],\n",
              " ['Voldemort', 'Dumbledore', 'Harry Potter'],\n",
              " ['Voldemort', 'Dumbledore', 'Professor Snape', 'Lili Potter', 'Harry Potter'],\n",
              " ['Voldemort', 'Professor Snape', 'Lili Potter', 'Harry Potter'],\n",
              " ['Voldemort', 'Professor Snape', 'Dumbledore', 'Hagrid', 'Harry Potter'],\n",
              " ['Voldemort', 'Professor Snape', 'Dumbledore', 'Harry Potter']]"
            ]
          },
          "metadata": {},
          "execution_count": 2
        }
      ]
    },
    {
      "cell_type": "code",
      "metadata": {
        "id": "Td6-D7DFEqRr",
        "outputId": "b583560d-99a0-4114-aaf8-e3a49ea3bbeb",
        "colab": {
          "base_uri": "https://localhost:8080/"
        }
      },
      "source": [
        "#Breadth-First Search\n",
        "bfs(graph, 'Voldemort')\n",
        "print(\"\\n\")\n",
        "list(bfs_paths(graph, 'Voldemort', 'Harry Potter'))"
      ],
      "execution_count": 3,
      "outputs": [
        {
          "output_type": "stream",
          "name": "stdout",
          "text": [
            "\n",
            "\n"
          ]
        },
        {
          "output_type": "execute_result",
          "data": {
            "text/plain": [
              "[['Voldemort', 'Lili Potter', 'Harry Potter'],\n",
              " ['Voldemort', 'Dumbledore', 'Harry Potter'],\n",
              " ['Voldemort', 'Dumbledore', 'Hagrid', 'Harry Potter'],\n",
              " ['Voldemort', 'Professor Snape', 'Lili Potter', 'Harry Potter'],\n",
              " ['Voldemort', 'Professor Snape', 'Dumbledore', 'Harry Potter'],\n",
              " ['Voldemort', 'Lili Potter', 'Professor Snape', 'Dumbledore', 'Harry Potter'],\n",
              " ['Voldemort', 'Dumbledore', 'Professor Snape', 'Lili Potter', 'Harry Potter'],\n",
              " ['Voldemort', 'Professor Snape', 'Dumbledore', 'Hagrid', 'Harry Potter'],\n",
              " ['Voldemort',\n",
              "  'Lili Potter',\n",
              "  'Professor Snape',\n",
              "  'Dumbledore',\n",
              "  'Hagrid',\n",
              "  'Harry Potter']]"
            ]
          },
          "metadata": {},
          "execution_count": 3
        }
      ]
    },
    {
      "cell_type": "markdown",
      "metadata": {
        "id": "LklY1E-IJ7kC"
      },
      "source": [
        "Another graph class that I work on"
      ]
    },
    {
      "cell_type": "code",
      "metadata": {
        "id": "gmuLofh8J6z1",
        "outputId": "a2264789-98d0-4cfc-f60e-87b5cabb33d4",
        "colab": {
          "base_uri": "https://localhost:8080/"
        }
      },
      "source": [
        "class Graph(object):\n",
        "  def __init__(self, v):\n",
        "    self.m_v = v\n",
        "    self.m_adj = [[] for i in range(v)]\n",
        "  def addEdge(self, u, v):\n",
        "    self.m_adj[u].append(v)\n",
        "  def BFS(self, s):\n",
        "    Queue = []\n",
        "    visited = [False]*self.m_v\n",
        "    Queue.append(s)\n",
        "    visited[s] = True\n",
        "    while len(Queue) > 0:\n",
        "      v = Queue.pop(0)\n",
        "      print(f'{v} ')\n",
        "      for u in self.m_adj[v]:\n",
        "        if not visited[u]:\n",
        "          Queue.append(u)\n",
        "          visited[u] = True\n",
        "  def DFS_rec(self, s, visited):\n",
        "    visited[s] = True\n",
        "    print(s)\n",
        "    for u in self.m_adj[s]:\n",
        "      if not visited[u]:\n",
        "        self.DFS_rec(u, visited)\n",
        "  def DFS_it(self, s, visited):\n",
        "    Stack = []\n",
        "    Stack.append(s)\n",
        "    visited[s] = True\n",
        "    while len(Stack) > 0:\n",
        "      u = Stack[-1]\n",
        "      Stack.pop()\n",
        "      print(u)\n",
        "      for v in self.m_adj[u]:\n",
        "        if not visited[v]:\n",
        "          S.append(v)\n",
        "          visited[v] = True\n",
        "  def DFS(self):\n",
        "    visited = [False]*self.m_v\n",
        "    for i in range(self.m_v):\n",
        "      if not visited[i]:\n",
        "        self.DFS_rec(i, visited)\n",
        "             \n",
        "\n",
        "G = Graph(10)\n",
        "G.addEdge(0,1)\n",
        "G.addEdge(1,5)\n",
        "G.addEdge(1,2)\n",
        "G.addEdge(1,3)\n",
        "G.addEdge(2,4)\n",
        "G.addEdge(2,9)\n",
        "G.addEdge(4,8)\n",
        "## 6, 7 is isolated\n",
        "#         0\n",
        "#         |\n",
        "#         1\n",
        "#        /|\\\n",
        "#       5 2 3\n",
        "#        / \\\n",
        "#       4   9\n",
        "#      /\n",
        "#     8\n",
        "print(\"DFS starts from here\")\n",
        "G.DFS()\n",
        "print(\"BFS of 1 starts from here\")\n",
        "G.BFS(1)\n",
        "print(\"BFS of 2 starts from here\")\n",
        "G.BFS(2)"
      ],
      "execution_count": 4,
      "outputs": [
        {
          "output_type": "stream",
          "name": "stdout",
          "text": [
            "DFS starts from here\n",
            "0\n",
            "1\n",
            "5\n",
            "2\n",
            "4\n",
            "8\n",
            "9\n",
            "3\n",
            "6\n",
            "7\n",
            "BFS of 1 starts from here\n",
            "1 \n",
            "5 \n",
            "2 \n",
            "3 \n",
            "4 \n",
            "9 \n",
            "8 \n",
            "BFS of 2 starts from here\n",
            "2 \n",
            "4 \n",
            "9 \n",
            "8 \n"
          ]
        }
      ]
    },
    {
      "cell_type": "code",
      "source": [
        ""
      ],
      "metadata": {
        "id": "jWvaKiQhE9fM"
      },
      "execution_count": null,
      "outputs": []
    }
  ]
}