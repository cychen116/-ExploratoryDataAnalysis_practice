{
  "nbformat": 4,
  "nbformat_minor": 0,
  "metadata": {
    "colab": {
      "name": "13_ML_NaiveBayes_from scratch.ipynb",
      "provenance": [],
      "authorship_tag": "ABX9TyMtfR0I+CL9vxJ7athWaT35",
      "include_colab_link": true
    },
    "kernelspec": {
      "name": "python3",
      "display_name": "Python 3"
    },
    "language_info": {
      "name": "python"
    }
  },
  "cells": [
    {
      "cell_type": "markdown",
      "metadata": {
        "id": "view-in-github",
        "colab_type": "text"
      },
      "source": [
        "<a href=\"https://colab.research.google.com/github/cychen116/DataAnalysis_practice/blob/main/13_ML_NaiveBayes_from_scratch.ipynb\" target=\"_parent\"><img src=\"https://colab.research.google.com/assets/colab-badge.svg\" alt=\"Open In Colab\"/></a>"
      ]
    },
    {
      "cell_type": "markdown",
      "source": [
        "# Let's Create Navie Bayes Functions"
      ],
      "metadata": {
        "id": "9cIpLiUEYyEy"
      }
    },
    {
      "cell_type": "code",
      "execution_count": 1,
      "metadata": {
        "id": "9iBWefssSdrR"
      },
      "outputs": [],
      "source": [
        "import pandas as pd\n",
        "import matplotlib.pyplot as plt"
      ]
    },
    {
      "cell_type": "code",
      "source": [
        "dataset = [[3.393533211,2.331273381,0],\n",
        "\t[3.110073483,1.781539638,0],\n",
        "\t[1.343808831,3.368360954,0],\n",
        "\t[3.582294042,4.67917911,0],\n",
        "\t[2.280362439,2.866990263,0],\n",
        "\t[7.423436942,4.696522875,1],\n",
        "\t[5.745051997,3.533989803,1],\n",
        "\t[9.172168622,2.511101045,1],\n",
        "\t[7.792783481,3.424088941,1],\n",
        "\t[7.939820817,0.791637231,1]]\n"
      ],
      "metadata": {
        "id": "1GH0tQ53Xq8M"
      },
      "execution_count": 2,
      "outputs": []
    },
    {
      "cell_type": "code",
      "source": [
        "df = pd.DataFrame(dataset)\n",
        "plt.scatter(df[0],df[1], c=df[2])"
      ],
      "metadata": {
        "colab": {
          "base_uri": "https://localhost:8080/",
          "height": 282
        },
        "id": "jhN5WqDPXuTX",
        "outputId": "40106e68-53b2-452b-dcfa-d6f9969965d2"
      },
      "execution_count": 3,
      "outputs": [
        {
          "output_type": "execute_result",
          "data": {
            "text/plain": [
              "<matplotlib.collections.PathCollection at 0x7fe01a3edf10>"
            ]
          },
          "metadata": {},
          "execution_count": 3
        },
        {
          "output_type": "display_data",
          "data": {
            "image/png": "[encoded data removed]",
            "text/plain": [
              "<Figure size 432x288 with 1 Axes>"
            ]
          },
          "metadata": {
            "needs_background": "light"
          }
        }
      ]
    },
    {
      "cell_type": "code",
      "source": [
        "# Split the dataset by class values, returns a dictionary\n",
        "def separate_by_class(dataset):\n",
        "\tseparated = dict()\n",
        "\tfor i in range(len(dataset)):\n",
        "\t\tvector = dataset[i]\n",
        "\t\tclass_value = vector[-1]\n",
        "\t\tif (class_value not in separated):\n",
        "\t\t\tseparated[class_value] = list()\n",
        "\t\tseparated[class_value].append(vector)\n",
        "\treturn separated\n",
        "\n",
        "separated = separate_by_class(dataset)"
      ],
      "metadata": {
        "id": "33soAri-XwD8"
      },
      "execution_count": 4,
      "outputs": []
    },
    {
      "cell_type": "code",
      "source": [
        "separated[1]"
      ],
      "metadata": {
        "colab": {
          "base_uri": "https://localhost:8080/"
        },
        "id": "K6Ay58MeXyNF",
        "outputId": "f91e3485-09db-4a2d-9e5f-2838f8f12752"
      },
      "execution_count": 5,
      "outputs": [
        {
          "output_type": "execute_result",
          "data": {
            "text/plain": [
              "[[7.423436942, 4.696522875, 1],\n",
              " [5.745051997, 3.533989803, 1],\n",
              " [9.172168622, 2.511101045, 1],\n",
              " [7.792783481, 3.424088941, 1],\n",
              " [7.939820817, 0.791637231, 1]]"
            ]
          },
          "metadata": {},
          "execution_count": 5
        }
      ]
    },
    {
      "cell_type": "code",
      "source": [
        "def mean(numbers):\n",
        "\treturn sum(numbers)/float(len(numbers))\n",
        " \n",
        "from math import sqrt\n",
        "\n",
        "# Calculate the standard deviation of a list of numbers\n",
        "def stdev(numbers):\n",
        "\tavg = mean(numbers)\n",
        "\tvariance = sum([(x-avg)**2 for x in numbers]) / float(len(numbers)-1)\n",
        "\treturn sqrt(variance)\n",
        " \n",
        "\n",
        "# Calculate the mean, stdev and count for each column in a dataset\n",
        "def summarize_dataset(dataset):\n",
        "\tsummaries = [(mean(column), stdev(column), len(column)) for column in zip(*dataset)]\n",
        "\tdel(summaries[-1])\n",
        "\treturn summaries\n",
        "\n",
        "summary = summarize_dataset(dataset)\n",
        "summary"
      ],
      "metadata": {
        "colab": {
          "base_uri": "https://localhost:8080/"
        },
        "id": "BmJWIzwgXz3q",
        "outputId": "64e6ea8c-adf9-441f-eb77-4f12669439da"
      },
      "execution_count": 6,
      "outputs": [
        {
          "output_type": "execute_result",
          "data": {
            "text/plain": [
              "[(5.178333386499999, 2.7665845055177263, 10),\n",
              " (2.9984683241, 1.218556343617447, 10)]"
            ]
          },
          "metadata": {},
          "execution_count": 6
        }
      ]
    },
    {
      "cell_type": "code",
      "source": [
        "def summarize_by_class(dataset):\n",
        "\tseparated = separate_by_class(dataset)\n",
        "\tsummaries = dict()\n",
        "\tfor class_value, rows in separated.items():\n",
        "\t\tsummaries[class_value] = summarize_dataset(rows)\n",
        "\treturn summaries"
      ],
      "metadata": {
        "id": "rhfjAcrpX17g"
      },
      "execution_count": 7,
      "outputs": []
    },
    {
      "cell_type": "code",
      "source": [
        "summarize_by_class(dataset)"
      ],
      "metadata": {
        "colab": {
          "base_uri": "https://localhost:8080/"
        },
        "id": "BgPg_I_UX38v",
        "outputId": "9f8298ab-d850-415c-88bc-2ffd18971a4b"
      },
      "execution_count": 8,
      "outputs": [
        {
          "output_type": "execute_result",
          "data": {
            "text/plain": [
              "{0: [(2.7420144012, 0.9265683289298018, 5),\n",
              "  (3.0054686692, 1.1073295894898725, 5)],\n",
              " 1: [(7.6146523718, 1.2344321550313704, 5),\n",
              "  (2.9914679790000003, 1.4541931384601618, 5)]}"
            ]
          },
          "metadata": {},
          "execution_count": 8
        }
      ]
    },
    {
      "cell_type": "code",
      "source": [
        "from math import sqrt\n",
        "from math import pi\n",
        "from math import exp\n",
        "def calculate_probability(x, mean, stdev):\n",
        "\texponent = exp(-((x-mean)**2 / (2 * stdev**2 )))\n",
        "\treturn (1 / (sqrt(2 * pi) * stdev)) * exponent"
      ],
      "metadata": {
        "id": "xP09K5yLX5SL"
      },
      "execution_count": 9,
      "outputs": []
    },
    {
      "cell_type": "code",
      "source": [
        "calculate_probability(2.7420144012,0.92, 9.17)"
      ],
      "metadata": {
        "colab": {
          "base_uri": "https://localhost:8080/"
        },
        "id": "vBOuOjXGX65F",
        "outputId": "d929a3aa-f6c6-415d-a587-c69d1457b1e0"
      },
      "execution_count": 10,
      "outputs": [
        {
          "output_type": "execute_result",
          "data": {
            "text/plain": [
              "0.042654808645052965"
            ]
          },
          "metadata": {},
          "execution_count": 10
        }
      ]
    },
    {
      "cell_type": "code",
      "source": [
        "import numpy as np\n",
        "x1 = [calculate_probability(2.74,0.92,x) for x in np.linspace(0,10,100)]\n",
        "x2 = [calculate_probability(7.61,1.23,x) for x in np.linspace(0,10,100)]\n",
        "plt.plot(x1)\n",
        "plt.plot(x2)"
      ],
      "metadata": {
        "colab": {
          "base_uri": "https://localhost:8080/",
          "height": 387
        },
        "id": "cCbL-6kmX8Z1",
        "outputId": "0f3df88f-e99b-4cdd-d4f7-b7eef23e6318"
      },
      "execution_count": 11,
      "outputs": [
        {
          "output_type": "stream",
          "name": "stderr",
          "text": [
            "/usr/local/lib/python3.7/dist-packages/ipykernel_launcher.py:5: RuntimeWarning: divide by zero encountered in double_scalars\n",
            "  \"\"\"\n",
            "/usr/local/lib/python3.7/dist-packages/ipykernel_launcher.py:6: RuntimeWarning: divide by zero encountered in double_scalars\n",
            "  \n",
            "/usr/local/lib/python3.7/dist-packages/ipykernel_launcher.py:6: RuntimeWarning: invalid value encountered in double_scalars\n",
            "  \n"
          ]
        },
        {
          "output_type": "execute_result",
          "data": {
            "text/plain": [
              "[<matplotlib.lines.Line2D at 0x7fe00f801910>]"
            ]
          },
          "metadata": {},
          "execution_count": 11
        },
        {
          "output_type": "display_data",
          "data": {
            "image/png": "[encoded data removed]",
            "text/plain": [
              "<Figure size 432x288 with 1 Axes>"
            ]
          },
          "metadata": {
            "needs_background": "light"
          }
        }
      ]
    },
    {
      "cell_type": "code",
      "source": [
        "def calculate_class_probabilities(summaries, row):\n",
        "\ttotal_rows = sum([summaries[label][0][2] for label in summaries])\n",
        "\tprobabilities = dict()\n",
        "\tfor class_value, class_summaries in summaries.items():\n",
        "\t\tprobabilities[class_value] = summaries[class_value][0][2]/float(total_rows)\n",
        "\t\tfor i in range(len(class_summaries)):\n",
        "\t\t\tmean, stdev, count = class_summaries[i]\n",
        "\t\t\tprobabilities[class_value] *= calculate_probability(row[i], mean, stdev)\n",
        "\treturn probabilities\n",
        "\n",
        "\n",
        "summaries = summarize_by_class(dataset)\n",
        "probabilities = calculate_class_probabilities(summaries, dataset[7])\n",
        "print(probabilities)"
      ],
      "metadata": {
        "colab": {
          "base_uri": "https://localhost:8080/"
        },
        "id": "AXcr_1oTX98S",
        "outputId": "fa3304d2-076b-44dc-eed0-302c4a2d23a7"
      },
      "execution_count": 12,
      "outputs": [
        {
          "output_type": "stream",
          "name": "stdout",
          "text": [
            "{0: 2.44629984336952e-12, 1: 0.018937264964228803}\n"
          ]
        }
      ]
    },
    {
      "cell_type": "markdown",
      "source": [
        "# Loading Data to Test Our Functions"
      ],
      "metadata": {
        "id": "vtI6u9NNY6qx"
      }
    },
    {
      "cell_type": "code",
      "source": [
        "from google.colab import drive\n",
        "drive.mount(\"/content/drive\")\n",
        "data_dir = \"/content/drive/MyDrive/Colab Notebooks/EMSE 6575/Data\"\n",
        "!ls \"/content/drive/MyDrive/Colab Notebooks/EMSE 6575/Data\""
      ],
      "metadata": {
        "colab": {
          "base_uri": "https://localhost:8080/"
        },
        "id": "VAtbh6XHYAWx",
        "outputId": "868abf70-752a-48cd-caa9-6433964b09ca"
      },
      "execution_count": 13,
      "outputs": [
        {
          "output_type": "stream",
          "name": "stdout",
          "text": [
            "Mounted at /content/drive\n",
            " archive.zip\n",
            "'breast cancer.csv'\n",
            " breast_cancer_data.csv\n",
            "'Breast Cancer Dignostics_google.ipynb'\n",
            "'Breast Cancer Dignostics.ipynb'\n",
            " diamonds.csv\n",
            " gender_submission.csv\n",
            "'Group Project 1 Text for Analysis -- full version(1).txt'\n",
            " HR_comma_sep.csv\n",
            " iris.csv\n",
            " spam.csv\n",
            " spam_resaved.xlsx\n",
            " spam.xlsx\n",
            " submission_final.csv\n",
            " tatanic_submission.csv\n",
            " test.csv\n",
            " train.csv\n",
            " train-images-idx3-ubyte.gz\n",
            " train-labels-idx1-ubyte.gz\n"
          ]
        }
      ]
    },
    {
      "cell_type": "code",
      "source": [
        "df = pd.read_csv(data_dir +'/iris.csv',header=None)"
      ],
      "metadata": {
        "id": "jo0PsGAMYOwz"
      },
      "execution_count": 14,
      "outputs": []
    },
    {
      "cell_type": "code",
      "source": [
        "df.head()"
      ],
      "metadata": {
        "colab": {
          "base_uri": "https://localhost:8080/",
          "height": 206
        },
        "id": "xIe_X9ATYTEE",
        "outputId": "f0019c45-2742-4c94-917d-e8a64a9b5922"
      },
      "execution_count": 15,
      "outputs": [
        {
          "output_type": "execute_result",
          "data": {
            "text/html": [
              "\n",
              "  <div id=\"df-30fb973a-76a6-42ec-b0e3-dad66e5fc259\">\n",
              "    <div class=\"colab-df-container\">\n",
              "      <div>\n",
              "<style scoped>\n",
              "    .dataframe tbody tr th:only-of-type {\n",
              "        vertical-align: middle;\n",
              "    }\n",
              "\n",
              "    .dataframe tbody tr th {\n",
              "        vertical-align: top;\n",
              "    }\n",
              "\n",
              "    .dataframe thead th {\n",
              "        text-align: right;\n",
              "    }\n",
              "</style>\n",
              "<table border=\"1\" class=\"dataframe\">\n",
              "  <thead>\n",
              "    <tr style=\"text-align: right;\">\n",
              "      <th></th>\n",
              "      <th>0</th>\n",
              "      <th>1</th>\n",
              "      <th>2</th>\n",
              "      <th>3</th>\n",
              "      <th>4</th>\n",
              "    </tr>\n",
              "  </thead>\n",
              "  <tbody>\n",
              "    <tr>\n",
              "      <th>0</th>\n",
              "      <td>5.1</td>\n",
              "      <td>3.5</td>\n",
              "      <td>1.4</td>\n",
              "      <td>0.2</td>\n",
              "      <td>Iris-setosa</td>\n",
              "    </tr>\n",
              "    <tr>\n",
              "      <th>1</th>\n",
              "      <td>4.9</td>\n",
              "      <td>3.0</td>\n",
              "      <td>1.4</td>\n",
              "      <td>0.2</td>\n",
              "      <td>Iris-setosa</td>\n",
              "    </tr>\n",
              "    <tr>\n",
              "      <th>2</th>\n",
              "      <td>4.7</td>\n",
              "      <td>3.2</td>\n",
              "      <td>1.3</td>\n",
              "      <td>0.2</td>\n",
              "      <td>Iris-setosa</td>\n",
              "    </tr>\n",
              "    <tr>\n",
              "      <th>3</th>\n",
              "      <td>4.6</td>\n",
              "      <td>3.1</td>\n",
              "      <td>1.5</td>\n",
              "      <td>0.2</td>\n",
              "      <td>Iris-setosa</td>\n",
              "    </tr>\n",
              "    <tr>\n",
              "      <th>4</th>\n",
              "      <td>5.0</td>\n",
              "      <td>3.6</td>\n",
              "      <td>1.4</td>\n",
              "      <td>0.2</td>\n",
              "      <td>Iris-setosa</td>\n",
              "    </tr>\n",
              "  </tbody>\n",
              "</table>\n",
              "</div>\n",
              "      <button class=\"colab-df-convert\" onclick=\"convertToInteractive('df-30fb973a-76a6-42ec-b0e3-dad66e5fc259')\"\n",
              "              title=\"Convert this dataframe to an interactive table.\"\n",
              "              style=\"display:none;\">\n",
              "        \n",
              "  <svg xmlns=\"http://www.w3.org/2000/svg\" height=\"24px\"viewBox=\"0 0 24 24\"\n",
              "       width=\"24px\">\n",
              "    <path d=\"M0 0h24v24H0V0z\" fill=\"none\"/>\n",
              "    <path d=\"M18.56 5.44l.94 2.06.94-2.06 2.06-.94-2.06-.94-.94-2.06-.94 2.06-2.06.94zm-11 1L8.5 8.5l.94-2.06 2.06-.94-2.06-.94L8.5 2.5l-.94 2.06-2.06.94zm10 10l.94 2.06.94-2.06 2.06-.94-2.06-.94-.94-2.06-.94 2.06-2.06.94z\"/><path d=\"M17.41 7.96l-1.37-1.37c-.4-.4-.92-.59-1.43-.59-.52 0-1.04.2-1.43.59L10.3 9.45l-7.72 7.72c-.78.78-.78 2.05 0 2.83L4 21.41c.39.39.9.59 1.41.59.51 0 1.02-.2 1.41-.59l7.78-7.78 2.81-2.81c.8-.78.8-2.07 0-2.86zM5.41 20L4 18.59l7.72-7.72 1.47 1.35L5.41 20z\"/>\n",
              "  </svg>\n",
              "      </button>\n",
              "      \n",
              "  <style>\n",
              "    .colab-df-container {\n",
              "      display:flex;\n",
              "      flex-wrap:wrap;\n",
              "      gap: 12px;\n",
              "    }\n",
              "\n",
              "    .colab-df-convert {\n",
              "      background-color: #E8F0FE;\n",
              "      border: none;\n",
              "      border-radius: 50%;\n",
              "      cursor: pointer;\n",
              "      display: none;\n",
              "      fill: #1967D2;\n",
              "      height: 32px;\n",
              "      padding: 0 0 0 0;\n",
              "      width: 32px;\n",
              "    }\n",
              "\n",
              "    .colab-df-convert:hover {\n",
              "      background-color: #E2EBFA;\n",
              "      box-shadow: 0px 1px 2px rgba(60, 64, 67, 0.3), 0px 1px 3px 1px rgba(60, 64, 67, 0.15);\n",
              "      fill: #174EA6;\n",
              "    }\n",
              "\n",
              "    [theme=dark] .colab-df-convert {\n",
              "      background-color: #3B4455;\n",
              "      fill: #D2E3FC;\n",
              "    }\n",
              "\n",
              "    [theme=dark] .colab-df-convert:hover {\n",
              "      background-color: #434B5C;\n",
              "      box-shadow: 0px 1px 3px 1px rgba(0, 0, 0, 0.15);\n",
              "      filter: drop-shadow(0px 1px 2px rgba(0, 0, 0, 0.3));\n",
              "      fill: #FFFFFF;\n",
              "    }\n",
              "  </style>\n",
              "\n",
              "      <script>\n",
              "        const buttonEl =\n",
              "          document.querySelector('#df-30fb973a-76a6-42ec-b0e3-dad66e5fc259 button.colab-df-convert');\n",
              "        buttonEl.style.display =\n",
              "          google.colab.kernel.accessAllowed ? 'block' : 'none';\n",
              "\n",
              "        async function convertToInteractive(key) {\n",
              "          const element = document.querySelector('#df-30fb973a-76a6-42ec-b0e3-dad66e5fc259');\n",
              "          const dataTable =\n",
              "            await google.colab.kernel.invokeFunction('convertToInteractive',\n",
              "                                                     [key], {});\n",
              "          if (!dataTable) return;\n",
              "\n",
              "          const docLinkHtml = 'Like what you see? Visit the ' +\n",
              "            '<a target=\"_blank\" href=https://colab.research.google.com/notebooks/data_table.ipynb>data table notebook</a>'\n",
              "            + ' to learn more about interactive tables.';\n",
              "          element.innerHTML = '';\n",
              "          dataTable['output_type'] = 'display_data';\n",
              "          await google.colab.output.renderOutput(dataTable, element);\n",
              "          const docLink = document.createElement('div');\n",
              "          docLink.innerHTML = docLinkHtml;\n",
              "          element.appendChild(docLink);\n",
              "        }\n",
              "      </script>\n",
              "    </div>\n",
              "  </div>\n",
              "  "
            ],
            "text/plain": [
              "     0    1    2    3            4\n",
              "0  5.1  3.5  1.4  0.2  Iris-setosa\n",
              "1  4.9  3.0  1.4  0.2  Iris-setosa\n",
              "2  4.7  3.2  1.3  0.2  Iris-setosa\n",
              "3  4.6  3.1  1.5  0.2  Iris-setosa\n",
              "4  5.0  3.6  1.4  0.2  Iris-setosa"
            ]
          },
          "metadata": {},
          "execution_count": 15
        }
      ]
    },
    {
      "cell_type": "code",
      "source": [
        "df[4].unique()"
      ],
      "metadata": {
        "colab": {
          "base_uri": "https://localhost:8080/"
        },
        "id": "QrCG6egXYU1T",
        "outputId": "5d195409-3f31-4b7f-b356-a81f0b76011e"
      },
      "execution_count": 16,
      "outputs": [
        {
          "output_type": "execute_result",
          "data": {
            "text/plain": [
              "array(['Iris-setosa', 'Iris-versicolor', 'Iris-virginica'], dtype=object)"
            ]
          },
          "metadata": {},
          "execution_count": 16
        }
      ]
    },
    {
      "cell_type": "code",
      "source": [
        "df[4]=df[4].astype('category').cat.codes\n",
        "df.head()"
      ],
      "metadata": {
        "colab": {
          "base_uri": "https://localhost:8080/",
          "height": 206
        },
        "id": "uTscTEF0YYNm",
        "outputId": "80836ea6-360a-4c35-e1c3-a43019e7860d"
      },
      "execution_count": 17,
      "outputs": [
        {
          "output_type": "execute_result",
          "data": {
            "text/html": [
              "\n",
              "  <div id=\"df-b03cf8f3-c459-48e8-95df-91a149ae19a9\">\n",
              "    <div class=\"colab-df-container\">\n",
              "      <div>\n",
              "<style scoped>\n",
              "    .dataframe tbody tr th:only-of-type {\n",
              "        vertical-align: middle;\n",
              "    }\n",
              "\n",
              "    .dataframe tbody tr th {\n",
              "        vertical-align: top;\n",
              "    }\n",
              "\n",
              "    .dataframe thead th {\n",
              "        text-align: right;\n",
              "    }\n",
              "</style>\n",
              "<table border=\"1\" class=\"dataframe\">\n",
              "  <thead>\n",
              "    <tr style=\"text-align: right;\">\n",
              "      <th></th>\n",
              "      <th>0</th>\n",
              "      <th>1</th>\n",
              "      <th>2</th>\n",
              "      <th>3</th>\n",
              "      <th>4</th>\n",
              "    </tr>\n",
              "  </thead>\n",
              "  <tbody>\n",
              "    <tr>\n",
              "      <th>0</th>\n",
              "      <td>5.1</td>\n",
              "      <td>3.5</td>\n",
              "      <td>1.4</td>\n",
              "      <td>0.2</td>\n",
              "      <td>0</td>\n",
              "    </tr>\n",
              "    <tr>\n",
              "      <th>1</th>\n",
              "      <td>4.9</td>\n",
              "      <td>3.0</td>\n",
              "      <td>1.4</td>\n",
              "      <td>0.2</td>\n",
              "      <td>0</td>\n",
              "    </tr>\n",
              "    <tr>\n",
              "      <th>2</th>\n",
              "      <td>4.7</td>\n",
              "      <td>3.2</td>\n",
              "      <td>1.3</td>\n",
              "      <td>0.2</td>\n",
              "      <td>0</td>\n",
              "    </tr>\n",
              "    <tr>\n",
              "      <th>3</th>\n",
              "      <td>4.6</td>\n",
              "      <td>3.1</td>\n",
              "      <td>1.5</td>\n",
              "      <td>0.2</td>\n",
              "      <td>0</td>\n",
              "    </tr>\n",
              "    <tr>\n",
              "      <th>4</th>\n",
              "      <td>5.0</td>\n",
              "      <td>3.6</td>\n",
              "      <td>1.4</td>\n",
              "      <td>0.2</td>\n",
              "      <td>0</td>\n",
              "    </tr>\n",
              "  </tbody>\n",
              "</table>\n",
              "</div>\n",
              "      <button class=\"colab-df-convert\" onclick=\"convertToInteractive('df-b03cf8f3-c459-48e8-95df-91a149ae19a9')\"\n",
              "              title=\"Convert this dataframe to an interactive table.\"\n",
              "              style=\"display:none;\">\n",
              "        \n",
              "  <svg xmlns=\"http://www.w3.org/2000/svg\" height=\"24px\"viewBox=\"0 0 24 24\"\n",
              "       width=\"24px\">\n",
              "    <path d=\"M0 0h24v24H0V0z\" fill=\"none\"/>\n",
              "    <path d=\"M18.56 5.44l.94 2.06.94-2.06 2.06-.94-2.06-.94-.94-2.06-.94 2.06-2.06.94zm-11 1L8.5 8.5l.94-2.06 2.06-.94-2.06-.94L8.5 2.5l-.94 2.06-2.06.94zm10 10l.94 2.06.94-2.06 2.06-.94-2.06-.94-.94-2.06-.94 2.06-2.06.94z\"/><path d=\"M17.41 7.96l-1.37-1.37c-.4-.4-.92-.59-1.43-.59-.52 0-1.04.2-1.43.59L10.3 9.45l-7.72 7.72c-.78.78-.78 2.05 0 2.83L4 21.41c.39.39.9.59 1.41.59.51 0 1.02-.2 1.41-.59l7.78-7.78 2.81-2.81c.8-.78.8-2.07 0-2.86zM5.41 20L4 18.59l7.72-7.72 1.47 1.35L5.41 20z\"/>\n",
              "  </svg>\n",
              "      </button>\n",
              "      \n",
              "  <style>\n",
              "    .colab-df-container {\n",
              "      display:flex;\n",
              "      flex-wrap:wrap;\n",
              "      gap: 12px;\n",
              "    }\n",
              "\n",
              "    .colab-df-convert {\n",
              "      background-color: #E8F0FE;\n",
              "      border: none;\n",
              "      border-radius: 50%;\n",
              "      cursor: pointer;\n",
              "      display: none;\n",
              "      fill: #1967D2;\n",
              "      height: 32px;\n",
              "      padding: 0 0 0 0;\n",
              "      width: 32px;\n",
              "    }\n",
              "\n",
              "    .colab-df-convert:hover {\n",
              "      background-color: #E2EBFA;\n",
              "      box-shadow: 0px 1px 2px rgba(60, 64, 67, 0.3), 0px 1px 3px 1px rgba(60, 64, 67, 0.15);\n",
              "      fill: #174EA6;\n",
              "    }\n",
              "\n",
              "    [theme=dark] .colab-df-convert {\n",
              "      background-color: #3B4455;\n",
              "      fill: #D2E3FC;\n",
              "    }\n",
              "\n",
              "    [theme=dark] .colab-df-convert:hover {\n",
              "      background-color: #434B5C;\n",
              "      box-shadow: 0px 1px 3px 1px rgba(0, 0, 0, 0.15);\n",
              "      filter: drop-shadow(0px 1px 2px rgba(0, 0, 0, 0.3));\n",
              "      fill: #FFFFFF;\n",
              "    }\n",
              "  </style>\n",
              "\n",
              "      <script>\n",
              "        const buttonEl =\n",
              "          document.querySelector('#df-b03cf8f3-c459-48e8-95df-91a149ae19a9 button.colab-df-convert');\n",
              "        buttonEl.style.display =\n",
              "          google.colab.kernel.accessAllowed ? 'block' : 'none';\n",
              "\n",
              "        async function convertToInteractive(key) {\n",
              "          const element = document.querySelector('#df-b03cf8f3-c459-48e8-95df-91a149ae19a9');\n",
              "          const dataTable =\n",
              "            await google.colab.kernel.invokeFunction('convertToInteractive',\n",
              "                                                     [key], {});\n",
              "          if (!dataTable) return;\n",
              "\n",
              "          const docLinkHtml = 'Like what you see? Visit the ' +\n",
              "            '<a target=\"_blank\" href=https://colab.research.google.com/notebooks/data_table.ipynb>data table notebook</a>'\n",
              "            + ' to learn more about interactive tables.';\n",
              "          element.innerHTML = '';\n",
              "          dataTable['output_type'] = 'display_data';\n",
              "          await google.colab.output.renderOutput(dataTable, element);\n",
              "          const docLink = document.createElement('div');\n",
              "          docLink.innerHTML = docLinkHtml;\n",
              "          element.appendChild(docLink);\n",
              "        }\n",
              "      </script>\n",
              "    </div>\n",
              "  </div>\n",
              "  "
            ],
            "text/plain": [
              "     0    1    2    3  4\n",
              "0  5.1  3.5  1.4  0.2  0\n",
              "1  4.9  3.0  1.4  0.2  0\n",
              "2  4.7  3.2  1.3  0.2  0\n",
              "3  4.6  3.1  1.5  0.2  0\n",
              "4  5.0  3.6  1.4  0.2  0"
            ]
          },
          "metadata": {},
          "execution_count": 17
        }
      ]
    },
    {
      "cell_type": "code",
      "source": [
        "summaries = summarize_by_class(df.to_numpy())\n",
        "summaries"
      ],
      "metadata": {
        "colab": {
          "base_uri": "https://localhost:8080/"
        },
        "id": "O3mv81ZzYaQk",
        "outputId": "ce5f9ccb-add0-4a4d-f581-4fe0cffe66b9"
      },
      "execution_count": 18,
      "outputs": [
        {
          "output_type": "execute_result",
          "data": {
            "text/plain": [
              "{0.0: [(5.005999999999999, 0.3524896872134512, 50),\n",
              "  (3.4180000000000006, 0.38102439795469095, 50),\n",
              "  (1.464, 0.1735111594364455, 50),\n",
              "  (0.2439999999999999, 0.10720950308167837, 50)],\n",
              " 1.0: [(5.936, 0.5161711470638635, 50),\n",
              "  (2.7700000000000005, 0.3137983233784114, 50),\n",
              "  (4.26, 0.46991097723995806, 50),\n",
              "  (1.3259999999999998, 0.197752680004544, 50)],\n",
              " 2.0: [(6.587999999999998, 0.635879593274432, 50),\n",
              "  (2.9739999999999998, 0.3224966381726376, 50),\n",
              "  (5.552, 0.5518946956639835, 50),\n",
              "  (2.026, 0.27465005563666733, 50)]}"
            ]
          },
          "metadata": {},
          "execution_count": 18
        }
      ]
    },
    {
      "cell_type": "code",
      "source": [
        "calculate_class_probabilities(summaries, [5.0,3.6,1.4,0.2,0])"
      ],
      "metadata": {
        "colab": {
          "base_uri": "https://localhost:8080/"
        },
        "id": "KUTQ6_MyYcGg",
        "outputId": "08448b4d-af2c-4965-b74b-11faca08d0cf"
      },
      "execution_count": 19,
      "outputs": [
        {
          "output_type": "execute_result",
          "data": {
            "text/plain": [
              "{0.0: 2.5890061173739514,\n",
              " 1.0: 2.702798311974989e-18,\n",
              " 2.0: 2.3607221382040533e-25}"
            ]
          },
          "metadata": {},
          "execution_count": 19
        }
      ]
    },
    {
      "cell_type": "markdown",
      "source": [
        "## Shuffle the Data then Split"
      ],
      "metadata": {
        "id": "Q2KK2FBeZDmo"
      }
    },
    {
      "cell_type": "code",
      "source": [
        " from sklearn.model_selection import ShuffleSplit\n",
        " cv = ShuffleSplit(n_splits=5, test_size=0.3, random_state=0)\n",
        " list(cv.split(df))"
      ],
      "metadata": {
        "colab": {
          "base_uri": "https://localhost:8080/"
        },
        "id": "9OhbGUZ_Yd_q",
        "outputId": "41b87380-f51e-4fce-cd2c-a6847e3f8657"
      },
      "execution_count": 20,
      "outputs": [
        {
          "output_type": "execute_result",
          "data": {
            "text/plain": [
              "[(array([ 60, 116, 144, 119, 108,  69, 135,  56,  80, 123, 133, 106, 146,\n",
              "          50, 147,  85,  30, 101,  94,  64,  89,  91, 125,  48,  13, 111,\n",
              "          95,  20,  15,  52,   3, 149,  98,   6,  68, 109,  96,  12, 102,\n",
              "         120, 104, 128,  46,  11, 110, 124,  41, 148,   1, 113, 139,  42,\n",
              "           4, 129,  17,  38,   5,  53, 143, 105,   0,  34,  28,  55,  75,\n",
              "          35,  23,  74,  31, 118,  57, 131,  65,  32, 138,  14, 122,  19,\n",
              "          29, 130,  49, 136,  99,  82,  79, 115, 145,  72,  77,  25,  81,\n",
              "         140, 142,  39,  58,  88,  70,  87,  36,  21,   9, 103,  67, 117,\n",
              "          47]),\n",
              "  array([114,  62,  33, 107,   7, 100,  40,  86,  76,  71, 134,  51,  73,\n",
              "          54,  63,  37,  78,  90,  45,  16, 121,  66,  24,   8, 126,  22,\n",
              "          44,  97,  93,  26, 137,  84,  27, 127, 132,  59,  18,  83,  61,\n",
              "          92, 112,   2, 141,  43,  10])),\n",
              " (array([ 80, 107,  90,   0,  36, 112,   5,  57, 102,  55,  34, 128,  33,\n",
              "          21,  73,   7,  45, 129, 103, 146, 120,  94,  50, 134,  99, 126,\n",
              "         114,   9,  39,  97, 101,  29,  81,  20,  46,  51,  53,  23,  27,\n",
              "           2,  28,  37, 111,  10,  84, 137, 127,  43,  87,  69, 144, 140,\n",
              "          35,  76,   3,  82, 145, 116,  88,  44, 147,   1,  93,  38,  11,\n",
              "         115,  54,  40,  18,  41,  79,  24,  56,  71,  13,  31,  85,  70,\n",
              "         132, 125, 123, 100,  32, 104,  83, 117, 118, 138,  25, 110,  16,\n",
              "          75, 109, 121,  86, 139,   4,  96,  14,  61,  67, 149,  95,  19,\n",
              "          72]),\n",
              "  array([ 92, 141, 130, 119,  48, 143, 122,  63,  26,  64,  42, 108,  91,\n",
              "          77,  22, 148,   6,  65,  47,  68,  60,  15, 124,  58, 142,  12,\n",
              "          59, 105,  89,  78,  52, 131, 113,  98,  30, 136,  66, 133,  49,\n",
              "          62,  74,  17, 106,   8, 135])),\n",
              " (array([111, 125, 101, 143,  23, 117,  50, 146,   2, 110, 118, 131,  17,\n",
              "           6, 127,  67, 124,  15,  56, 115, 112,  71, 145, 100,  38,  80,\n",
              "         109,  44, 144, 130,  35,  97,  59,  48, 134,  70,  65,  98, 138,\n",
              "          55,  43, 132, 103,  30, 114,  34,  18, 141, 139,  49,  52,  74,\n",
              "          26,  45, 126,  39,   4,  11,  53, 149,  79,   8,   0,   5, 133,\n",
              "          61, 135,   7,  83,  99,  22,  68,  82,  20,  28,  86,  14,  42,\n",
              "          32,  25,  36,  92,  75,  64, 142, 120,  81,  58,  13, 140,  72,\n",
              "          87, 123,  93,  91, 136,  51, 116,  24,  94, 106,  16,  63, 128,\n",
              "         105]),\n",
              "  array([ 85, 137,  77, 108, 122, 104, 121,  12,  31,  96, 113, 102,  60,\n",
              "          66, 119,  62,  76,  69,  46, 129,   1,  10,   3,  95,  21,  41,\n",
              "          57,  47,  78,  19, 107,  90,   9, 147, 148,  40,  29,  27,  89,\n",
              "          37,  33,  84,  54,  88,  73])),\n",
              " (array([  2,  56,   1, 135,  81,  18, 104, 100,  41,  15, 148,  53,  79,\n",
              "           6,  98, 132,  13,  11,  10, 136,  47,  60,  61, 103, 145,  22,\n",
              "         130,  55,  82, 112, 149,  62, 141, 120,  86,  20,  66,  35,  17,\n",
              "          88,   4,  45,  50,  57,  59,  44,  70,  32,  78, 133, 110,  96,\n",
              "          87,  74,  89,  38,  51, 116,  46,  43,   8,  92, 101,  21, 127,\n",
              "         118,  73,  30, 107, 124,   5,   0,  95,  83,  71, 144, 102, 126,\n",
              "         108,  91,  85,  67,   7,  84,  72,  94, 125, 109,  26,  68,  28,\n",
              "         121,   3, 134,  69,  99,  36,  24,  39, 128, 113, 129,  58, 140,\n",
              "         131]),\n",
              "  array([114,  49, 138,  23,   9, 122, 146,  80,  90, 117, 111,  75, 147,\n",
              "         143,  97,  76, 123, 139, 137,  54,  34, 115,  64,  65,  25, 142,\n",
              "         119,  40,  63,  42,  19, 105,  93,  16, 106,  12,  33,  52,  29,\n",
              "          31,  77,  27,  37,  14,  48])),\n",
              " (array([ 54, 103,   8,  79,  30,  91, 138, 112,  50,  96, 146,  70,  61,\n",
              "          99,  39,  84, 104, 117, 101,  10,   2,   9,  66,  83, 121,  26,\n",
              "          28,  42,  20,  65, 137, 109, 102,  80,  71, 114,  51, 128,  86,\n",
              "          37,  92,  48, 142, 107, 140, 110,  73,  76,  64,  52, 149, 144,\n",
              "          87,  34,  32, 105,  12,  29, 147, 111,  46,  53,   7, 145,  97,\n",
              "          18,  33, 120,  55,  49, 126,  36,  40, 123,   3,  24,  94,  63,\n",
              "         141,  17,   4,  58,  69,  82, 125,  89,  57,  47,  45,  72,  62,\n",
              "          78,  74,  90, 133, 129, 127, 119,  21,  25, 136,  35,  81,  77,\n",
              "         100]),\n",
              "  array([ 15, 143,  23, 108, 124,  31, 132,  22, 113,  41,  14,   5,  88,\n",
              "          16, 135, 122,   1, 115,  67,  13, 130, 116,  11, 106, 148,  56,\n",
              "          43,  75,  60, 131, 139,  98,  27,   6,  38,  93,   0,  19,  85,\n",
              "          95,  44,  68, 134,  59, 118]))]"
            ]
          },
          "metadata": {},
          "execution_count": 20
        }
      ]
    },
    {
      "cell_type": "code",
      "source": [
        "splits = 5\n",
        "from random import shuffle\n",
        "\n",
        "data = df.to_numpy()\n",
        "shuffle(data)\n",
        "data"
      ],
      "metadata": {
        "colab": {
          "base_uri": "https://localhost:8080/"
        },
        "id": "KwXak8XQYf-z",
        "outputId": "9934c0b8-8d8a-499d-9339-b26781e3b5b5"
      },
      "execution_count": 21,
      "outputs": [
        {
          "output_type": "execute_result",
          "data": {
            "text/plain": [
              "array([[5.1, 3.5, 1.4, 0.2, 0. ],\n",
              "       [4.9, 3. , 1.4, 0.2, 0. ],\n",
              "       [4.9, 3. , 1.4, 0.2, 0. ],\n",
              "       [4.7, 3.2, 1.3, 0.2, 0. ],\n",
              "       [5.1, 3.5, 1.4, 0.2, 0. ],\n",
              "       [5.1, 3.5, 1.4, 0.2, 0. ],\n",
              "       [5.1, 3.5, 1.4, 0.2, 0. ],\n",
              "       [5. , 3.4, 1.5, 0.2, 0. ],\n",
              "       [5.1, 3.5, 1.4, 0.2, 0. ],\n",
              "       [4.4, 2.9, 1.4, 0.2, 0. ],\n",
              "       [4.9, 3. , 1.4, 0.2, 0. ],\n",
              "       [5. , 3.6, 1.4, 0.2, 0. ],\n",
              "       [4.9, 3.1, 1.5, 0.1, 0. ],\n",
              "       [4.7, 3.2, 1.3, 0.2, 0. ],\n",
              "       [4.6, 3.4, 1.4, 0.3, 0. ],\n",
              "       [4.6, 3.4, 1.4, 0.3, 0. ],\n",
              "       [5. , 3.6, 1.4, 0.2, 0. ],\n",
              "       [4.8, 3. , 1.4, 0.1, 0. ],\n",
              "       [5.1, 3.5, 1.4, 0.3, 0. ],\n",
              "       [5.8, 4. , 1.2, 0.2, 0. ],\n",
              "       [4.8, 3. , 1.4, 0.1, 0. ],\n",
              "       [5.1, 3.7, 1.5, 0.4, 0. ],\n",
              "       [5. , 3.4, 1.5, 0.2, 0. ],\n",
              "       [4.9, 3.1, 1.5, 0.1, 0. ],\n",
              "       [5.1, 3.7, 1.5, 0.4, 0. ],\n",
              "       [5.4, 3.4, 1.7, 0.2, 0. ],\n",
              "       [4.6, 3.1, 1.5, 0.2, 0. ],\n",
              "       [5.8, 4. , 1.2, 0.2, 0. ],\n",
              "       [5.7, 4.4, 1.5, 0.4, 0. ],\n",
              "       [4.9, 3. , 1.4, 0.2, 0. ],\n",
              "       [5.4, 3.9, 1.3, 0.4, 0. ],\n",
              "       [5. , 3.4, 1.6, 0.4, 0. ],\n",
              "       [5.4, 3.4, 1.7, 0.2, 0. ],\n",
              "       [5.8, 4. , 1.2, 0.2, 0. ],\n",
              "       [4.9, 3. , 1.4, 0.2, 0. ],\n",
              "       [5.7, 3.8, 1.7, 0.3, 0. ],\n",
              "       [5.1, 3.3, 1.7, 0.5, 0. ],\n",
              "       [5. , 3.2, 1.2, 0.2, 0. ],\n",
              "       [5.5, 3.5, 1.3, 0.2, 0. ],\n",
              "       [5.1, 3.8, 1.5, 0.3, 0. ],\n",
              "       [5.4, 3.4, 1.5, 0.4, 0. ],\n",
              "       [4.7, 3.2, 1.6, 0.2, 0. ],\n",
              "       [4.6, 3.6, 1. , 0.2, 0. ],\n",
              "       [4.9, 3.1, 1.5, 0.1, 0. ],\n",
              "       [5. , 3.5, 1.3, 0.3, 0. ],\n",
              "       [5.4, 3.9, 1.3, 0.4, 0. ],\n",
              "       [5.5, 3.5, 1.3, 0.2, 0. ],\n",
              "       [4.8, 3.4, 1.6, 0.2, 0. ],\n",
              "       [5.7, 3.8, 1.7, 0.3, 0. ],\n",
              "       [5.1, 3.5, 1.4, 0.3, 0. ],\n",
              "       [5.4, 3.7, 1.5, 0.2, 0. ],\n",
              "       [5. , 3.3, 1.4, 0.2, 0. ],\n",
              "       [4.9, 3.1, 1.5, 0.1, 0. ],\n",
              "       [4.8, 3. , 1.4, 0.3, 0. ],\n",
              "       [5.4, 3.4, 1.5, 0.4, 0. ],\n",
              "       [7. , 3.2, 4.7, 1.4, 1. ],\n",
              "       [5.1, 3.8, 1.6, 0.2, 0. ],\n",
              "       [4.6, 3.1, 1.5, 0.2, 0. ],\n",
              "       [5.2, 4.1, 1.5, 0.1, 0. ],\n",
              "       [5.4, 3.9, 1.7, 0.4, 0. ],\n",
              "       [5.4, 3.9, 1.3, 0.4, 0. ],\n",
              "       [5. , 3.6, 1.4, 0.2, 0. ],\n",
              "       [6.3, 3.3, 4.7, 1.6, 1. ],\n",
              "       [4.4, 3.2, 1.3, 0.2, 0. ],\n",
              "       [6.4, 3.2, 4.5, 1.5, 1. ],\n",
              "       [5.7, 2.8, 4.5, 1.3, 1. ],\n",
              "       [5. , 3.2, 1.2, 0.2, 0. ],\n",
              "       [5.2, 3.4, 1.4, 0.2, 0. ],\n",
              "       [6.1, 2.9, 4.7, 1.4, 1. ],\n",
              "       [5.2, 4.1, 1.5, 0.1, 0. ],\n",
              "       [6.6, 2.9, 4.6, 1.3, 1. ],\n",
              "       [5. , 3.5, 1.3, 0.3, 0. ],\n",
              "       [5.4, 3.4, 1.5, 0.4, 0. ],\n",
              "       [6.6, 2.9, 4.6, 1.3, 1. ],\n",
              "       [5.1, 3.8, 1.6, 0.2, 0. ],\n",
              "       [5.1, 3.5, 1.4, 0.3, 0. ],\n",
              "       [4.8, 3. , 1.4, 0.1, 0. ],\n",
              "       [5.5, 2.3, 4. , 1.3, 1. ],\n",
              "       [4.9, 3. , 1.4, 0.2, 0. ],\n",
              "       [5.1, 3.7, 1.5, 0.4, 0. ],\n",
              "       [4.6, 3.2, 1.4, 0.2, 0. ],\n",
              "       [5.1, 3.3, 1.7, 0.5, 0. ],\n",
              "       [5. , 3.6, 1.4, 0.2, 0. ],\n",
              "       [5.1, 3.3, 1.7, 0.5, 0. ],\n",
              "       [5. , 3.4, 1.5, 0.2, 0. ],\n",
              "       [5.4, 3.9, 1.7, 0.4, 0. ],\n",
              "       [4.9, 3.1, 1.5, 0.1, 0. ],\n",
              "       [5.8, 2.7, 3.9, 1.2, 1. ],\n",
              "       [5.7, 2.6, 3.5, 1. , 1. ],\n",
              "       [5.1, 3.3, 1.7, 0.5, 0. ],\n",
              "       [6.7, 3.1, 4.7, 1.5, 1. ],\n",
              "       [6.1, 3. , 4.6, 1.4, 1. ],\n",
              "       [5. , 3.5, 1.6, 0.6, 0. ],\n",
              "       [6.9, 3.1, 4.9, 1.5, 1. ],\n",
              "       [5. , 3.5, 1.3, 0.3, 0. ],\n",
              "       [5.2, 3.4, 1.4, 0.2, 0. ],\n",
              "       [5.4, 3.7, 1.5, 0.2, 0. ],\n",
              "       [4.8, 3.4, 1.9, 0.2, 0. ],\n",
              "       [6.5, 2.8, 4.6, 1.5, 1. ],\n",
              "       [5. , 3.4, 1.5, 0.2, 0. ],\n",
              "       [5.7, 2.6, 3.5, 1. , 1. ],\n",
              "       [4.9, 3.1, 1.5, 0.1, 0. ],\n",
              "       [6.4, 3.2, 4.5, 1.5, 1. ],\n",
              "       [5.2, 4.1, 1.5, 0.1, 0. ],\n",
              "       [6.1, 2.8, 4. , 1.3, 1. ],\n",
              "       [4.4, 3. , 1.3, 0.2, 0. ],\n",
              "       [5.7, 4.4, 1.5, 0.4, 0. ],\n",
              "       [5. , 2.3, 3.3, 1. , 1. ],\n",
              "       [5. , 3.2, 1.2, 0.2, 0. ],\n",
              "       [5.1, 3.5, 1.4, 0.2, 0. ],\n",
              "       [5. , 3.6, 1.4, 0.2, 0. ],\n",
              "       [5.9, 3.2, 4.8, 1.8, 1. ],\n",
              "       [4.8, 3.4, 1.9, 0.2, 0. ],\n",
              "       [5.1, 3.5, 1.4, 0.3, 0. ],\n",
              "       [5.6, 2.7, 4.2, 1.3, 1. ],\n",
              "       [5. , 3.5, 1.3, 0.3, 0. ],\n",
              "       [5.4, 3.7, 1.5, 0.2, 0. ],\n",
              "       [5.5, 4.2, 1.4, 0.2, 0. ],\n",
              "       [5.5, 2.4, 3.7, 1. , 1. ],\n",
              "       [6.4, 3.2, 5.3, 2.3, 2. ],\n",
              "       [6.3, 3.3, 4.7, 1.6, 1. ],\n",
              "       [5.5, 2.4, 3.8, 1.1, 1. ],\n",
              "       [5. , 2.3, 3.3, 1. , 1. ],\n",
              "       [5.1, 3.3, 1.7, 0.5, 0. ],\n",
              "       [5.1, 3.8, 1.9, 0.4, 0. ],\n",
              "       [4.6, 3.1, 1.5, 0.2, 0. ],\n",
              "       [4.9, 2.4, 3.3, 1. , 1. ],\n",
              "       [5. , 3.5, 1.6, 0.6, 0. ],\n",
              "       [6.1, 3. , 4.9, 1.8, 2. ],\n",
              "       [6.1, 3. , 4.6, 1.4, 1. ],\n",
              "       [4.7, 3.2, 1.6, 0.2, 0. ],\n",
              "       [7.7, 3.8, 6.7, 2.2, 2. ],\n",
              "       [4.7, 3.2, 1.3, 0.2, 0. ],\n",
              "       [5.6, 3. , 4.1, 1.3, 1. ],\n",
              "       [4.6, 3.4, 1.4, 0.3, 0. ],\n",
              "       [6.5, 3.2, 5.1, 2. , 2. ],\n",
              "       [6.5, 3.2, 5.1, 2. , 2. ],\n",
              "       [6.4, 3.2, 4.5, 1.5, 1. ],\n",
              "       [4.3, 3. , 1.1, 0.1, 0. ],\n",
              "       [6.2, 2.8, 4.8, 1.8, 2. ],\n",
              "       [6.9, 3.1, 5.4, 2.1, 2. ],\n",
              "       [4.8, 3. , 1.4, 0.3, 0. ],\n",
              "       [5.7, 4.4, 1.5, 0.4, 0. ],\n",
              "       [6.5, 3. , 5.5, 1.8, 2. ],\n",
              "       [5.8, 2.7, 4.1, 1. , 1. ],\n",
              "       [6.7, 3.3, 5.7, 2.5, 2. ],\n",
              "       [5.7, 2.8, 4.1, 1.3, 1. ],\n",
              "       [6.9, 3.2, 5.7, 2.3, 2. ],\n",
              "       [6.7, 3.1, 5.6, 2.4, 2. ],\n",
              "       [6.7, 3. , 5. , 1.7, 1. ]])"
            ]
          },
          "metadata": {},
          "execution_count": 21
        }
      ]
    },
    {
      "cell_type": "code",
      "source": [
        "df[4].hist() #review the number of each class"
      ],
      "metadata": {
        "colab": {
          "base_uri": "https://localhost:8080/",
          "height": 282
        },
        "id": "4Yn6PeNNYj1l",
        "outputId": "9e5e8591-2ee9-4b40-dc7e-5b7b01ea2e24"
      },
      "execution_count": 22,
      "outputs": [
        {
          "output_type": "execute_result",
          "data": {
            "text/plain": [
              "<matplotlib.axes._subplots.AxesSubplot at 0x7fdfffd5f090>"
            ]
          },
          "metadata": {},
          "execution_count": 22
        },
        {
          "output_type": "display_data",
          "data": {
            "image/png": "[encoded data removed]",
            "text/plain": [
              "<Figure size 432x288 with 1 Axes>"
            ]
          },
          "metadata": {
            "needs_background": "light"
          }
        }
      ]
    },
    {
      "cell_type": "markdown",
      "source": [
        "## K-Folds Cross-Validattion"
      ],
      "metadata": {
        "id": "PR5lmT2KZNIV"
      }
    },
    {
      "cell_type": "code",
      "source": [
        "from sklearn.model_selection import KFold\n",
        "kf = KFold(n_splits=5)\n",
        "kf.get_n_splits(df)\n",
        "print(kf)"
      ],
      "metadata": {
        "colab": {
          "base_uri": "https://localhost:8080/"
        },
        "id": "hM3r0HqBYm4W",
        "outputId": "a5900d45-802d-4dbf-b527-5895d842b2ca"
      },
      "execution_count": 23,
      "outputs": [
        {
          "output_type": "stream",
          "name": "stdout",
          "text": [
            "KFold(n_splits=5, random_state=None, shuffle=False)\n"
          ]
        }
      ]
    },
    {
      "cell_type": "code",
      "source": [
        "def get_class(class_dict):\n",
        "  cl = -1\n",
        "  max = -1\n",
        "  for c,p in class_dict.items():\n",
        "    if p>max:\n",
        "      cl=c\n",
        "      max=p\n",
        "  return(cl)\n",
        "\n",
        "errors =[]\n",
        "for train_index, test_index in kf.split(df):\n",
        "  #print(\"TRAIN:\", train_index, \"TEST:\", test_index)\n",
        "  X_train, X_test = df.iloc[train_index], df.iloc[test_index]\n",
        "  summaries = summarize_by_class(X_train.to_numpy())\n",
        "\n",
        "  for i,row in X_test.iterrows():\n",
        "    classes = calculate_class_probabilities(summaries, row.to_numpy())\n",
        "    cl = get_class(classes)\n",
        "    errors.append(abs(row[4]-cl))"
      ],
      "metadata": {
        "id": "mJZ2xnD1Yo0t"
      },
      "execution_count": 24,
      "outputs": []
    },
    {
      "cell_type": "code",
      "source": [
        "mean(errors)"
      ],
      "metadata": {
        "colab": {
          "base_uri": "https://localhost:8080/"
        },
        "id": "8Wl_rqNqYsUg",
        "outputId": "7c02601e-fe39-48bb-ebbc-7ae60ea0ca7b"
      },
      "execution_count": 25,
      "outputs": [
        {
          "output_type": "execute_result",
          "data": {
            "text/plain": [
              "0.05333333333333334"
            ]
          },
          "metadata": {},
          "execution_count": 25
        }
      ]
    }
  ]
}