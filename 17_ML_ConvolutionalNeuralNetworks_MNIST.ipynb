{
  "nbformat": 4,
  "nbformat_minor": 0,
  "metadata": {
    "colab": {
      "name": "17_ML_ConvolutionalNeuralNetworks_MNIST.ipynb",
      "provenance": [],
      "authorship_tag": "ABX9TyPa++bKsvbhTwUIuED43jdI",
      "include_colab_link": true
    },
    "kernelspec": {
      "name": "python3",
      "display_name": "Python 3"
    },
    "language_info": {
      "name": "python"
    }
  },
  "cells": [
    {
      "cell_type": "markdown",
      "metadata": {
        "id": "view-in-github",
        "colab_type": "text"
      },
      "source": [
        "<a href=\"https://colab.research.google.com/github/cychen116/DataAnalysis_practice/blob/main/17_ML_ConvolutionalNeuralNetworks_MNIST.ipynb\" target=\"_parent\"><img src=\"https://colab.research.google.com/assets/colab-badge.svg\" alt=\"Open In Colab\"/></a>"
      ]
    },
    {
      "cell_type": "code",
      "execution_count": 4,
      "metadata": {
        "id": "Bpejfo7m_3Qy"
      },
      "outputs": [],
      "source": [
        "from numpy import mean\n",
        "from numpy import std\n",
        "from matplotlib import pyplot\n",
        "from sklearn.model_selection import KFold\n",
        "import tensorflow as tf\n",
        "from keras.datasets import mnist, cifar10\n",
        "from tensorflow.keras.utils import to_categorical\n",
        "from keras.models import Sequential #<<<-- Neural Network class\n",
        "from keras.layers import Conv2D #<<<--- Convolutional layre\n",
        "from keras.layers import MaxPooling2D #<<< -- pooling layer\n",
        "from keras.layers import Dense #<<<\n",
        "from keras.layers import Flatten #<<<\n",
        "from tensorflow.keras.optimizers import SGD #<<< Simple Graddient Descent"
      ]
    },
    {
      "cell_type": "code",
      "source": [
        "from tensorflow.python.client import device_lib\n",
        "device_lib.list_local_devices()"
      ],
      "metadata": {
        "colab": {
          "base_uri": "https://localhost:8080/"
        },
        "id": "7P5mw9m-AAXe",
        "outputId": "885f9c13-522f-40a5-eddd-75f4dcc1c39a"
      },
      "execution_count": 5,
      "outputs": [
        {
          "output_type": "execute_result",
          "data": {
            "text/plain": [
              "[name: \"/device:CPU:0\"\n",
              " device_type: \"CPU\"\n",
              " memory_limit: 268435456\n",
              " locality {\n",
              " }\n",
              " incarnation: 2184580212662877906\n",
              " xla_global_id: -1]"
            ]
          },
          "metadata": {},
          "execution_count": 5
        }
      ]
    },
    {
      "cell_type": "code",
      "source": [
        "def load_dataset():\n",
        "  # load dataset\n",
        "  (trainX, trainY), (testX, testY) = mnist.load_data()\n",
        "  # reshape dataset to have a single channel\n",
        "  trainX = trainX.reshape((trainX.shape[0], 28, 28, 1))\n",
        "  testX = testX.reshape((testX.shape[0], 28, 28, 1))\n",
        "  # one hot encode target values\n",
        "  trainY = to_categorical(trainY)\n",
        "  testY = to_categorical(testY)\n",
        "  return trainX, trainY, testX, testY"
      ],
      "metadata": {
        "id": "eCbM9PJEACYj"
      },
      "execution_count": 6,
      "outputs": []
    },
    {
      "cell_type": "code",
      "source": [
        "trainX, trainY, testX, testY = load_dataset()"
      ],
      "metadata": {
        "colab": {
          "base_uri": "https://localhost:8080/"
        },
        "id": "9KGM1wFqA3p4",
        "outputId": "76a9d0aa-61b4-434d-c704-e8eb25812e63"
      },
      "execution_count": 8,
      "outputs": [
        {
          "output_type": "stream",
          "name": "stdout",
          "text": [
            "Downloading data from https://storage.googleapis.com/tensorflow/tf-keras-datasets/mnist.npz\n",
            "11493376/11490434 [==============================] - 0s 0us/step\n",
            "11501568/11490434 [==============================] - 0s 0us/step\n"
          ]
        }
      ]
    },
    {
      "cell_type": "code",
      "source": [
        "# scale pixels\n",
        "def prep_pixels(train, test):\n",
        "\t# convert from integers to floats\n",
        "\ttrain_norm = train.astype('float32')\n",
        "\ttest_norm = test.astype('float32')\n",
        "\t# normalize to range 0-1\n",
        "\ttrain_norm = train_norm / 255.0\n",
        "\ttest_norm = test_norm / 255.0\n",
        "\t# return normalized images\n",
        "\treturn train_norm, test_norm"
      ],
      "metadata": {
        "id": "F-tUuUIqA_Y7"
      },
      "execution_count": 9,
      "outputs": []
    },
    {
      "cell_type": "code",
      "source": [
        "trainX, testX = prep_pixels(trainX, testX)\n",
        "trainX[0].shape"
      ],
      "metadata": {
        "colab": {
          "base_uri": "https://localhost:8080/"
        },
        "id": "VjczZVRJA_rU",
        "outputId": "64e42a6e-11b9-4c2a-ae7f-2547e2a10c1c"
      },
      "execution_count": 10,
      "outputs": [
        {
          "output_type": "execute_result",
          "data": {
            "text/plain": [
              "(28, 28, 1)"
            ]
          },
          "metadata": {},
          "execution_count": 10
        }
      ]
    },
    {
      "cell_type": "code",
      "source": [
        "def define_model():\n",
        "  model = Sequential()\n",
        "  model.add(Conv2D(64,(5,5),activation='relu',kernel_initializer='he_uniform',input_shape=(28, 28, 1)))\n",
        "  model.add(MaxPooling2D((2, 2)))\n",
        "  model.add(Flatten())\n",
        "  model.add(Dense(128, activation='relu', kernel_initializer='he_uniform'))\n",
        "  model.add(Dense(10, activation='softmax'))\n",
        "  opt = SGD(lr=0.01, momentum=0.9)\n",
        "  model.compile(optimizer=opt, loss='categorical_crossentropy', metrics=['accuracy'])\n",
        "  return(model)\n",
        "  \n",
        "def evaluate_model(dataX, dataY, n_folds=2):\n",
        "  scores, histories = list(), list()\n",
        "  # prepare cross validation\n",
        "  kfold = KFold(n_folds, shuffle=True, random_state=1)\n",
        "\n",
        "  i=0\n",
        "  for train_ix, test_ix in kfold.split(dataX):\n",
        "    print(\"Fold\",i)\n",
        "    i+=1\n",
        "\n",
        "    model=define_model()\n",
        "    trainX, trainY, testX, testY = dataX[train_ix], dataY[train_ix], dataX[test_ix], dataY[test_ix]\n",
        "    history = model.fit(trainX, trainY,epochs=10, batch_size=32, validation_data=(testX, testY), verbose=1)\n",
        "    _, acc = model.evaluate(testX, testY, verbose=1)\n",
        "    print('> %.3f' % (acc * 100.0))\n",
        "    scores.append(acc)\n",
        "    histories.append(history)\n",
        "  return scores, histories"
      ],
      "metadata": {
        "id": "0YC6FpsmBE0j"
      },
      "execution_count": 11,
      "outputs": []
    },
    {
      "cell_type": "code",
      "source": [
        "scores, histories = evaluate_model(trainX, trainY)"
      ],
      "metadata": {
        "colab": {
          "base_uri": "https://localhost:8080/"
        },
        "id": "hS9hSCdBBJ1c",
        "outputId": "43b557ef-5daf-457d-de3a-de13c85736a7"
      },
      "execution_count": 12,
      "outputs": [
        {
          "output_type": "stream",
          "name": "stdout",
          "text": [
            "Fold 0\n"
          ]
        },
        {
          "output_type": "stream",
          "name": "stderr",
          "text": [
            "/usr/local/lib/python3.7/dist-packages/keras/optimizer_v2/gradient_descent.py:102: UserWarning: The `lr` argument is deprecated, use `learning_rate` instead.\n",
            "  super(SGD, self).__init__(name, **kwargs)\n"
          ]
        },
        {
          "output_type": "stream",
          "name": "stdout",
          "text": [
            "Epoch 1/10\n",
            "938/938 [==============================] - 34s 36ms/step - loss: 0.2116 - accuracy: 0.9342 - val_loss: 0.0977 - val_accuracy: 0.9703\n",
            "Epoch 2/10\n",
            "938/938 [==============================] - 34s 36ms/step - loss: 0.0635 - accuracy: 0.9797 - val_loss: 0.0698 - val_accuracy: 0.9788\n",
            "Epoch 3/10\n",
            "938/938 [==============================] - 32s 34ms/step - loss: 0.0378 - accuracy: 0.9881 - val_loss: 0.0580 - val_accuracy: 0.9826\n",
            "Epoch 4/10\n",
            "938/938 [==============================] - 32s 34ms/step - loss: 0.0220 - accuracy: 0.9935 - val_loss: 0.0644 - val_accuracy: 0.9813\n",
            "Epoch 5/10\n",
            "938/938 [==============================] - 33s 35ms/step - loss: 0.0153 - accuracy: 0.9956 - val_loss: 0.0552 - val_accuracy: 0.9836\n",
            "Epoch 6/10\n",
            "938/938 [==============================] - 33s 35ms/step - loss: 0.0093 - accuracy: 0.9976 - val_loss: 0.0565 - val_accuracy: 0.9844\n",
            "Epoch 7/10\n",
            "938/938 [==============================] - 32s 34ms/step - loss: 0.0061 - accuracy: 0.9989 - val_loss: 0.0548 - val_accuracy: 0.9846\n",
            "Epoch 8/10\n",
            "938/938 [==============================] - 31s 33ms/step - loss: 0.0037 - accuracy: 0.9993 - val_loss: 0.0537 - val_accuracy: 0.9857\n",
            "Epoch 9/10\n",
            "938/938 [==============================] - 31s 33ms/step - loss: 0.0025 - accuracy: 0.9996 - val_loss: 0.0548 - val_accuracy: 0.9857\n",
            "Epoch 10/10\n",
            "938/938 [==============================] - 31s 33ms/step - loss: 0.0016 - accuracy: 0.9999 - val_loss: 0.0552 - val_accuracy: 0.9861\n",
            "938/938 [==============================] - 7s 7ms/step - loss: 0.0552 - accuracy: 0.9861\n",
            "> 98.610\n",
            "Fold 1\n",
            "Epoch 1/10\n",
            "938/938 [==============================] - 32s 34ms/step - loss: 0.2004 - accuracy: 0.9396 - val_loss: 0.0889 - val_accuracy: 0.9733\n",
            "Epoch 2/10\n",
            "938/938 [==============================] - 32s 34ms/step - loss: 0.0618 - accuracy: 0.9814 - val_loss: 0.0576 - val_accuracy: 0.9823\n",
            "Epoch 3/10\n",
            "938/938 [==============================] - 32s 34ms/step - loss: 0.0392 - accuracy: 0.9880 - val_loss: 0.0608 - val_accuracy: 0.9815\n",
            "Epoch 4/10\n",
            "938/938 [==============================] - 32s 34ms/step - loss: 0.0246 - accuracy: 0.9925 - val_loss: 0.0584 - val_accuracy: 0.9830\n",
            "Epoch 5/10\n",
            "938/938 [==============================] - 32s 34ms/step - loss: 0.0162 - accuracy: 0.9956 - val_loss: 0.0505 - val_accuracy: 0.9856\n",
            "Epoch 6/10\n",
            "938/938 [==============================] - 32s 34ms/step - loss: 0.0104 - accuracy: 0.9974 - val_loss: 0.0518 - val_accuracy: 0.9862\n",
            "Epoch 7/10\n",
            "938/938 [==============================] - 31s 34ms/step - loss: 0.0058 - accuracy: 0.9989 - val_loss: 0.0530 - val_accuracy: 0.9858\n",
            "Epoch 8/10\n",
            "938/938 [==============================] - 32s 34ms/step - loss: 0.0041 - accuracy: 0.9994 - val_loss: 0.0486 - val_accuracy: 0.9876\n",
            "Epoch 9/10\n",
            "938/938 [==============================] - 32s 34ms/step - loss: 0.0025 - accuracy: 0.9998 - val_loss: 0.0495 - val_accuracy: 0.9873\n",
            "Epoch 10/10\n",
            "938/938 [==============================] - 32s 34ms/step - loss: 0.0015 - accuracy: 0.9999 - val_loss: 0.0504 - val_accuracy: 0.9875\n",
            "938/938 [==============================] - 7s 7ms/step - loss: 0.0504 - accuracy: 0.9875\n",
            "> 98.750\n"
          ]
        }
      ]
    },
    {
      "cell_type": "code",
      "source": [
        "model=define_model()\n",
        "history = model.fit(trainX, trainY,epochs=5, batch_size=32, validation_data=(testX, testY), verbose=1)"
      ],
      "metadata": {
        "colab": {
          "base_uri": "https://localhost:8080/"
        },
        "id": "bDWVTViCBOpZ",
        "outputId": "c8694e1a-e02b-4723-e839-ffc2cd459686"
      },
      "execution_count": 13,
      "outputs": [
        {
          "output_type": "stream",
          "name": "stdout",
          "text": [
            "Epoch 1/5\n"
          ]
        },
        {
          "output_type": "stream",
          "name": "stderr",
          "text": [
            "/usr/local/lib/python3.7/dist-packages/keras/optimizer_v2/gradient_descent.py:102: UserWarning: The `lr` argument is deprecated, use `learning_rate` instead.\n",
            "  super(SGD, self).__init__(name, **kwargs)\n"
          ]
        },
        {
          "output_type": "stream",
          "name": "stdout",
          "text": [
            "1875/1875 [==============================] - 56s 30ms/step - loss: 0.1400 - accuracy: 0.9567 - val_loss: 0.0483 - val_accuracy: 0.9859\n",
            "Epoch 2/5\n",
            "1875/1875 [==============================] - 53s 28ms/step - loss: 0.0447 - accuracy: 0.9869 - val_loss: 0.0355 - val_accuracy: 0.9890\n",
            "Epoch 3/5\n",
            "1875/1875 [==============================] - 54s 29ms/step - loss: 0.0280 - accuracy: 0.9914 - val_loss: 0.0327 - val_accuracy: 0.9883\n",
            "Epoch 4/5\n",
            "1875/1875 [==============================] - 53s 28ms/step - loss: 0.0180 - accuracy: 0.9948 - val_loss: 0.0350 - val_accuracy: 0.9877\n",
            "Epoch 5/5\n",
            "1875/1875 [==============================] - 52s 28ms/step - loss: 0.0125 - accuracy: 0.9966 - val_loss: 0.0349 - val_accuracy: 0.9893\n"
          ]
        }
      ]
    },
    {
      "cell_type": "code",
      "source": [
        "conv=model.layers[0]"
      ],
      "metadata": {
        "id": "9Q7z5R4uBSDV"
      },
      "execution_count": 14,
      "outputs": []
    },
    {
      "cell_type": "code",
      "source": [
        "import numpy as np\n",
        "kernels = np.zeros((32,3,3))\n",
        "for i in range(3):\n",
        "  for j in range(3):\n",
        "    for k in range(32):\n",
        "      print(conv.weights[i][j][k])\n",
        "      #kernels[k][i][j]="
      ],
      "metadata": {
        "colab": {
          "base_uri": "https://localhost:8080/",
          "height": 1000
        },
        "id": "o8IEeML4BTuL",
        "outputId": "1af6b979-2560-486e-926b-5ace7f826c04"
      },
      "execution_count": 15,
      "outputs": [
        {
          "output_type": "stream",
          "name": "stdout",
          "text": [
            "tf.Tensor(\n",
            "[[ 0.2931364  -0.09989862 -0.5154263   0.20816976  0.12465586 -0.55443776\n",
            "  -0.08635303  0.39494047  0.35670996 -0.28895333  0.24652761 -0.29174325\n",
            "  -0.499621    0.15806916  0.19699919 -0.35094026 -0.3067524  -0.2518922\n",
            "   0.3955405  -0.10204446  0.16120034  0.26173532  0.40628886 -0.06772821\n",
            "   0.20538114 -0.34234494 -0.17503281  0.33050245 -0.26094767 -0.36705408\n",
            "  -0.24054107 -0.27437615  0.2454468  -0.0240577  -0.16188473 -0.0571483\n",
            "  -0.10473654  0.35914785 -0.1585738   0.21669112 -0.5828284   0.40966168\n",
            "   0.31239814  0.15989074  0.02662769 -0.5278803   0.33187324 -0.09646077\n",
            "  -0.45974985  0.09127772 -0.07099057  0.29653075 -0.23722866  0.3105822\n",
            "  -0.4621613  -0.18539229 -0.32469735  0.18218148 -0.48310798  0.01946167\n",
            "   0.2487121   0.41646188 -0.05616592 -0.30267447]], shape=(1, 64), dtype=float32)\n",
            "tf.Tensor(\n",
            "[[-0.42765048 -0.19637361  0.10949373 -0.02263068 -0.26971027 -0.37846246\n",
            "  -0.06697907 -0.08312245 -0.24456924 -0.35341924  0.0232786   0.14928849\n",
            "   0.3256767   0.03763169 -0.0314827   0.07782548  0.28947595 -0.00514369\n",
            "  -0.18173826 -0.29700652 -0.372119    0.05021943 -0.30551785  0.09362464\n",
            "   0.3421387   0.33704048 -0.25634277 -0.35841456  0.34896556  0.02100708\n",
            "   0.01669336 -0.02576061 -0.02829539 -0.48183507 -0.04205956 -0.14345545\n",
            "  -0.36496237  0.05545842  0.5552847  -0.10880315  0.11142153  0.37390584\n",
            "   0.08856212 -0.44655392 -0.3749289  -0.16203487 -0.36185348  0.3743996\n",
            "   0.0824957   0.15498415  0.03890383  0.3107805  -0.34735596 -0.16557382\n",
            "   0.50450486 -0.18771747 -0.25971502  0.22359642  0.40418822 -0.08600721\n",
            "   0.07459028  0.13023444  0.15747802  0.07571109]], shape=(1, 64), dtype=float32)\n",
            "tf.Tensor(\n",
            "[[-0.44319138  0.24240829 -0.31817517 -0.48654336  0.18270907 -0.15482521\n",
            "   0.42836124  0.32135215  0.18653639 -0.4344158  -0.2589809   0.2591864\n",
            "   0.04475011  0.35093483  0.01245142 -0.4594637  -0.05961823  0.30554157\n",
            "   0.4566467   0.13690457  0.14983504  0.0714156   0.3361802   0.0808465\n",
            "   0.49444363  0.06256016 -0.23999941 -0.55918425 -0.36954367  0.2212685\n",
            "  -0.29097983 -0.07837401  0.35946688 -0.08939072  0.16508833 -0.4784658\n",
            "  -0.45173976 -0.40123814  0.31989363  0.02138968 -0.23982127  0.22257665\n",
            "   0.10250455 -0.00629754 -0.4148989   0.555038   -0.11865157  0.00490007\n",
            "   0.05211256  0.28842324 -0.21913944 -0.10318082 -0.5067446   0.33849388\n",
            "   0.21525738 -0.52628535  0.21277994  0.05349057  0.32940394  0.47716025\n",
            "  -0.40669975  0.32960737 -0.04912878  0.39138278]], shape=(1, 64), dtype=float32)\n",
            "tf.Tensor(\n",
            "[[ 0.17043073 -0.2201926  -0.03916149  0.03897571 -0.29592502 -0.47079557\n",
            "  -0.15160942 -0.07272966  0.04496078 -0.4145189  -0.53382784 -0.08667053\n",
            "  -0.49806336  0.25999328 -0.15907428  0.14073068 -0.032376    0.12569337\n",
            "  -0.30434486 -0.5482488  -0.2503004   0.46515986  0.10166902 -0.49403554\n",
            "   0.4805476   0.24252483 -0.3261413  -0.50660586 -0.36750305 -0.20242919\n",
            "   0.21240926 -0.05166445  0.08881942 -0.03343942  0.4113212  -0.24289235\n",
            "  -0.17354456 -0.4996506  -0.11162785  0.37253168  0.25309733  0.24477759\n",
            "   0.39326814 -0.02548181  0.30855379 -0.07838397  0.5293497  -0.14748509\n",
            "  -0.5167438  -0.45051724 -0.18970129 -0.18384741  0.30198425  0.21132916\n",
            "  -0.19823346 -0.12851122 -0.27260056  0.04826529  0.23843856  0.02382297\n",
            "   0.14974552  0.01581818  0.2178708   0.10330521]], shape=(1, 64), dtype=float32)\n",
            "tf.Tensor(\n",
            "[[-0.2803911  -0.10442582  0.12185059 -0.5299712  -0.49109012 -0.12615332\n",
            "   0.45983738  0.06229151  0.23107184 -0.4030493   0.00399011 -0.35556448\n",
            "   0.11608823 -0.37456778  0.58633953  0.47822154  0.37510243 -0.52922755\n",
            "  -0.5891458   0.23063664  0.19835253 -0.26906988 -0.31205976 -0.04041565\n",
            "   0.34217575  0.33245346 -0.2972294  -0.4170185  -0.0108069   0.13193175\n",
            "  -0.4249457  -0.32953313 -0.03343546 -0.4646241  -0.19144781 -0.26082316\n",
            "  -0.17527133 -0.08750045 -0.44836736  0.3083495   0.28802526 -0.41765377\n",
            "  -0.29256776  0.27486324  0.13702692  0.01871655  0.545396    0.18645108\n",
            "   0.56719446 -0.5041487  -0.02285011  0.0304675   0.02275417 -0.11912424\n",
            "  -0.40873718 -0.01246633  0.37651154  0.28497413 -0.3721705  -0.29296392\n",
            "  -0.16766146  0.5413976   0.10227239  0.17623132]], shape=(1, 64), dtype=float32)\n"
          ]
        },
        {
          "output_type": "error",
          "ename": "InvalidArgumentError",
          "evalue": "ignored",
          "traceback": [
            "\u001b[0;31m---------------------------------------------------------------------------\u001b[0m",
            "\u001b[0;31mInvalidArgumentError\u001b[0m                      Traceback (most recent call last)",
            "\u001b[0;32m<ipython-input-15-d25f809c5a16>\u001b[0m in \u001b[0;36m<module>\u001b[0;34m()\u001b[0m\n\u001b[1;32m      4\u001b[0m   \u001b[0;32mfor\u001b[0m \u001b[0mj\u001b[0m \u001b[0;32min\u001b[0m \u001b[0mrange\u001b[0m\u001b[0;34m(\u001b[0m\u001b[0;36m3\u001b[0m\u001b[0;34m)\u001b[0m\u001b[0;34m:\u001b[0m\u001b[0;34m\u001b[0m\u001b[0;34m\u001b[0m\u001b[0m\n\u001b[1;32m      5\u001b[0m     \u001b[0;32mfor\u001b[0m \u001b[0mk\u001b[0m \u001b[0;32min\u001b[0m \u001b[0mrange\u001b[0m\u001b[0;34m(\u001b[0m\u001b[0;36m32\u001b[0m\u001b[0;34m)\u001b[0m\u001b[0;34m:\u001b[0m\u001b[0;34m\u001b[0m\u001b[0;34m\u001b[0m\u001b[0m\n\u001b[0;32m----> 6\u001b[0;31m       \u001b[0mprint\u001b[0m\u001b[0;34m(\u001b[0m\u001b[0mconv\u001b[0m\u001b[0;34m.\u001b[0m\u001b[0mweights\u001b[0m\u001b[0;34m[\u001b[0m\u001b[0mi\u001b[0m\u001b[0;34m]\u001b[0m\u001b[0;34m[\u001b[0m\u001b[0mj\u001b[0m\u001b[0;34m]\u001b[0m\u001b[0;34m[\u001b[0m\u001b[0mk\u001b[0m\u001b[0;34m]\u001b[0m\u001b[0;34m)\u001b[0m\u001b[0;34m\u001b[0m\u001b[0;34m\u001b[0m\u001b[0m\n\u001b[0m\u001b[1;32m      7\u001b[0m       \u001b[0;31m#kernels[k][i][j]=\u001b[0m\u001b[0;34m\u001b[0m\u001b[0;34m\u001b[0m\u001b[0;34m\u001b[0m\u001b[0m\n",
            "\u001b[0;32m/usr/local/lib/python3.7/dist-packages/tensorflow/python/util/traceback_utils.py\u001b[0m in \u001b[0;36merror_handler\u001b[0;34m(*args, **kwargs)\u001b[0m\n\u001b[1;32m    151\u001b[0m     \u001b[0;32mexcept\u001b[0m \u001b[0mException\u001b[0m \u001b[0;32mas\u001b[0m \u001b[0me\u001b[0m\u001b[0;34m:\u001b[0m\u001b[0;34m\u001b[0m\u001b[0;34m\u001b[0m\u001b[0m\n\u001b[1;32m    152\u001b[0m       \u001b[0mfiltered_tb\u001b[0m \u001b[0;34m=\u001b[0m \u001b[0m_process_traceback_frames\u001b[0m\u001b[0;34m(\u001b[0m\u001b[0me\u001b[0m\u001b[0;34m.\u001b[0m\u001b[0m__traceback__\u001b[0m\u001b[0;34m)\u001b[0m\u001b[0;34m\u001b[0m\u001b[0;34m\u001b[0m\u001b[0m\n\u001b[0;32m--> 153\u001b[0;31m       \u001b[0;32mraise\u001b[0m \u001b[0me\u001b[0m\u001b[0;34m.\u001b[0m\u001b[0mwith_traceback\u001b[0m\u001b[0;34m(\u001b[0m\u001b[0mfiltered_tb\u001b[0m\u001b[0;34m)\u001b[0m \u001b[0;32mfrom\u001b[0m \u001b[0;32mNone\u001b[0m\u001b[0;34m\u001b[0m\u001b[0;34m\u001b[0m\u001b[0m\n\u001b[0m\u001b[1;32m    154\u001b[0m     \u001b[0;32mfinally\u001b[0m\u001b[0;34m:\u001b[0m\u001b[0;34m\u001b[0m\u001b[0;34m\u001b[0m\u001b[0m\n\u001b[1;32m    155\u001b[0m       \u001b[0;32mdel\u001b[0m \u001b[0mfiltered_tb\u001b[0m\u001b[0;34m\u001b[0m\u001b[0;34m\u001b[0m\u001b[0m\n",
            "\u001b[0;32m/usr/local/lib/python3.7/dist-packages/tensorflow/python/framework/ops.py\u001b[0m in \u001b[0;36mraise_from_not_ok_status\u001b[0;34m(e, name)\u001b[0m\n\u001b[1;32m   7184\u001b[0m \u001b[0;32mdef\u001b[0m \u001b[0mraise_from_not_ok_status\u001b[0m\u001b[0;34m(\u001b[0m\u001b[0me\u001b[0m\u001b[0;34m,\u001b[0m \u001b[0mname\u001b[0m\u001b[0;34m)\u001b[0m\u001b[0;34m:\u001b[0m\u001b[0;34m\u001b[0m\u001b[0;34m\u001b[0m\u001b[0m\n\u001b[1;32m   7185\u001b[0m   \u001b[0me\u001b[0m\u001b[0;34m.\u001b[0m\u001b[0mmessage\u001b[0m \u001b[0;34m+=\u001b[0m \u001b[0;34m(\u001b[0m\u001b[0;34m\" name: \"\u001b[0m \u001b[0;34m+\u001b[0m \u001b[0mname\u001b[0m \u001b[0;32mif\u001b[0m \u001b[0mname\u001b[0m \u001b[0;32mis\u001b[0m \u001b[0;32mnot\u001b[0m \u001b[0;32mNone\u001b[0m \u001b[0;32melse\u001b[0m \u001b[0;34m\"\"\u001b[0m\u001b[0;34m)\u001b[0m\u001b[0;34m\u001b[0m\u001b[0;34m\u001b[0m\u001b[0m\n\u001b[0;32m-> 7186\u001b[0;31m   \u001b[0;32mraise\u001b[0m \u001b[0mcore\u001b[0m\u001b[0;34m.\u001b[0m\u001b[0m_status_to_exception\u001b[0m\u001b[0;34m(\u001b[0m\u001b[0me\u001b[0m\u001b[0;34m)\u001b[0m \u001b[0;32mfrom\u001b[0m \u001b[0;32mNone\u001b[0m  \u001b[0;31m# pylint: disable=protected-access\u001b[0m\u001b[0;34m\u001b[0m\u001b[0;34m\u001b[0m\u001b[0m\n\u001b[0m\u001b[1;32m   7187\u001b[0m \u001b[0;34m\u001b[0m\u001b[0m\n\u001b[1;32m   7188\u001b[0m \u001b[0;34m\u001b[0m\u001b[0m\n",
            "\u001b[0;31mInvalidArgumentError\u001b[0m: slice index 5 of dimension 0 out of bounds. [Op:StridedSlice] name: strided_slice/"
          ]
        }
      ]
    },
    {
      "cell_type": "code",
      "source": [
        "def restack_kernel(kernel, separator_width=0, separator_value=0.0):\n",
        "    #split the tensor into 2D slices and then restack them\n",
        "    stack = []\n",
        "    \n",
        "    n1, n2, n3, n4 = kernel.shape\n",
        "    for i in range(n3):\n",
        "        cur_slices = []\n",
        "        for j in range(n4):\n",
        "            cur_slices.append(kernel[:, :, i, j])\n",
        "            if j != n4-1 and separator_width > 0:\n",
        "                #add in a vertical separator image\n",
        "                cur_slices.append(np.repeat(separator_value, n1).reshape((-1, 1)))\n",
        "        row_stack = np.hstack(cur_slices)\n",
        "        stack.append(row_stack)\n",
        "        if i != n3-1 and separator_width > 0:\n",
        "            #add a horizontal separator\n",
        "            stack.append(np.repeat(separator_value, row_stack.shape[1]).reshape((1, -1)))\n",
        "    \n",
        "    stacked = np.vstack(stack)\n",
        "    return stacked\n",
        "\n",
        "def stacked_heatmaps_kernel_plot(\n",
        "    kernel, \n",
        "    axis_ordering=None,\n",
        "    clip_percentile=99.5,\n",
        "    separator_width=1,\n",
        "    separator_value=0.0,\n",
        "    cmap=None,\n",
        "    ax=None,\n",
        "    imshow_kwargs=None,\n",
        "):\n",
        "    #optionally reorder the axes \n",
        "    if not axis_ordering is None:\n",
        "        kernel = kernel.transpose(axis_ordering)\n",
        "    \n",
        "    if cmap is None:\n",
        "        cmap = 'RdYlBu_r'\n",
        "    \n",
        "    if ax is None:\n",
        "        fig, ax = plt.subplots()\n",
        "        \n",
        "    if imshow_kwargs is None:\n",
        "        imshow_kwargs = {}\n",
        "    \n",
        "    stacked = restack_kernel(kernel, separator_width=separator_width, separator_value=separator_value)\n",
        "    \n",
        "    clip_mag = np.percentile(np.abs(stacked), clip_percentile)\n",
        "    \n",
        "    im = ax.imshow(stacked, cmap=cmap, vmin=-clip_mag, vmax=clip_mag, **imshow_kwargs)\n",
        "    return im"
      ],
      "metadata": {
        "id": "6LaQY7XtBWUH"
      },
      "execution_count": 16,
      "outputs": []
    },
    {
      "cell_type": "code",
      "source": [
        "import keras.backend as K\n",
        "conv_kernels = [K.get_value(l.kernel) for l in model.layers if isinstance(l, Conv2D)]"
      ],
      "metadata": {
        "id": "HpoCNSQYBbqt"
      },
      "execution_count": 17,
      "outputs": []
    },
    {
      "cell_type": "code",
      "source": [
        "import matplotlib.pyplot as plt\n",
        "for conv_index, kernel in enumerate(conv_kernels):\n",
        "    figsize=(12, 6)\n",
        "    fig, ax = plt.subplots(figsize=figsize)\n",
        "    ax.set_title(\"Kernel for Conv {} (Spatial Slices)\".format(conv_index))\n",
        "    im = stacked_heatmaps_kernel_plot(kernel, ax=ax)\n",
        "    plt.colorbar(im, fraction=0.015)\n",
        "    ax.set_xticks([])\n",
        "    ax.set_yticks([])\n",
        "    fig.tight_layout()\n",
        "    if conv_index == 1:\n",
        "        #save the second image out as the teaser image for this post\n",
        "        fig.savefig(\"../images/visualizing_convolution_kernels_teaser.png\")\n",
        "    plt.show()"
      ],
      "metadata": {
        "colab": {
          "base_uri": "https://localhost:8080/",
          "height": 283
        },
        "id": "A53dIaAWBeQf",
        "outputId": "89d7d092-5380-4b4d-df3b-3272e753a131"
      },
      "execution_count": 18,
      "outputs": [
        {
          "output_type": "display_data",
          "data": {
            "image/png": "[encoded data removed]",
            "text/plain": [
              "<Figure size 864x432 with 2 Axes>"
            ]
          },
          "metadata": {
            "needs_background": "light"
          }
        }
      ]
    },
    {
      "cell_type": "code",
      "source": [
        ""
      ],
      "metadata": {
        "id": "kgvdR4w-D65Z"
      },
      "execution_count": null,
      "outputs": []
    }
  ]
}