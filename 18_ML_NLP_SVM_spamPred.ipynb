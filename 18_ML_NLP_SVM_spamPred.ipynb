{
  "nbformat": 4,
  "nbformat_minor": 0,
  "metadata": {
    "colab": {
      "name": "18_ML_NLP_SVM_spamPred.ipynb",
      "provenance": [],
      "toc_visible": true,
      "authorship_tag": "ABX9TyPqrWMihTVR68a7fvdprybr",
      "include_colab_link": true
    },
    "kernelspec": {
      "name": "python3",
      "display_name": "Python 3"
    },
    "language_info": {
      "name": "python"
    }
  },
  "cells": [
    {
      "cell_type": "markdown",
      "metadata": {
        "id": "view-in-github",
        "colab_type": "text"
      },
      "source": [
        "<a href=\"https://colab.research.google.com/github/cychen116/DataAnalysis_practice/blob/main/18_ML_NLP_SVM_spamPred.ipynb\" target=\"_parent\"><img src=\"https://colab.research.google.com/assets/colab-badge.svg\" alt=\"Open In Colab\"/></a>"
      ]
    },
    {
      "cell_type": "markdown",
      "source": [
        "#Practice homework:\n",
        "\n",
        "Spam dataset: \n",
        "https://www.kaggle.com/uciml/sms-spam-collection-dataset\n",
        "\n",
        "### Features: \n",
        "* Number of words\n",
        "* \"bag of words\" --\n",
        "** Split text into words, remove punctuation, lower case ✓\n",
        "** Create a matrix where every word is a column ✓\n",
        "** Values: word count in a message or 0 ✓\n",
        "\n",
        "** Think about feature selection -- using coorrelation or P-value or chi-squarred or??? ✓\n",
        "\n",
        "** Train and test an SVM; do a few iterations to refine feature selection ✓"
      ],
      "metadata": {
        "id": "ub7Me28uGKUe"
      }
    },
    {
      "cell_type": "code",
      "execution_count": 1,
      "metadata": {
        "id": "LvHVVjAGGEQG"
      },
      "outputs": [],
      "source": [
        "#Data Basic\n",
        "import pandas as pd\n",
        "import numpy as np\n",
        "# Visualization\n",
        "import matplotlib.pyplot as plt \n",
        "import seaborn as sns\n",
        "sns.set_theme(style=\"white\")"
      ]
    },
    {
      "cell_type": "code",
      "source": [
        "from google.colab import drive\n",
        "drive.mount(\"/content/drive\")\n",
        "data_dir = \"/content/drive/MyDrive/Colab Notebooks/EMSE 6575/Data\""
      ],
      "metadata": {
        "colab": {
          "base_uri": "https://localhost:8080/"
        },
        "id": "QW7ewb5_GVw0",
        "outputId": "90a23b50-ccfc-454e-80fc-13f53864a13b"
      },
      "execution_count": 2,
      "outputs": [
        {
          "output_type": "stream",
          "name": "stdout",
          "text": [
            "Mounted at /content/drive\n"
          ]
        }
      ]
    },
    {
      "cell_type": "markdown",
      "source": [
        "# Loading Data"
      ],
      "metadata": {
        "id": "4m0L_vFwGal7"
      }
    },
    {
      "cell_type": "code",
      "source": [
        "df = pd.read_excel(data_dir + \"/spam_resaved.xlsx\")\n",
        "df = pd.read_excel(data_dir + \"/spam_resaved.xlsx\")\n",
        "df = df[['v1', 'v2']]\n",
        "df.columns = ['category', 'text']\n",
        "df['doc_id'] = df.index\n",
        "df['doc_id'] = df['doc_id'].apply(lambda x: \"doc_\" + str(x))\n",
        "print(df['category'].value_counts())\n",
        "df.head()"
      ],
      "metadata": {
        "colab": {
          "base_uri": "https://localhost:8080/",
          "height": 258
        },
        "id": "63u6gASIGYRS",
        "outputId": "b3010af8-59d9-44d0-d7b0-b38496a0a871"
      },
      "execution_count": 3,
      "outputs": [
        {
          "output_type": "stream",
          "name": "stdout",
          "text": [
            "ham     4825\n",
            "spam     747\n",
            "Name: category, dtype: int64\n"
          ]
        },
        {
          "output_type": "execute_result",
          "data": {
            "text/html": [
              "\n",
              "  <div id=\"df-140690c5-d097-49ce-b4cf-4a4cabe95ee9\">\n",
              "    <div class=\"colab-df-container\">\n",
              "      <div>\n",
              "<style scoped>\n",
              "    .dataframe tbody tr th:only-of-type {\n",
              "        vertical-align: middle;\n",
              "    }\n",
              "\n",
              "    .dataframe tbody tr th {\n",
              "        vertical-align: top;\n",
              "    }\n",
              "\n",
              "    .dataframe thead th {\n",
              "        text-align: right;\n",
              "    }\n",
              "</style>\n",
              "<table border=\"1\" class=\"dataframe\">\n",
              "  <thead>\n",
              "    <tr style=\"text-align: right;\">\n",
              "      <th></th>\n",
              "      <th>category</th>\n",
              "      <th>text</th>\n",
              "      <th>doc_id</th>\n",
              "    </tr>\n",
              "  </thead>\n",
              "  <tbody>\n",
              "    <tr>\n",
              "      <th>0</th>\n",
              "      <td>ham</td>\n",
              "      <td>Go until jurong point, crazy.. Available only ...</td>\n",
              "      <td>doc_0</td>\n",
              "    </tr>\n",
              "    <tr>\n",
              "      <th>1</th>\n",
              "      <td>ham</td>\n",
              "      <td>Ok lar... Joking wif u oni...</td>\n",
              "      <td>doc_1</td>\n",
              "    </tr>\n",
              "    <tr>\n",
              "      <th>2</th>\n",
              "      <td>spam</td>\n",
              "      <td>Free entry in 2 a wkly comp to win FA Cup fina...</td>\n",
              "      <td>doc_2</td>\n",
              "    </tr>\n",
              "    <tr>\n",
              "      <th>3</th>\n",
              "      <td>ham</td>\n",
              "      <td>U dun say so early hor... U c already then say...</td>\n",
              "      <td>doc_3</td>\n",
              "    </tr>\n",
              "    <tr>\n",
              "      <th>4</th>\n",
              "      <td>ham</td>\n",
              "      <td>Nah I don't think he goes to usf, he lives aro...</td>\n",
              "      <td>doc_4</td>\n",
              "    </tr>\n",
              "  </tbody>\n",
              "</table>\n",
              "</div>\n",
              "      <button class=\"colab-df-convert\" onclick=\"convertToInteractive('df-140690c5-d097-49ce-b4cf-4a4cabe95ee9')\"\n",
              "              title=\"Convert this dataframe to an interactive table.\"\n",
              "              style=\"display:none;\">\n",
              "        \n",
              "  <svg xmlns=\"http://www.w3.org/2000/svg\" height=\"24px\"viewBox=\"0 0 24 24\"\n",
              "       width=\"24px\">\n",
              "    <path d=\"M0 0h24v24H0V0z\" fill=\"none\"/>\n",
              "    <path d=\"M18.56 5.44l.94 2.06.94-2.06 2.06-.94-2.06-.94-.94-2.06-.94 2.06-2.06.94zm-11 1L8.5 8.5l.94-2.06 2.06-.94-2.06-.94L8.5 2.5l-.94 2.06-2.06.94zm10 10l.94 2.06.94-2.06 2.06-.94-2.06-.94-.94-2.06-.94 2.06-2.06.94z\"/><path d=\"M17.41 7.96l-1.37-1.37c-.4-.4-.92-.59-1.43-.59-.52 0-1.04.2-1.43.59L10.3 9.45l-7.72 7.72c-.78.78-.78 2.05 0 2.83L4 21.41c.39.39.9.59 1.41.59.51 0 1.02-.2 1.41-.59l7.78-7.78 2.81-2.81c.8-.78.8-2.07 0-2.86zM5.41 20L4 18.59l7.72-7.72 1.47 1.35L5.41 20z\"/>\n",
              "  </svg>\n",
              "      </button>\n",
              "      \n",
              "  <style>\n",
              "    .colab-df-container {\n",
              "      display:flex;\n",
              "      flex-wrap:wrap;\n",
              "      gap: 12px;\n",
              "    }\n",
              "\n",
              "    .colab-df-convert {\n",
              "      background-color: #E8F0FE;\n",
              "      border: none;\n",
              "      border-radius: 50%;\n",
              "      cursor: pointer;\n",
              "      display: none;\n",
              "      fill: #1967D2;\n",
              "      height: 32px;\n",
              "      padding: 0 0 0 0;\n",
              "      width: 32px;\n",
              "    }\n",
              "\n",
              "    .colab-df-convert:hover {\n",
              "      background-color: #E2EBFA;\n",
              "      box-shadow: 0px 1px 2px rgba(60, 64, 67, 0.3), 0px 1px 3px 1px rgba(60, 64, 67, 0.15);\n",
              "      fill: #174EA6;\n",
              "    }\n",
              "\n",
              "    [theme=dark] .colab-df-convert {\n",
              "      background-color: #3B4455;\n",
              "      fill: #D2E3FC;\n",
              "    }\n",
              "\n",
              "    [theme=dark] .colab-df-convert:hover {\n",
              "      background-color: #434B5C;\n",
              "      box-shadow: 0px 1px 3px 1px rgba(0, 0, 0, 0.15);\n",
              "      filter: drop-shadow(0px 1px 2px rgba(0, 0, 0, 0.3));\n",
              "      fill: #FFFFFF;\n",
              "    }\n",
              "  </style>\n",
              "\n",
              "      <script>\n",
              "        const buttonEl =\n",
              "          document.querySelector('#df-140690c5-d097-49ce-b4cf-4a4cabe95ee9 button.colab-df-convert');\n",
              "        buttonEl.style.display =\n",
              "          google.colab.kernel.accessAllowed ? 'block' : 'none';\n",
              "\n",
              "        async function convertToInteractive(key) {\n",
              "          const element = document.querySelector('#df-140690c5-d097-49ce-b4cf-4a4cabe95ee9');\n",
              "          const dataTable =\n",
              "            await google.colab.kernel.invokeFunction('convertToInteractive',\n",
              "                                                     [key], {});\n",
              "          if (!dataTable) return;\n",
              "\n",
              "          const docLinkHtml = 'Like what you see? Visit the ' +\n",
              "            '<a target=\"_blank\" href=https://colab.research.google.com/notebooks/data_table.ipynb>data table notebook</a>'\n",
              "            + ' to learn more about interactive tables.';\n",
              "          element.innerHTML = '';\n",
              "          dataTable['output_type'] = 'display_data';\n",
              "          await google.colab.output.renderOutput(dataTable, element);\n",
              "          const docLink = document.createElement('div');\n",
              "          docLink.innerHTML = docLinkHtml;\n",
              "          element.appendChild(docLink);\n",
              "        }\n",
              "      </script>\n",
              "    </div>\n",
              "  </div>\n",
              "  "
            ],
            "text/plain": [
              "  category                                               text doc_id\n",
              "0      ham  Go until jurong point, crazy.. Available only ...  doc_0\n",
              "1      ham                      Ok lar... Joking wif u oni...  doc_1\n",
              "2     spam  Free entry in 2 a wkly comp to win FA Cup fina...  doc_2\n",
              "3      ham  U dun say so early hor... U c already then say...  doc_3\n",
              "4      ham  Nah I don't think he goes to usf, he lives aro...  doc_4"
            ]
          },
          "metadata": {},
          "execution_count": 3
        }
      ]
    },
    {
      "cell_type": "markdown",
      "source": [
        "# Data Cleaning & Tokenize"
      ],
      "metadata": {
        "id": "avSMbQbwGyvl"
      }
    },
    {
      "cell_type": "code",
      "source": [
        "import nltk\n",
        "import re\n",
        "from nltk.corpus import stopwords\n",
        "nltk.download('stopwords')"
      ],
      "metadata": {
        "colab": {
          "base_uri": "https://localhost:8080/"
        },
        "id": "MovPTx3QGtbq",
        "outputId": "8a7fffc3-dfd6-44ae-81f7-1dc2fe2e07d1"
      },
      "execution_count": 4,
      "outputs": [
        {
          "output_type": "stream",
          "name": "stdout",
          "text": [
            "[nltk_data] Downloading package stopwords to /root/nltk_data...\n",
            "[nltk_data]   Unzipping corpora/stopwords.zip.\n"
          ]
        },
        {
          "output_type": "execute_result",
          "data": {
            "text/plain": [
              "True"
            ]
          },
          "metadata": {},
          "execution_count": 4
        }
      ]
    },
    {
      "cell_type": "code",
      "source": [
        "# Minimal example\n",
        "print(df['text'][0])\n",
        "tokens = str(df['text'][0]).split() # split text\n",
        "tokens = [token.lower() for token in tokens] # lower case\n",
        "tokens = [re.sub(r'[^\\w\\s]','',token) for token in tokens] #Return the string obtained by replacing the leftmost non-overlapping occurrences of pattern in string by the replacement\n",
        "tokens = [token for token in tokens if len(token) >= 3] \n",
        "tokens = [token for token in tokens if not token in stopwords.words()] #remove stop words\n",
        "tokens"
      ],
      "metadata": {
        "colab": {
          "base_uri": "https://localhost:8080/"
        },
        "id": "PeeXngKmG8Bz",
        "outputId": "2544ea86-047c-4fd4-d89f-58e5d57d8fb8"
      },
      "execution_count": 5,
      "outputs": [
        {
          "output_type": "stream",
          "name": "stdout",
          "text": [
            "Go until jurong point, crazy.. Available only in bugis n great world la e buffet... Cine there got amore wat...\n"
          ]
        },
        {
          "output_type": "execute_result",
          "data": {
            "text/plain": [
              "['jurong',\n",
              " 'point',\n",
              " 'crazy',\n",
              " 'available',\n",
              " 'bugis',\n",
              " 'great',\n",
              " 'world',\n",
              " 'buffet',\n",
              " 'got',\n",
              " 'amore']"
            ]
          },
          "metadata": {},
          "execution_count": 5
        }
      ]
    },
    {
      "cell_type": "code",
      "source": [
        "token_dfs = []\n",
        "for i in range(0, len(df)):\n",
        "  # split the text into tokens\n",
        "  tokens = str(df['text'][i]).split()\n",
        "  # drop case\n",
        "  tokens = [token.lower() for token in tokens]\n",
        "  \n",
        "  # create a tidy structure for the parsed and cleaned tokens\n",
        "  temp = pd.DataFrame({'token': tokens})\n",
        "  \n",
        "  # append  unique document id and text category\n",
        "  temp['doc_id'] = df['doc_id'][i]\n",
        "  temp['category'] = df['category'][i]\n",
        "\n",
        "  # collect the temp token dataframes\n",
        "  token_dfs.append(temp)\n",
        "\n",
        "token_df = pd.concat(token_dfs)\n",
        "print(\"Initial token count: \" + str(len(token_df)))\n",
        "\n",
        "#remove stop words\n",
        "token_df = token_df[token_df['token'].isin(stopwords.words()) == False]\n",
        "print(\"Drop stop words: \" + str(len(token_df)))\n",
        "\n",
        "# drop puncuation\n",
        "token_df['token'] = token_df['token'].apply(lambda x: re.sub(r'[^\\w\\s]','',x))  \n",
        "\n",
        "#remove rare words\n",
        "rare_words = token_df['token'].value_counts().reset_index()\n",
        "rare_words.columns = ['term', 'count']         \n",
        "rare_words = rare_words['term'][rare_words['count'] <= 4].tolist()\n",
        "token_df = token_df[token_df['token'].isin(rare_words) == False]\n",
        "print(\"Drop rare words: \" + str(len(token_df)))\n",
        "\n",
        "#remove short words\n",
        "token_df = token_df[token_df['token'].apply(len) >= 3]\n",
        "print(\"Drop short words: \" + str(len(token_df)))\n",
        "\n",
        "token_df.head()"
      ],
      "metadata": {
        "colab": {
          "base_uri": "https://localhost:8080/",
          "height": 276
        },
        "id": "VNcep50TH8Cq",
        "outputId": "8cea19f8-0e41-4448-f869-e84ca577f5ce"
      },
      "execution_count": 6,
      "outputs": [
        {
          "output_type": "stream",
          "name": "stdout",
          "text": [
            "Initial token count: 86333\n",
            "Drop stop words: 51728\n",
            "Drop rare words: 39999\n",
            "Drop short words: 33900\n"
          ]
        },
        {
          "output_type": "execute_result",
          "data": {
            "text/html": [
              "\n",
              "  <div id=\"df-e3d2ccbe-a92a-4d72-b071-47f4e775c19d\">\n",
              "    <div class=\"colab-df-container\">\n",
              "      <div>\n",
              "<style scoped>\n",
              "    .dataframe tbody tr th:only-of-type {\n",
              "        vertical-align: middle;\n",
              "    }\n",
              "\n",
              "    .dataframe tbody tr th {\n",
              "        vertical-align: top;\n",
              "    }\n",
              "\n",
              "    .dataframe thead th {\n",
              "        text-align: right;\n",
              "    }\n",
              "</style>\n",
              "<table border=\"1\" class=\"dataframe\">\n",
              "  <thead>\n",
              "    <tr style=\"text-align: right;\">\n",
              "      <th></th>\n",
              "      <th>token</th>\n",
              "      <th>doc_id</th>\n",
              "      <th>category</th>\n",
              "    </tr>\n",
              "  </thead>\n",
              "  <tbody>\n",
              "    <tr>\n",
              "      <th>3</th>\n",
              "      <td>point</td>\n",
              "      <td>doc_0</td>\n",
              "      <td>ham</td>\n",
              "    </tr>\n",
              "    <tr>\n",
              "      <th>4</th>\n",
              "      <td>crazy</td>\n",
              "      <td>doc_0</td>\n",
              "      <td>ham</td>\n",
              "    </tr>\n",
              "    <tr>\n",
              "      <th>5</th>\n",
              "      <td>available</td>\n",
              "      <td>doc_0</td>\n",
              "      <td>ham</td>\n",
              "    </tr>\n",
              "    <tr>\n",
              "      <th>8</th>\n",
              "      <td>bugis</td>\n",
              "      <td>doc_0</td>\n",
              "      <td>ham</td>\n",
              "    </tr>\n",
              "    <tr>\n",
              "      <th>10</th>\n",
              "      <td>great</td>\n",
              "      <td>doc_0</td>\n",
              "      <td>ham</td>\n",
              "    </tr>\n",
              "  </tbody>\n",
              "</table>\n",
              "</div>\n",
              "      <button class=\"colab-df-convert\" onclick=\"convertToInteractive('df-e3d2ccbe-a92a-4d72-b071-47f4e775c19d')\"\n",
              "              title=\"Convert this dataframe to an interactive table.\"\n",
              "              style=\"display:none;\">\n",
              "        \n",
              "  <svg xmlns=\"http://www.w3.org/2000/svg\" height=\"24px\"viewBox=\"0 0 24 24\"\n",
              "       width=\"24px\">\n",
              "    <path d=\"M0 0h24v24H0V0z\" fill=\"none\"/>\n",
              "    <path d=\"M18.56 5.44l.94 2.06.94-2.06 2.06-.94-2.06-.94-.94-2.06-.94 2.06-2.06.94zm-11 1L8.5 8.5l.94-2.06 2.06-.94-2.06-.94L8.5 2.5l-.94 2.06-2.06.94zm10 10l.94 2.06.94-2.06 2.06-.94-2.06-.94-.94-2.06-.94 2.06-2.06.94z\"/><path d=\"M17.41 7.96l-1.37-1.37c-.4-.4-.92-.59-1.43-.59-.52 0-1.04.2-1.43.59L10.3 9.45l-7.72 7.72c-.78.78-.78 2.05 0 2.83L4 21.41c.39.39.9.59 1.41.59.51 0 1.02-.2 1.41-.59l7.78-7.78 2.81-2.81c.8-.78.8-2.07 0-2.86zM5.41 20L4 18.59l7.72-7.72 1.47 1.35L5.41 20z\"/>\n",
              "  </svg>\n",
              "      </button>\n",
              "      \n",
              "  <style>\n",
              "    .colab-df-container {\n",
              "      display:flex;\n",
              "      flex-wrap:wrap;\n",
              "      gap: 12px;\n",
              "    }\n",
              "\n",
              "    .colab-df-convert {\n",
              "      background-color: #E8F0FE;\n",
              "      border: none;\n",
              "      border-radius: 50%;\n",
              "      cursor: pointer;\n",
              "      display: none;\n",
              "      fill: #1967D2;\n",
              "      height: 32px;\n",
              "      padding: 0 0 0 0;\n",
              "      width: 32px;\n",
              "    }\n",
              "\n",
              "    .colab-df-convert:hover {\n",
              "      background-color: #E2EBFA;\n",
              "      box-shadow: 0px 1px 2px rgba(60, 64, 67, 0.3), 0px 1px 3px 1px rgba(60, 64, 67, 0.15);\n",
              "      fill: #174EA6;\n",
              "    }\n",
              "\n",
              "    [theme=dark] .colab-df-convert {\n",
              "      background-color: #3B4455;\n",
              "      fill: #D2E3FC;\n",
              "    }\n",
              "\n",
              "    [theme=dark] .colab-df-convert:hover {\n",
              "      background-color: #434B5C;\n",
              "      box-shadow: 0px 1px 3px 1px rgba(0, 0, 0, 0.15);\n",
              "      filter: drop-shadow(0px 1px 2px rgba(0, 0, 0, 0.3));\n",
              "      fill: #FFFFFF;\n",
              "    }\n",
              "  </style>\n",
              "\n",
              "      <script>\n",
              "        const buttonEl =\n",
              "          document.querySelector('#df-e3d2ccbe-a92a-4d72-b071-47f4e775c19d button.colab-df-convert');\n",
              "        buttonEl.style.display =\n",
              "          google.colab.kernel.accessAllowed ? 'block' : 'none';\n",
              "\n",
              "        async function convertToInteractive(key) {\n",
              "          const element = document.querySelector('#df-e3d2ccbe-a92a-4d72-b071-47f4e775c19d');\n",
              "          const dataTable =\n",
              "            await google.colab.kernel.invokeFunction('convertToInteractive',\n",
              "                                                     [key], {});\n",
              "          if (!dataTable) return;\n",
              "\n",
              "          const docLinkHtml = 'Like what you see? Visit the ' +\n",
              "            '<a target=\"_blank\" href=https://colab.research.google.com/notebooks/data_table.ipynb>data table notebook</a>'\n",
              "            + ' to learn more about interactive tables.';\n",
              "          element.innerHTML = '';\n",
              "          dataTable['output_type'] = 'display_data';\n",
              "          await google.colab.output.renderOutput(dataTable, element);\n",
              "          const docLink = document.createElement('div');\n",
              "          docLink.innerHTML = docLinkHtml;\n",
              "          element.appendChild(docLink);\n",
              "        }\n",
              "      </script>\n",
              "    </div>\n",
              "  </div>\n",
              "  "
            ],
            "text/plain": [
              "        token doc_id category\n",
              "3       point  doc_0      ham\n",
              "4       crazy  doc_0      ham\n",
              "5   available  doc_0      ham\n",
              "8       bugis  doc_0      ham\n",
              "10      great  doc_0      ham"
            ]
          },
          "metadata": {},
          "execution_count": 6
        }
      ]
    },
    {
      "cell_type": "markdown",
      "source": [
        "# Term Frequency Table"
      ],
      "metadata": {
        "id": "Iu1vJpZpIoSE"
      }
    },
    {
      "cell_type": "code",
      "source": [
        "token_df['token'][df['category'] == 'spam'].value_counts().head(20)"
      ],
      "metadata": {
        "colab": {
          "base_uri": "https://localhost:8080/"
        },
        "id": "HiCNnTGuIbr0",
        "outputId": "a54a89ea-7635-4392-eef1-ac49c2906295"
      },
      "execution_count": 7,
      "outputs": [
        {
          "output_type": "execute_result",
          "data": {
            "text/plain": [
              "call      198\n",
              "get       128\n",
              "know      107\n",
              "like       82\n",
              "got        81\n",
              "ltgt       79\n",
              "send       76\n",
              "free       76\n",
              "now        73\n",
              "text       64\n",
              "going      64\n",
              "time       62\n",
              "you        62\n",
              "need       61\n",
              "mobile     60\n",
              "good       55\n",
              "lor        54\n",
              "home       53\n",
              "day        52\n",
              "back       52\n",
              "Name: token, dtype: int64"
            ]
          },
          "metadata": {},
          "execution_count": 7
        }
      ]
    },
    {
      "cell_type": "code",
      "source": [
        "token_df['token'][df['category'] == 'ham'].value_counts().head(20)"
      ],
      "metadata": {
        "colab": {
          "base_uri": "https://localhost:8080/"
        },
        "id": "mhJZKtH9Iu1N",
        "outputId": "c6142182-d715-4549-b64e-4dde366ec931"
      },
      "execution_count": 8,
      "outputs": [
        {
          "output_type": "execute_result",
          "data": {
            "text/plain": [
              "call     378\n",
              "get      258\n",
              "free     199\n",
              "ltgt     197\n",
              "good     179\n",
              "like     160\n",
              "now      158\n",
              "got      157\n",
              "day      150\n",
              "know     150\n",
              "love     147\n",
              "ill      146\n",
              "time     146\n",
              "you      145\n",
              "sorry    130\n",
              "text     124\n",
              "stop     118\n",
              "txt      117\n",
              "send     114\n",
              "home     109\n",
              "Name: token, dtype: int64"
            ]
          },
          "metadata": {},
          "execution_count": 8
        }
      ]
    },
    {
      "cell_type": "code",
      "source": [
        "# drop common words seen in each category\n",
        "common_words = ['call', 'get', 'free', 'ltgt', 'text', 'you', 'got', 'like',\n",
        "                'send', 'now', 'txt', 'dont']\n",
        "token_df = token_df[token_df['token'].isin(common_words) == False]\n",
        "print(\"Drop common words across data categories: \" + str(len(token_df)))"
      ],
      "metadata": {
        "colab": {
          "base_uri": "https://localhost:8080/"
        },
        "id": "rYXghZxyIwn8",
        "outputId": "300de86e-b143-48be-f112-be667b137e3c"
      },
      "execution_count": 9,
      "outputs": [
        {
          "output_type": "stream",
          "name": "stdout",
          "text": [
            "Drop common words across data categories: 30783\n"
          ]
        }
      ]
    },
    {
      "cell_type": "code",
      "source": [
        "token_df['token'][df['category'] == 'spam'].value_counts().head(20)"
      ],
      "metadata": {
        "colab": {
          "base_uri": "https://localhost:8080/"
        },
        "id": "b4Tzdq3_JA21",
        "outputId": "b9ecb042-2f7f-4d22-d459-b3986263dd26"
      },
      "execution_count": 10,
      "outputs": [
        {
          "output_type": "execute_result",
          "data": {
            "text/plain": [
              "know      107\n",
              "going      64\n",
              "time       62\n",
              "need       61\n",
              "mobile     60\n",
              "good       55\n",
              "lor        54\n",
              "home       53\n",
              "back       52\n",
              "day        52\n",
              "ill        51\n",
              "see        50\n",
              "still      49\n",
              "love       48\n",
              "today      47\n",
              "week       45\n",
              "right      45\n",
              "make       43\n",
              "way        43\n",
              "phone      42\n",
              "Name: token, dtype: int64"
            ]
          },
          "metadata": {},
          "execution_count": 10
        }
      ]
    },
    {
      "cell_type": "code",
      "source": [
        "term_freq = (token_df\n",
        "              .groupby(['doc_id', 'token'], as_index = False)\n",
        "              .count())\n",
        "term_freq.columns = ['doc_id', 'term', 'term_count']\n",
        "term_freq.sort_values(by=['term_count'], ascending=False)"
      ],
      "metadata": {
        "colab": {
          "base_uri": "https://localhost:8080/",
          "height": 424
        },
        "id": "IKCtU36FJDuP",
        "outputId": "8cc4540b-926e-47c4-dba5-32cc32d3a486"
      },
      "execution_count": 11,
      "outputs": [
        {
          "output_type": "execute_result",
          "data": {
            "text/html": [
              "\n",
              "  <div id=\"df-063196b8-ac24-4421-aacf-d2cdef1b96be\">\n",
              "    <div class=\"colab-df-container\">\n",
              "      <div>\n",
              "<style scoped>\n",
              "    .dataframe tbody tr th:only-of-type {\n",
              "        vertical-align: middle;\n",
              "    }\n",
              "\n",
              "    .dataframe tbody tr th {\n",
              "        vertical-align: top;\n",
              "    }\n",
              "\n",
              "    .dataframe thead th {\n",
              "        text-align: right;\n",
              "    }\n",
              "</style>\n",
              "<table border=\"1\" class=\"dataframe\">\n",
              "  <thead>\n",
              "    <tr style=\"text-align: right;\">\n",
              "      <th></th>\n",
              "      <th>doc_id</th>\n",
              "      <th>term</th>\n",
              "      <th>term_count</th>\n",
              "    </tr>\n",
              "  </thead>\n",
              "  <tbody>\n",
              "    <tr>\n",
              "      <th>11892</th>\n",
              "      <td>doc_3015</td>\n",
              "      <td>happy</td>\n",
              "      <td>15</td>\n",
              "    </tr>\n",
              "    <tr>\n",
              "      <th>18059</th>\n",
              "      <td>doc_409</td>\n",
              "      <td>missing</td>\n",
              "      <td>6</td>\n",
              "    </tr>\n",
              "    <tr>\n",
              "      <th>854</th>\n",
              "      <td>doc_1139</td>\n",
              "      <td>missing</td>\n",
              "      <td>6</td>\n",
              "    </tr>\n",
              "    <tr>\n",
              "      <th>11888</th>\n",
              "      <td>doc_3015</td>\n",
              "      <td>day</td>\n",
              "      <td>6</td>\n",
              "    </tr>\n",
              "    <tr>\n",
              "      <th>3724</th>\n",
              "      <td>doc_1621</td>\n",
              "      <td>simple</td>\n",
              "      <td>5</td>\n",
              "    </tr>\n",
              "    <tr>\n",
              "      <th>...</th>\n",
              "      <td>...</td>\n",
              "      <td>...</td>\n",
              "      <td>...</td>\n",
              "    </tr>\n",
              "    <tr>\n",
              "      <th>10034</th>\n",
              "      <td>doc_2700</td>\n",
              "      <td>frnds</td>\n",
              "      <td>1</td>\n",
              "    </tr>\n",
              "    <tr>\n",
              "      <th>10033</th>\n",
              "      <td>doc_2700</td>\n",
              "      <td>feb</td>\n",
              "      <td>1</td>\n",
              "    </tr>\n",
              "    <tr>\n",
              "      <th>10031</th>\n",
              "      <td>doc_2700</td>\n",
              "      <td>day</td>\n",
              "      <td>1</td>\n",
              "    </tr>\n",
              "    <tr>\n",
              "      <th>10030</th>\n",
              "      <td>doc_2700</td>\n",
              "      <td>comes</td>\n",
              "      <td>1</td>\n",
              "    </tr>\n",
              "    <tr>\n",
              "      <th>29513</th>\n",
              "      <td>doc_999</td>\n",
              "      <td>thanks</td>\n",
              "      <td>1</td>\n",
              "    </tr>\n",
              "  </tbody>\n",
              "</table>\n",
              "<p>29514 rows × 3 columns</p>\n",
              "</div>\n",
              "      <button class=\"colab-df-convert\" onclick=\"convertToInteractive('df-063196b8-ac24-4421-aacf-d2cdef1b96be')\"\n",
              "              title=\"Convert this dataframe to an interactive table.\"\n",
              "              style=\"display:none;\">\n",
              "        \n",
              "  <svg xmlns=\"http://www.w3.org/2000/svg\" height=\"24px\"viewBox=\"0 0 24 24\"\n",
              "       width=\"24px\">\n",
              "    <path d=\"M0 0h24v24H0V0z\" fill=\"none\"/>\n",
              "    <path d=\"M18.56 5.44l.94 2.06.94-2.06 2.06-.94-2.06-.94-.94-2.06-.94 2.06-2.06.94zm-11 1L8.5 8.5l.94-2.06 2.06-.94-2.06-.94L8.5 2.5l-.94 2.06-2.06.94zm10 10l.94 2.06.94-2.06 2.06-.94-2.06-.94-.94-2.06-.94 2.06-2.06.94z\"/><path d=\"M17.41 7.96l-1.37-1.37c-.4-.4-.92-.59-1.43-.59-.52 0-1.04.2-1.43.59L10.3 9.45l-7.72 7.72c-.78.78-.78 2.05 0 2.83L4 21.41c.39.39.9.59 1.41.59.51 0 1.02-.2 1.41-.59l7.78-7.78 2.81-2.81c.8-.78.8-2.07 0-2.86zM5.41 20L4 18.59l7.72-7.72 1.47 1.35L5.41 20z\"/>\n",
              "  </svg>\n",
              "      </button>\n",
              "      \n",
              "  <style>\n",
              "    .colab-df-container {\n",
              "      display:flex;\n",
              "      flex-wrap:wrap;\n",
              "      gap: 12px;\n",
              "    }\n",
              "\n",
              "    .colab-df-convert {\n",
              "      background-color: #E8F0FE;\n",
              "      border: none;\n",
              "      border-radius: 50%;\n",
              "      cursor: pointer;\n",
              "      display: none;\n",
              "      fill: #1967D2;\n",
              "      height: 32px;\n",
              "      padding: 0 0 0 0;\n",
              "      width: 32px;\n",
              "    }\n",
              "\n",
              "    .colab-df-convert:hover {\n",
              "      background-color: #E2EBFA;\n",
              "      box-shadow: 0px 1px 2px rgba(60, 64, 67, 0.3), 0px 1px 3px 1px rgba(60, 64, 67, 0.15);\n",
              "      fill: #174EA6;\n",
              "    }\n",
              "\n",
              "    [theme=dark] .colab-df-convert {\n",
              "      background-color: #3B4455;\n",
              "      fill: #D2E3FC;\n",
              "    }\n",
              "\n",
              "    [theme=dark] .colab-df-convert:hover {\n",
              "      background-color: #434B5C;\n",
              "      box-shadow: 0px 1px 3px 1px rgba(0, 0, 0, 0.15);\n",
              "      filter: drop-shadow(0px 1px 2px rgba(0, 0, 0, 0.3));\n",
              "      fill: #FFFFFF;\n",
              "    }\n",
              "  </style>\n",
              "\n",
              "      <script>\n",
              "        const buttonEl =\n",
              "          document.querySelector('#df-063196b8-ac24-4421-aacf-d2cdef1b96be button.colab-df-convert');\n",
              "        buttonEl.style.display =\n",
              "          google.colab.kernel.accessAllowed ? 'block' : 'none';\n",
              "\n",
              "        async function convertToInteractive(key) {\n",
              "          const element = document.querySelector('#df-063196b8-ac24-4421-aacf-d2cdef1b96be');\n",
              "          const dataTable =\n",
              "            await google.colab.kernel.invokeFunction('convertToInteractive',\n",
              "                                                     [key], {});\n",
              "          if (!dataTable) return;\n",
              "\n",
              "          const docLinkHtml = 'Like what you see? Visit the ' +\n",
              "            '<a target=\"_blank\" href=https://colab.research.google.com/notebooks/data_table.ipynb>data table notebook</a>'\n",
              "            + ' to learn more about interactive tables.';\n",
              "          element.innerHTML = '';\n",
              "          dataTable['output_type'] = 'display_data';\n",
              "          await google.colab.output.renderOutput(dataTable, element);\n",
              "          const docLink = document.createElement('div');\n",
              "          docLink.innerHTML = docLinkHtml;\n",
              "          element.appendChild(docLink);\n",
              "        }\n",
              "      </script>\n",
              "    </div>\n",
              "  </div>\n",
              "  "
            ],
            "text/plain": [
              "         doc_id     term  term_count\n",
              "11892  doc_3015    happy          15\n",
              "18059   doc_409  missing           6\n",
              "854    doc_1139  missing           6\n",
              "11888  doc_3015      day           6\n",
              "3724   doc_1621   simple           5\n",
              "...         ...      ...         ...\n",
              "10034  doc_2700    frnds           1\n",
              "10033  doc_2700      feb           1\n",
              "10031  doc_2700      day           1\n",
              "10030  doc_2700    comes           1\n",
              "29513   doc_999   thanks           1\n",
              "\n",
              "[29514 rows x 3 columns]"
            ]
          },
          "metadata": {},
          "execution_count": 11
        }
      ]
    },
    {
      "cell_type": "code",
      "source": [
        "df[df['doc_id'] == 'doc_409']"
      ],
      "metadata": {
        "colab": {
          "base_uri": "https://localhost:8080/",
          "height": 81
        },
        "id": "jXaDcnHZJGum",
        "outputId": "7de139ad-702e-4052-e6e5-e8f44043d1b4"
      },
      "execution_count": 12,
      "outputs": [
        {
          "output_type": "execute_result",
          "data": {
            "text/html": [
              "\n",
              "  <div id=\"df-8ab9b023-63bd-4d4f-9fa5-690ffdc7e4d6\">\n",
              "    <div class=\"colab-df-container\">\n",
              "      <div>\n",
              "<style scoped>\n",
              "    .dataframe tbody tr th:only-of-type {\n",
              "        vertical-align: middle;\n",
              "    }\n",
              "\n",
              "    .dataframe tbody tr th {\n",
              "        vertical-align: top;\n",
              "    }\n",
              "\n",
              "    .dataframe thead th {\n",
              "        text-align: right;\n",
              "    }\n",
              "</style>\n",
              "<table border=\"1\" class=\"dataframe\">\n",
              "  <thead>\n",
              "    <tr style=\"text-align: right;\">\n",
              "      <th></th>\n",
              "      <th>category</th>\n",
              "      <th>text</th>\n",
              "      <th>doc_id</th>\n",
              "    </tr>\n",
              "  </thead>\n",
              "  <tbody>\n",
              "    <tr>\n",
              "      <th>409</th>\n",
              "      <td>ham</td>\n",
              "      <td>Message:some text missing* Sender:Name Missing...</td>\n",
              "      <td>doc_409</td>\n",
              "    </tr>\n",
              "  </tbody>\n",
              "</table>\n",
              "</div>\n",
              "      <button class=\"colab-df-convert\" onclick=\"convertToInteractive('df-8ab9b023-63bd-4d4f-9fa5-690ffdc7e4d6')\"\n",
              "              title=\"Convert this dataframe to an interactive table.\"\n",
              "              style=\"display:none;\">\n",
              "        \n",
              "  <svg xmlns=\"http://www.w3.org/2000/svg\" height=\"24px\"viewBox=\"0 0 24 24\"\n",
              "       width=\"24px\">\n",
              "    <path d=\"M0 0h24v24H0V0z\" fill=\"none\"/>\n",
              "    <path d=\"M18.56 5.44l.94 2.06.94-2.06 2.06-.94-2.06-.94-.94-2.06-.94 2.06-2.06.94zm-11 1L8.5 8.5l.94-2.06 2.06-.94-2.06-.94L8.5 2.5l-.94 2.06-2.06.94zm10 10l.94 2.06.94-2.06 2.06-.94-2.06-.94-.94-2.06-.94 2.06-2.06.94z\"/><path d=\"M17.41 7.96l-1.37-1.37c-.4-.4-.92-.59-1.43-.59-.52 0-1.04.2-1.43.59L10.3 9.45l-7.72 7.72c-.78.78-.78 2.05 0 2.83L4 21.41c.39.39.9.59 1.41.59.51 0 1.02-.2 1.41-.59l7.78-7.78 2.81-2.81c.8-.78.8-2.07 0-2.86zM5.41 20L4 18.59l7.72-7.72 1.47 1.35L5.41 20z\"/>\n",
              "  </svg>\n",
              "      </button>\n",
              "      \n",
              "  <style>\n",
              "    .colab-df-container {\n",
              "      display:flex;\n",
              "      flex-wrap:wrap;\n",
              "      gap: 12px;\n",
              "    }\n",
              "\n",
              "    .colab-df-convert {\n",
              "      background-color: #E8F0FE;\n",
              "      border: none;\n",
              "      border-radius: 50%;\n",
              "      cursor: pointer;\n",
              "      display: none;\n",
              "      fill: #1967D2;\n",
              "      height: 32px;\n",
              "      padding: 0 0 0 0;\n",
              "      width: 32px;\n",
              "    }\n",
              "\n",
              "    .colab-df-convert:hover {\n",
              "      background-color: #E2EBFA;\n",
              "      box-shadow: 0px 1px 2px rgba(60, 64, 67, 0.3), 0px 1px 3px 1px rgba(60, 64, 67, 0.15);\n",
              "      fill: #174EA6;\n",
              "    }\n",
              "\n",
              "    [theme=dark] .colab-df-convert {\n",
              "      background-color: #3B4455;\n",
              "      fill: #D2E3FC;\n",
              "    }\n",
              "\n",
              "    [theme=dark] .colab-df-convert:hover {\n",
              "      background-color: #434B5C;\n",
              "      box-shadow: 0px 1px 3px 1px rgba(0, 0, 0, 0.15);\n",
              "      filter: drop-shadow(0px 1px 2px rgba(0, 0, 0, 0.3));\n",
              "      fill: #FFFFFF;\n",
              "    }\n",
              "  </style>\n",
              "\n",
              "      <script>\n",
              "        const buttonEl =\n",
              "          document.querySelector('#df-8ab9b023-63bd-4d4f-9fa5-690ffdc7e4d6 button.colab-df-convert');\n",
              "        buttonEl.style.display =\n",
              "          google.colab.kernel.accessAllowed ? 'block' : 'none';\n",
              "\n",
              "        async function convertToInteractive(key) {\n",
              "          const element = document.querySelector('#df-8ab9b023-63bd-4d4f-9fa5-690ffdc7e4d6');\n",
              "          const dataTable =\n",
              "            await google.colab.kernel.invokeFunction('convertToInteractive',\n",
              "                                                     [key], {});\n",
              "          if (!dataTable) return;\n",
              "\n",
              "          const docLinkHtml = 'Like what you see? Visit the ' +\n",
              "            '<a target=\"_blank\" href=https://colab.research.google.com/notebooks/data_table.ipynb>data table notebook</a>'\n",
              "            + ' to learn more about interactive tables.';\n",
              "          element.innerHTML = '';\n",
              "          dataTable['output_type'] = 'display_data';\n",
              "          await google.colab.output.renderOutput(dataTable, element);\n",
              "          const docLink = document.createElement('div');\n",
              "          docLink.innerHTML = docLinkHtml;\n",
              "          element.appendChild(docLink);\n",
              "        }\n",
              "      </script>\n",
              "    </div>\n",
              "  </div>\n",
              "  "
            ],
            "text/plain": [
              "    category                                               text   doc_id\n",
              "409      ham  Message:some text missing* Sender:Name Missing...  doc_409"
            ]
          },
          "metadata": {},
          "execution_count": 12
        }
      ]
    },
    {
      "cell_type": "markdown",
      "source": [
        "#  Reshape TF table to the Document Term Matrix"
      ],
      "metadata": {
        "id": "eGZjsJCMJXAB"
      }
    },
    {
      "cell_type": "code",
      "source": [
        "doc_list = term_freq['doc_id'].unique().tolist()\n",
        "doc_list = doc_list[0:3] # minimal example to verify code is working\n",
        "\n",
        "reshape_dfs =[]\n",
        "for doc in doc_list:\n",
        "  temp = term_freq[['term_count']][term_freq['doc_id'] == doc].T\n",
        "  temp.columns = term_freq['term'][term_freq['doc_id'] == doc].tolist()\n",
        "  temp.index = [doc]\n",
        "  reshape_dfs.append(temp)\n",
        "\n",
        "doc_term_mat = pd.concat(reshape_dfs)\n",
        "doc_term_mat = doc_term_mat.fillna(0)\n",
        "doc_term_mat"
      ],
      "metadata": {
        "colab": {
          "base_uri": "https://localhost:8080/",
          "height": 207
        },
        "id": "fJWFkS_QJQ74",
        "outputId": "d87e19eb-4d6d-4ac3-9ee9-8cd0826b58fd"
      },
      "execution_count": 13,
      "outputs": [
        {
          "output_type": "execute_result",
          "data": {
            "text/html": [
              "\n",
              "  <div id=\"df-e85a4336-8101-439f-b217-1e66a72e9359\">\n",
              "    <div class=\"colab-df-container\">\n",
              "      <div>\n",
              "<style scoped>\n",
              "    .dataframe tbody tr th:only-of-type {\n",
              "        vertical-align: middle;\n",
              "    }\n",
              "\n",
              "    .dataframe tbody tr th {\n",
              "        vertical-align: top;\n",
              "    }\n",
              "\n",
              "    .dataframe thead th {\n",
              "        text-align: right;\n",
              "    }\n",
              "</style>\n",
              "<table border=\"1\" class=\"dataframe\">\n",
              "  <thead>\n",
              "    <tr style=\"text-align: right;\">\n",
              "      <th></th>\n",
              "      <th>available</th>\n",
              "      <th>bugis</th>\n",
              "      <th>crazy</th>\n",
              "      <th>great</th>\n",
              "      <th>point</th>\n",
              "      <th>wat</th>\n",
              "      <th>world</th>\n",
              "      <th>joking</th>\n",
              "      <th>lar</th>\n",
              "      <th>wif</th>\n",
              "      <th>anymore</th>\n",
              "      <th>enough</th>\n",
              "      <th>gonna</th>\n",
              "      <th>home</th>\n",
              "      <th>ive</th>\n",
              "      <th>soon</th>\n",
              "      <th>stuff</th>\n",
              "      <th>talk</th>\n",
              "      <th>today</th>\n",
              "      <th>tonight</th>\n",
              "    </tr>\n",
              "  </thead>\n",
              "  <tbody>\n",
              "    <tr>\n",
              "      <th>doc_0</th>\n",
              "      <td>1.0</td>\n",
              "      <td>1.0</td>\n",
              "      <td>1.0</td>\n",
              "      <td>1.0</td>\n",
              "      <td>1.0</td>\n",
              "      <td>1.0</td>\n",
              "      <td>1.0</td>\n",
              "      <td>0.0</td>\n",
              "      <td>0.0</td>\n",
              "      <td>0.0</td>\n",
              "      <td>0.0</td>\n",
              "      <td>0.0</td>\n",
              "      <td>0.0</td>\n",
              "      <td>0.0</td>\n",
              "      <td>0.0</td>\n",
              "      <td>0.0</td>\n",
              "      <td>0.0</td>\n",
              "      <td>0.0</td>\n",
              "      <td>0.0</td>\n",
              "      <td>0.0</td>\n",
              "    </tr>\n",
              "    <tr>\n",
              "      <th>doc_1</th>\n",
              "      <td>0.0</td>\n",
              "      <td>0.0</td>\n",
              "      <td>0.0</td>\n",
              "      <td>0.0</td>\n",
              "      <td>0.0</td>\n",
              "      <td>0.0</td>\n",
              "      <td>0.0</td>\n",
              "      <td>1.0</td>\n",
              "      <td>1.0</td>\n",
              "      <td>1.0</td>\n",
              "      <td>0.0</td>\n",
              "      <td>0.0</td>\n",
              "      <td>0.0</td>\n",
              "      <td>0.0</td>\n",
              "      <td>0.0</td>\n",
              "      <td>0.0</td>\n",
              "      <td>0.0</td>\n",
              "      <td>0.0</td>\n",
              "      <td>0.0</td>\n",
              "      <td>0.0</td>\n",
              "    </tr>\n",
              "    <tr>\n",
              "      <th>doc_10</th>\n",
              "      <td>0.0</td>\n",
              "      <td>0.0</td>\n",
              "      <td>0.0</td>\n",
              "      <td>0.0</td>\n",
              "      <td>0.0</td>\n",
              "      <td>0.0</td>\n",
              "      <td>0.0</td>\n",
              "      <td>0.0</td>\n",
              "      <td>0.0</td>\n",
              "      <td>0.0</td>\n",
              "      <td>1.0</td>\n",
              "      <td>1.0</td>\n",
              "      <td>1.0</td>\n",
              "      <td>1.0</td>\n",
              "      <td>1.0</td>\n",
              "      <td>1.0</td>\n",
              "      <td>1.0</td>\n",
              "      <td>1.0</td>\n",
              "      <td>1.0</td>\n",
              "      <td>1.0</td>\n",
              "    </tr>\n",
              "  </tbody>\n",
              "</table>\n",
              "</div>\n",
              "      <button class=\"colab-df-convert\" onclick=\"convertToInteractive('df-e85a4336-8101-439f-b217-1e66a72e9359')\"\n",
              "              title=\"Convert this dataframe to an interactive table.\"\n",
              "              style=\"display:none;\">\n",
              "        \n",
              "  <svg xmlns=\"http://www.w3.org/2000/svg\" height=\"24px\"viewBox=\"0 0 24 24\"\n",
              "       width=\"24px\">\n",
              "    <path d=\"M0 0h24v24H0V0z\" fill=\"none\"/>\n",
              "    <path d=\"M18.56 5.44l.94 2.06.94-2.06 2.06-.94-2.06-.94-.94-2.06-.94 2.06-2.06.94zm-11 1L8.5 8.5l.94-2.06 2.06-.94-2.06-.94L8.5 2.5l-.94 2.06-2.06.94zm10 10l.94 2.06.94-2.06 2.06-.94-2.06-.94-.94-2.06-.94 2.06-2.06.94z\"/><path d=\"M17.41 7.96l-1.37-1.37c-.4-.4-.92-.59-1.43-.59-.52 0-1.04.2-1.43.59L10.3 9.45l-7.72 7.72c-.78.78-.78 2.05 0 2.83L4 21.41c.39.39.9.59 1.41.59.51 0 1.02-.2 1.41-.59l7.78-7.78 2.81-2.81c.8-.78.8-2.07 0-2.86zM5.41 20L4 18.59l7.72-7.72 1.47 1.35L5.41 20z\"/>\n",
              "  </svg>\n",
              "      </button>\n",
              "      \n",
              "  <style>\n",
              "    .colab-df-container {\n",
              "      display:flex;\n",
              "      flex-wrap:wrap;\n",
              "      gap: 12px;\n",
              "    }\n",
              "\n",
              "    .colab-df-convert {\n",
              "      background-color: #E8F0FE;\n",
              "      border: none;\n",
              "      border-radius: 50%;\n",
              "      cursor: pointer;\n",
              "      display: none;\n",
              "      fill: #1967D2;\n",
              "      height: 32px;\n",
              "      padding: 0 0 0 0;\n",
              "      width: 32px;\n",
              "    }\n",
              "\n",
              "    .colab-df-convert:hover {\n",
              "      background-color: #E2EBFA;\n",
              "      box-shadow: 0px 1px 2px rgba(60, 64, 67, 0.3), 0px 1px 3px 1px rgba(60, 64, 67, 0.15);\n",
              "      fill: #174EA6;\n",
              "    }\n",
              "\n",
              "    [theme=dark] .colab-df-convert {\n",
              "      background-color: #3B4455;\n",
              "      fill: #D2E3FC;\n",
              "    }\n",
              "\n",
              "    [theme=dark] .colab-df-convert:hover {\n",
              "      background-color: #434B5C;\n",
              "      box-shadow: 0px 1px 3px 1px rgba(0, 0, 0, 0.15);\n",
              "      filter: drop-shadow(0px 1px 2px rgba(0, 0, 0, 0.3));\n",
              "      fill: #FFFFFF;\n",
              "    }\n",
              "  </style>\n",
              "\n",
              "      <script>\n",
              "        const buttonEl =\n",
              "          document.querySelector('#df-e85a4336-8101-439f-b217-1e66a72e9359 button.colab-df-convert');\n",
              "        buttonEl.style.display =\n",
              "          google.colab.kernel.accessAllowed ? 'block' : 'none';\n",
              "\n",
              "        async function convertToInteractive(key) {\n",
              "          const element = document.querySelector('#df-e85a4336-8101-439f-b217-1e66a72e9359');\n",
              "          const dataTable =\n",
              "            await google.colab.kernel.invokeFunction('convertToInteractive',\n",
              "                                                     [key], {});\n",
              "          if (!dataTable) return;\n",
              "\n",
              "          const docLinkHtml = 'Like what you see? Visit the ' +\n",
              "            '<a target=\"_blank\" href=https://colab.research.google.com/notebooks/data_table.ipynb>data table notebook</a>'\n",
              "            + ' to learn more about interactive tables.';\n",
              "          element.innerHTML = '';\n",
              "          dataTable['output_type'] = 'display_data';\n",
              "          await google.colab.output.renderOutput(dataTable, element);\n",
              "          const docLink = document.createElement('div');\n",
              "          docLink.innerHTML = docLinkHtml;\n",
              "          element.appendChild(docLink);\n",
              "        }\n",
              "      </script>\n",
              "    </div>\n",
              "  </div>\n",
              "  "
            ],
            "text/plain": [
              "        available  bugis  crazy  great  point  wat  world  joking  lar  wif  \\\n",
              "doc_0         1.0    1.0    1.0    1.0    1.0  1.0    1.0     0.0  0.0  0.0   \n",
              "doc_1         0.0    0.0    0.0    0.0    0.0  0.0    0.0     1.0  1.0  1.0   \n",
              "doc_10        0.0    0.0    0.0    0.0    0.0  0.0    0.0     0.0  0.0  0.0   \n",
              "\n",
              "        anymore  enough  gonna  home  ive  soon  stuff  talk  today  tonight  \n",
              "doc_0       0.0     0.0    0.0   0.0  0.0   0.0    0.0   0.0    0.0      0.0  \n",
              "doc_1       0.0     0.0    0.0   0.0  0.0   0.0    0.0   0.0    0.0      0.0  \n",
              "doc_10      1.0     1.0    1.0   1.0  1.0   1.0    1.0   1.0    1.0      1.0  "
            ]
          },
          "metadata": {},
          "execution_count": 13
        }
      ]
    },
    {
      "cell_type": "code",
      "source": [
        "import time\n",
        "from datetime import timedelta\n",
        "\n",
        "doc_list = term_freq['doc_id'].unique().tolist()\n",
        "reshape_dfs =[]\n",
        "counter = 0\n",
        "for doc in doc_list:\n",
        "  counter += 1\n",
        "  if counter % 500 == 0:\n",
        "    print(str(counter) + \" complete out of \" + str(len(doc_list)) + \" documents\")\n",
        "  temp = term_freq[['term_count']][term_freq['doc_id'] == doc].T\n",
        "  temp.columns = term_freq['term'][term_freq['doc_id'] == doc].tolist()\n",
        "  temp.index = [doc]\n",
        "  reshape_dfs.append(temp)\n",
        "\n",
        "print(\"\\n merging stuff\")\n",
        "start_time = time.time()\n",
        "doc_term_mat = pd.concat(reshape_dfs)\n",
        "doc_term_mat = doc_term_mat.fillna(0)\n",
        "\n",
        "print(\"--- %s time elapsed ---\" % str(timedelta(seconds=time.time() - start_time)))\n",
        "print(doc_term_mat.shape)"
      ],
      "metadata": {
        "colab": {
          "base_uri": "https://localhost:8080/"
        },
        "id": "jTulVmx2JjB8",
        "outputId": "1f0ea5bd-b2b5-4c63-ffb1-a219ca8b8d24"
      },
      "execution_count": 14,
      "outputs": [
        {
          "output_type": "stream",
          "name": "stdout",
          "text": [
            "500 complete out of 5386 documents\n",
            "1000 complete out of 5386 documents\n",
            "1500 complete out of 5386 documents\n",
            "2000 complete out of 5386 documents\n",
            "2500 complete out of 5386 documents\n",
            "3000 complete out of 5386 documents\n",
            "3500 complete out of 5386 documents\n",
            "4000 complete out of 5386 documents\n",
            "4500 complete out of 5386 documents\n",
            "5000 complete out of 5386 documents\n",
            "\n",
            " merging stuff\n",
            "--- 0:03:33.578274 time elapsed ---\n",
            "(5386, 1591)\n"
          ]
        }
      ]
    },
    {
      "cell_type": "markdown",
      "source": [
        "# Term Selection for Spam Prediction"
      ],
      "metadata": {
        "id": "__0MrZyRJpMK"
      }
    },
    {
      "cell_type": "markdown",
      "source": [
        "## Remove highly correlated features"
      ],
      "metadata": {
        "id": "7W06EGrcKHZ7"
      }
    },
    {
      "cell_type": "code",
      "source": [
        "doc_term_mat2 = doc_term_mat\n",
        "doc_term_mat2['doc_id'] = doc_term_mat2.index\n",
        "doc_term_mat2 = doc_term_mat2.merge(df[['doc_id', 'category']], how = 'left', on = 'doc_id')"
      ],
      "metadata": {
        "id": "lWZFa-R7JnJ9"
      },
      "execution_count": 15,
      "outputs": []
    },
    {
      "cell_type": "code",
      "source": [
        "def dichotomize_cat(txt):\n",
        "  x = 0\n",
        "  if txt == \"spam\":\n",
        "    x = 1\n",
        "  return x\n",
        "\n",
        "doc_term_mat2['category'] = doc_term_mat2['category'].apply(lambda x: dichotomize_cat(x))\n",
        "doc_term_mat2['category'].value_counts()"
      ],
      "metadata": {
        "colab": {
          "base_uri": "https://localhost:8080/"
        },
        "id": "X6W9qEqDJ3py",
        "outputId": "85161c24-cf6c-4e71-a2a0-84d2737626dd"
      },
      "execution_count": 16,
      "outputs": [
        {
          "output_type": "execute_result",
          "data": {
            "text/plain": [
              "0    4643\n",
              "1     743\n",
              "Name: category, dtype: int64"
            ]
          },
          "metadata": {},
          "execution_count": 16
        }
      ]
    },
    {
      "cell_type": "code",
      "source": [
        "cols = list(doc_term_mat2)\n",
        "cols.insert(0, cols.pop(cols.index('doc_id')))\n",
        "cols.insert(1, cols.pop(cols.index('category')))\n",
        "doc_term_mat2 = doc_term_mat2[cols]"
      ],
      "metadata": {
        "id": "w780qjikJ9tZ"
      },
      "execution_count": 17,
      "outputs": []
    },
    {
      "cell_type": "markdown",
      "source": [
        "## Keep only significant variables"
      ],
      "metadata": {
        "id": "aS5lcmPdKJfT"
      }
    },
    {
      "cell_type": "code",
      "source": [
        "Y = doc_term_mat2.loc[:, 'category']  # all rows of 'diagnosis' \n",
        "X = doc_term_mat2.drop(['doc_id', 'category'], axis=1)\n",
        "\n",
        "from sklearn.model_selection import train_test_split as tts\n",
        "X.insert(loc=len(X.columns), column='intercept', value=1) #### column of 1's\n",
        "X_train, X_test, y_train, y_test = tts(X, Y, test_size=0.2, random_state=42)"
      ],
      "metadata": {
        "id": "7zXT7TTNKBVP"
      },
      "execution_count": 18,
      "outputs": []
    },
    {
      "cell_type": "code",
      "source": [
        "import statsmodels.api as sm\n",
        "regression_ols = sm.OLS(y_train, X_train).fit()\n",
        "pvalues = regression_ols.pvalues \n",
        "sig_vars = []\n",
        "for i in range(0, len(pvalues)):\n",
        "  if pvalues[i] <= 0.5:\n",
        "    sig_vars.append(pvalues.index[i])\n",
        "print(len(sig_vars))\n",
        "sig_vars[0:20]"
      ],
      "metadata": {
        "colab": {
          "base_uri": "https://localhost:8080/"
        },
        "id": "8lfU5eqiKPlE",
        "outputId": "c5de7196-5cbf-432e-c624-6b3788881ec2"
      },
      "execution_count": 19,
      "outputs": [
        {
          "output_type": "stream",
          "name": "stderr",
          "text": [
            "/usr/local/lib/python3.7/dist-packages/statsmodels/tools/_testing.py:19: FutureWarning: pandas.util.testing is deprecated. Use the functions in the public API at pandas.testing instead.\n",
            "  import pandas.util.testing as tm\n"
          ]
        },
        {
          "output_type": "stream",
          "name": "stdout",
          "text": [
            "850\n"
          ]
        },
        {
          "output_type": "execute_result",
          "data": {
            "text/plain": [
              "['crazy',\n",
              " 'wat',\n",
              " 'lar',\n",
              " 'enough',\n",
              " 'gonna',\n",
              " 'home',\n",
              " 'ive',\n",
              " 'talk',\n",
              " 'today',\n",
              " 'long',\n",
              " 'pick',\n",
              " 'price',\n",
              " 'heard',\n",
              " 'tat',\n",
              " 'cash',\n",
              " 'guaranteed',\n",
              " 'please',\n",
              " 'prize',\n",
              " 'representative',\n",
              " 'service']"
            ]
          },
          "metadata": {},
          "execution_count": 19
        }
      ]
    },
    {
      "cell_type": "code",
      "source": [
        "X_train = X_train[sig_vars]\n",
        "X_test = X_test[sig_vars]\n",
        "\n",
        "regression_ols = sm.OLS(y_train, X_train).fit()\n",
        "pvalues = regression_ols.pvalues \n",
        "sig_vars = []\n",
        "for i in range(0, len(pvalues)):\n",
        "  if pvalues[i] <= 0.1:\n",
        "    sig_vars.append(pvalues.index[i])\n",
        "print(len(sig_vars))\n",
        "sig_vars[0:20]"
      ],
      "metadata": {
        "colab": {
          "base_uri": "https://localhost:8080/"
        },
        "id": "jS5SnMLMKReo",
        "outputId": "ab5fe549-4c58-4051-d4d4-b05c755e2c7a"
      },
      "execution_count": 20,
      "outputs": [
        {
          "output_type": "stream",
          "name": "stdout",
          "text": [
            "480\n"
          ]
        },
        {
          "output_type": "execute_result",
          "data": {
            "text/plain": [
              "['crazy',\n",
              " 'enough',\n",
              " 'gonna',\n",
              " 'today',\n",
              " 'pick',\n",
              " 'price',\n",
              " 'heard',\n",
              " 'cash',\n",
              " 'guaranteed',\n",
              " 'please',\n",
              " 'prize',\n",
              " 'representative',\n",
              " 'service',\n",
              " 'â5000',\n",
              " 'told',\n",
              " 'give',\n",
              " '08000839402',\n",
              " 'mobileupd8',\n",
              " 'nokia',\n",
              " 'orange']"
            ]
          },
          "metadata": {},
          "execution_count": 20
        }
      ]
    },
    {
      "cell_type": "code",
      "source": [
        "reg_strength = 1000\n",
        "\n",
        "### Formula in Slide 8\n",
        "def compute_cost(W, X, Y):\n",
        "  N = X.shape[0]\n",
        "  distances = 1 - Y * (np.dot(X, W))\n",
        "  distances[distances < 0] = 0\n",
        "  hinge_loss = reg_strength * (np.sum(distances) / N)\n",
        "  cost = 1 / 2 * np.dot(W, W) + hinge_loss\n",
        "  return(cost)\n",
        "\n",
        "def calculate_cost_gradient(W, X_batch, Y_batch):\n",
        "    if type(Y_batch) != np.array: #float64:\n",
        "        Y_batch = np.array([Y_batch])\n",
        "        X_batch = np.array([X_batch])\n",
        "\n",
        "    distance = 1 - (Y_batch * np.dot(X_batch, W))\n",
        "#    if type(distance)== np.float64:\n",
        "#      distance = np.array([distance])\n",
        "    dw = np.zeros(len(W))\n",
        "\n",
        "    #### for every dimension, apply formula in Slide 9\n",
        "    for ind, d in enumerate(distance):\n",
        "        if max(0, d) == 0:\n",
        "            di = W\n",
        "        else:\n",
        "            di = W - (reg_strength * Y_batch[ind] * X_batch[ind])\n",
        "        dw += di  \n",
        "    dw = dw/len(Y_batch)  # average\n",
        "    return dw\n",
        "\n",
        "from sklearn.utils import shuffle\n",
        "def sgd(features, outputs, max_epochs=5000, learning_rate=0.05,cost_threshold = 0.01):\n",
        "  weights = np.zeros(features.shape[1])\n",
        "  prev_cost = float(\"inf\")\n",
        "  nth = 0\n",
        "  for epoch in range(1, max_epochs):\n",
        "    X, Y = shuffle(features, outputs)\n",
        "    for ind, x in enumerate(X):  #### itereate through the dimensions\n",
        "      ascent = calculate_cost_gradient(weights, x, Y[ind])\n",
        "      weights = weights - (learning_rate * ascent)\n",
        "\n",
        "    if epoch == 2 ** nth or epoch == max_epochs - 1:\n",
        "      cost = compute_cost(weights, features, outputs)\n",
        "      print(\"Epoch is:{} and Cost is: {}\".format(epoch, cost))\n",
        "\n",
        "      #### If diffrence in the cost from last ^2 iterations to now is < 1%: get out\n",
        "      if abs(prev_cost - cost) < cost_threshold * prev_cost:\n",
        "            return weights\n",
        "      prev_cost = cost\n",
        "      nth += 1\n",
        "  return weights"
      ],
      "metadata": {
        "id": "rarsnaPMKTOc"
      },
      "execution_count": 21,
      "outputs": []
    },
    {
      "cell_type": "code",
      "source": [
        "import numpy as np\n",
        "X_train = X_train[sig_vars]\n",
        "X_test = X_test[sig_vars]\n",
        "\n",
        "W = sgd(X_train.to_numpy(), y_train.to_numpy())\n",
        "\n",
        "from sklearn.metrics import accuracy_score, recall_score, precision_score \n",
        "def test():\n",
        "  y_test_predicted = np.array([])\n",
        "  for i in range(X_test.shape[0]):\n",
        "      yp = np.sign(np.dot(W, X_test.to_numpy()[i])) #model\n",
        "      y_test_predicted = np.append(y_test_predicted, yp)\n",
        "  print(\"accuracy on test dataset: {}\".format(accuracy_score(y_test.to_numpy(), y_test_predicted)))\n",
        "  print(\"recall on test dataset: {}\".format(recall_score(y_test.to_numpy(), y_test_predicted)))\n",
        "  print(\"precision on test dataset: {}\".format(precision_score(y_test.to_numpy(), y_test_predicted)))\n",
        "\n",
        "test()"
      ],
      "metadata": {
        "colab": {
          "base_uri": "https://localhost:8080/"
        },
        "id": "QWystrOFKVJ_",
        "outputId": "b24b3bf6-2150-4c86-ff82-7cc729d7d393"
      },
      "execution_count": 22,
      "outputs": [
        {
          "output_type": "stream",
          "name": "stdout",
          "text": [
            "Epoch is:1 and Cost is: 916.9126120106954\n",
            "Epoch is:2 and Cost is: 3508.934350288637\n",
            "Epoch is:4 and Cost is: 11059.891259241971\n",
            "Epoch is:8 and Cost is: 979.4990235813021\n",
            "Epoch is:16 and Cost is: 3133.5356435968833\n",
            "Epoch is:32 and Cost is: 880.8057349166486\n",
            "Epoch is:64 and Cost is: 1962.9599267581166\n",
            "Epoch is:128 and Cost is: 879.2176581074859\n",
            "Epoch is:256 and Cost is: 1506.7658122262671\n",
            "Epoch is:512 and Cost is: 868.185276870133\n",
            "Epoch is:1024 and Cost is: 865.6314050822336\n",
            "accuracy on test dataset: 0.14285714285714285\n",
            "recall on test dataset: 1.0\n",
            "precision on test dataset: 0.14285714285714285\n"
          ]
        }
      ]
    },
    {
      "cell_type": "markdown",
      "source": [
        "Precision of the model is very low. Let's try sklearn."
      ],
      "metadata": {
        "id": "ZmZ87VgzKa0g"
      }
    },
    {
      "cell_type": "markdown",
      "source": [
        "# Sklearn Model"
      ],
      "metadata": {
        "id": "VAQ8v7CrKlnc"
      }
    },
    {
      "cell_type": "code",
      "source": [
        "from sklearn.model_selection import cross_val_score, cross_val_predict, KFold\n",
        "from sklearn.naive_bayes import GaussianNB\n",
        "from sklearn.linear_model import LogisticRegression\n",
        "from sklearn.svm import SVC\n",
        "from sklearn.ensemble import RandomForestClassifier\n",
        "from sklearn.neighbors import KNeighborsClassifier\n",
        "from statistics import mean\n",
        "from numpy import std\n"
      ],
      "metadata": {
        "id": "SOKM78lCKyt5"
      },
      "execution_count": 24,
      "outputs": []
    },
    {
      "cell_type": "code",
      "source": [
        "def eval_model(model, print_text, X, y):\n",
        "  cv = KFold(n_splits=10) \n",
        "  accuracy = cross_val_score(model, X, y, scoring = 'accuracy', cv = cv)\n",
        "  accuracy = list(accuracy)\n",
        "  f1_scores = cross_val_score(model, X, y, scoring = 'f1', cv = cv)\n",
        "  f1_scores = list(f1_scores)\n",
        "  precision_scores = cross_val_score(model, X, y, scoring = 'precision', cv = cv)\n",
        "  precision_scores = list(precision_scores)\n",
        "  recall_scores = cross_val_score(model, X, y, scoring = 'recall', cv = cv)\n",
        "  recall_scores = list(recall_scores)\n",
        "\n",
        "  print(print_text)\n",
        "  print('accuracy score: ' + str(mean(accuracy))[0:5] + \" +/- \" + str(std(accuracy))[0:5])\n",
        "  print('f1 score: ' + str(mean(f1_scores))[0:5] + \" +/- \" + str(std(f1_scores))[0:5])\n",
        "  print('precision: ' + str(mean(precision_scores))[0:5] + \" +/- \" + str(std(precision_scores))[0:5])\n",
        "  print('recall: '+ str(mean(recall_scores))[0:5] + \" +/- \" + str(std(recall_scores))[0:5] + \"\\n\")"
      ],
      "metadata": {
        "id": "I3Pqi4C4KwS5"
      },
      "execution_count": 25,
      "outputs": []
    },
    {
      "cell_type": "code",
      "source": [
        "eval_model(model = GaussianNB(), X = X_train, y = y_train, print_text=\"Naive Bayes\")\n",
        "eval_model(model = SVC(), X = X_train, y = y_train, print_text=\"Support Vector Machine\")\n",
        "eval_model(model = RandomForestClassifier(), X = X_train, y = y_train, print_text=\"Random Forest\")\n",
        "eval_model(model = KNeighborsClassifier(), X = X_train, y = y_train, print_text=\"KNN\")"
      ],
      "metadata": {
        "colab": {
          "base_uri": "https://localhost:8080/"
        },
        "id": "k7tgsAEsK4Hh",
        "outputId": "17477848-ffdf-4378-ffc4-ad43493b4eb6"
      },
      "execution_count": 26,
      "outputs": [
        {
          "output_type": "stream",
          "name": "stdout",
          "text": [
            "Naive Bayes\n",
            "accuracy score: 0.965 +/- 0.006\n",
            "f1 score: 0.876 +/- 0.024\n",
            "precision: 0.851 +/- 0.036\n",
            "recall: 0.905 +/- 0.044\n",
            "\n",
            "Support Vector Machine\n",
            "accuracy score: 0.972 +/- 0.007\n",
            "f1 score: 0.896 +/- 0.029\n",
            "precision: 0.923 +/- 0.039\n",
            "recall: 0.871 +/- 0.039\n",
            "\n",
            "Random Forest\n",
            "accuracy score: 0.971 +/- 0.006\n",
            "f1 score: 0.882 +/- 0.028\n",
            "precision: 0.956 +/- 0.026\n",
            "recall: 0.824 +/- 0.054\n",
            "\n",
            "KNN\n",
            "accuracy score: 0.918 +/- 0.009\n",
            "f1 score: 0.576 +/- 0.055\n",
            "precision: 0.996 +/- 0.012\n",
            "recall: 0.408 +/- 0.054\n",
            "\n"
          ]
        }
      ]
    },
    {
      "cell_type": "markdown",
      "source": [
        "The model performance is much better."
      ],
      "metadata": {
        "id": "9cxn-ji4LraJ"
      }
    },
    {
      "cell_type": "code",
      "source": [
        "def remove_correlated_features(X, corr_threshold=0.9):\n",
        "  corr = X.corr()\n",
        "  drop_columns = np.full(corr.shape[0], False, dtype=bool)\n",
        "  for i in range(corr.shape[0]):\n",
        "      for j in range(i + 1, corr.shape[0]):\n",
        "          if corr.iloc[i, j] >= corr_threshold:\n",
        "              drop_columns[j] = True\n",
        "  columns_dropped = X.columns[drop_columns]\n",
        "  print(\"dropping\",columns_dropped)\n",
        "  X_drop = X.drop(columns_dropped, axis=1)\n",
        "  return X_drop"
      ],
      "metadata": {
        "id": "hOfchVwfK-LO"
      },
      "execution_count": 27,
      "outputs": []
    },
    {
      "cell_type": "code",
      "source": [
        "X = doc_term_mat2.drop(['doc_id', 'category'], axis=1)\n",
        "X_drop = remove_correlated_features(X, corr_threshold=0.9)"
      ],
      "metadata": {
        "colab": {
          "base_uri": "https://localhost:8080/"
        },
        "id": "CSYyYXhXLAqf",
        "outputId": "886d999d-43b6-4cee-d0d9-2ae941c94dc2"
      },
      "execution_count": 28,
      "outputs": [
        {
          "output_type": "stream",
          "name": "stdout",
          "text": [
            "dropping Index(['norm150ptone', 'w45wq', 'callertune', 'onto', 'cashin', 'maximize',\n",
            "       'identifier', 'statement', 'unredeemed', 'quoting', 'standard', 'voda',\n",
            "       '1327', '20p', '5wb', 'cr9', 'croydon', 'yan', '800', 'specialcall',\n",
            "       'ufind', 'inviting', 'sae', 'costa', 'costâ150pm', 'max10mins',\n",
            "       'pobox334', 'sk38xh', 'sol', 'stockport', 'toclaim', 'â300', 'ip4',\n",
            "       'latr', 'minuts', 'sed', 'murderer', 'java', 'noline', 'rentl',\n",
            "       'videochat', 'videophones', 'camcorder', 'wer'],\n",
            "      dtype='object')\n"
          ]
        }
      ]
    },
    {
      "cell_type": "code",
      "source": [
        "import statsmodels.api as sm\n",
        "def remove_less_significant_features(X, Y, sl=0.05):\n",
        "  regression_ols = None\n",
        "  columns_dropped = np.array([])\n",
        "  #for itr in range(0, len(X.columns)):\n",
        "  for itr in range(0, 60):\n",
        "    if itr % 5 == 0:\n",
        "      print(\"Iteration number \" + str(itr))\n",
        "    regression_ols = sm.OLS(Y, X).fit()\n",
        "    max_col = regression_ols.pvalues.idxmax()\n",
        "    max_val = regression_ols.pvalues.max()\n",
        "    if max_val > sl:\n",
        "        X.drop(max_col, axis='columns', inplace=True)\n",
        "        columns_dropped = np.append(columns_dropped, [max_col])\n",
        "    else:\n",
        "        break\n",
        "  regression_ols.summary()\n",
        "  return columns_dropped"
      ],
      "metadata": {
        "id": "71UA14tkLGL_"
      },
      "execution_count": 29,
      "outputs": []
    },
    {
      "cell_type": "code",
      "source": [
        "start_time = time.time()\n",
        "cols_dropped =  remove_less_significant_features(X_train,y_train, sl=0.05)\n",
        "print(\"--- %s time elapsed ---\" % str(timedelta(seconds=time.time() - start_time)))"
      ],
      "metadata": {
        "colab": {
          "base_uri": "https://localhost:8080/"
        },
        "id": "ffckaio0LH_m",
        "outputId": "95aae15f-4125-492d-e875-a6ebde044e6c"
      },
      "execution_count": 30,
      "outputs": [
        {
          "output_type": "stream",
          "name": "stdout",
          "text": [
            "Iteration number 0\n"
          ]
        },
        {
          "output_type": "stream",
          "name": "stderr",
          "text": [
            "/usr/local/lib/python3.7/dist-packages/pandas/core/frame.py:4913: SettingWithCopyWarning: \n",
            "A value is trying to be set on a copy of a slice from a DataFrame\n",
            "\n",
            "See the caveats in the documentation: https://pandas.pydata.org/pandas-docs/stable/user_guide/indexing.html#returning-a-view-versus-a-copy\n",
            "  errors=errors,\n"
          ]
        },
        {
          "output_type": "stream",
          "name": "stdout",
          "text": [
            "Iteration number 5\n",
            "Iteration number 10\n",
            "Iteration number 15\n",
            "Iteration number 20\n",
            "Iteration number 25\n",
            "Iteration number 30\n",
            "Iteration number 35\n",
            "Iteration number 40\n",
            "Iteration number 45\n",
            "Iteration number 50\n",
            "Iteration number 55\n",
            "--- 0:00:36.703276 time elapsed ---\n"
          ]
        }
      ]
    },
    {
      "cell_type": "code",
      "source": [
        "cols_dropped"
      ],
      "metadata": {
        "colab": {
          "base_uri": "https://localhost:8080/"
        },
        "id": "EMrqOFQhLKD0",
        "outputId": "7b6892cc-8f93-497c-a3f3-2fe32ba14483"
      },
      "execution_count": 31,
      "outputs": [
        {
          "output_type": "execute_result",
          "data": {
            "text/plain": [
              "array(['lover', 'vry', 'crazy', 'gal', 'totally', 'game', 'keep',\n",
              "       'created', 'gift', 'god', 'ntt', 'bill', 'theatre', 'gonna',\n",
              "       'midnight', 'fighting', 'give', 'confirm', 'stay', 'unable',\n",
              "       'empty', 'without', 'cuz', 'hand', 'unlimited', 'sign', 'sport',\n",
              "       'wins', 'rooms', 'congratulations', 'news', 'thank', 'horny',\n",
              "       'girls', 'india', 'reason', 'light', 'wherever', 'problems',\n",
              "       'intercept', 'mind', 'giving', 'rply', 'eerie', 'cancel', 'told',\n",
              "       'wer', 'move', 'gives', 'ill', 'version', 'calls', 'class', 'five',\n",
              "       '86688', 'cool', 'yrs', 'thats', 'looking', 'google'], dtype='<U32')"
            ]
          },
          "metadata": {},
          "execution_count": 31
        }
      ]
    },
    {
      "cell_type": "code",
      "source": [
        ""
      ],
      "metadata": {
        "id": "sHRomYUDMzqk"
      },
      "execution_count": null,
      "outputs": []
    }
  ]
}