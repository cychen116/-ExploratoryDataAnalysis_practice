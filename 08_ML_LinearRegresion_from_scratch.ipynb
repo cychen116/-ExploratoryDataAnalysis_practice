{
  "nbformat": 4,
  "nbformat_minor": 0,
  "metadata": {
    "colab": {
      "name": "08_ML_LinearRegresion_from_scratch.ipynb",
      "provenance": [],
      "authorship_tag": "ABX9TyNjSnZFET7ue3kZOv92SrV3",
      "include_colab_link": true
    },
    "kernelspec": {
      "name": "python3",
      "display_name": "Python 3"
    },
    "language_info": {
      "name": "python"
    }
  },
  "cells": [
    {
      "cell_type": "markdown",
      "metadata": {
        "id": "view-in-github",
        "colab_type": "text"
      },
      "source": [
        "<a href=\"https://colab.research.google.com/github/cychen116/DataAnalysis_practice/blob/main/08_ML_LinearRegresion_from_scratch.ipynb\" target=\"_parent\"><img src=\"https://colab.research.google.com/assets/colab-badge.svg\" alt=\"Open In Colab\"/></a>"
      ]
    },
    {
      "cell_type": "markdown",
      "source": [
        "# Function From Scratch"
      ],
      "metadata": {
        "id": "PrVKkxluNu6c"
      }
    },
    {
      "cell_type": "code",
      "execution_count": 1,
      "metadata": {
        "id": "dWkk7DzrNFzg"
      },
      "outputs": [],
      "source": [
        "# Calculate the mean value of a list of numbers\n",
        "def mean(values):\n",
        "\treturn sum(values) / float(len(values))\n",
        "\n",
        "# Calculate the variance of a list of numbers \n",
        "def variance(values, mean):\n",
        "\treturn sum([(x-mean)**2 for x in values])\n",
        "\n",
        "# Calculate covariance between x and y\n",
        "def covariance(x, mean_x, y, mean_y):\n",
        "\tcovar = 0.0\n",
        "\tfor i in range(len(x)):\n",
        "\t\tcovar += (x[i] - mean_x) * (y[i] - mean_y)\n",
        "\treturn covar\n",
        "\n",
        "from math import sqrt\n",
        "def rmse(errors):\n",
        "  return(sqrt(mean([float(e)**2.0 for e in errors])))\n",
        "\n",
        "# Calculate coefficients\n",
        "def fit(x,y):\n",
        "\tx_mean, y_mean = mean(x), mean(y)\n",
        "\tb1 = covariance(x, x_mean, y, y_mean) / variance(x, x_mean)\n",
        "\tb0 = y_mean - b1 * x_mean\n",
        "\treturn [b0, b1]"
      ]
    },
    {
      "cell_type": "markdown",
      "source": [
        "# Sample Data Loading"
      ],
      "metadata": {
        "id": "WsYUBYT1N0bo"
      }
    },
    {
      "cell_type": "code",
      "source": [
        "import pandas as pd\n",
        "from io import StringIO"
      ],
      "metadata": {
        "id": "1Iu0RxyhNYvY"
      },
      "execution_count": 2,
      "outputs": []
    },
    {
      "cell_type": "code",
      "source": [
        "data = \"\"\"gender,age,volume,weight\n",
        "1,1,4512,1530\n",
        "1,1,3738,1297\n",
        "1,1,4261,1335\n",
        "1,1,3777,1282\n",
        "1,1,4177,1590\n",
        "1,1,3585,1300\n",
        "1,1,3785,1400\n",
        "1,1,3559,1255\n",
        "1,1,3613,1355\n",
        "1,1,3982,1375\n",
        "1,1,3443,1340\n",
        "1,1,3993,1380\n",
        "1,1,3640,1355\n",
        "1,1,4208,1522\n",
        "1,1,3832,1208\n",
        "1,1,3876,1405\n",
        "1,1,3497,1358\n",
        "1,1,3466,1292\n",
        "1,1,3095,1340\n",
        "1,1,4424,1400\n",
        "1,1,3878,1357\n",
        "1,1,4046,1287\n",
        "1,1,3804,1275\n",
        "1,1,3710,1270\n",
        "1,1,4747,1635\n",
        "1,1,4423,1505\n",
        "1,1,4036,1490\n",
        "1,1,4022,1485\n",
        "1,1,3454,1310\n",
        "1,1,4175,1420\n",
        "1,1,3787,1318\n",
        "1,1,3796,1432\n",
        "1,1,4103,1364\n",
        "1,1,4161,1405\n",
        "1,1,4158,1432\n",
        "1,1,3814,1207\n",
        "1,1,3527,1375\n",
        "1,1,3748,1350\n",
        "1,1,3334,1236\n",
        "1,1,3492,1250\n",
        "1,1,3962,1350\n",
        "1,1,3505,1320\n",
        "1,1,4315,1525\n",
        "1,1,3804,1570\n",
        "1,1,3863,1340\n",
        "1,1,4034,1422\n",
        "1,1,4308,1506\n",
        "1,1,3165,1215\n",
        "1,1,3641,1311\n",
        "1,1,3644,1300\n",
        "1,1,3891,1224\n",
        "1,1,3793,1350\n",
        "1,1,4270,1335\n",
        "1,1,4063,1390\n",
        "1,1,4012,1400\n",
        "1,1,3458,1225\n",
        "1,1,3890,1310\n",
        "1,2,4166,1560\n",
        "1,2,3935,1330\n",
        "1,2,3669,1222\n",
        "1,2,3866,1415\n",
        "1,2,3393,1175\n",
        "1,2,4442,1330\n",
        "1,2,4253,1485\n",
        "1,2,3727,1470\n",
        "1,2,3329,1135\n",
        "1,2,3415,1310\n",
        "1,2,3372,1154\n",
        "1,2,4430,1510\n",
        "1,2,4381,1415\n",
        "1,2,4008,1468\n",
        "1,2,3858,1390\n",
        "1,2,4121,1380\n",
        "1,2,4057,1432\n",
        "1,2,3824,1240\n",
        "1,2,3394,1195\n",
        "1,2,3558,1225\n",
        "1,2,3362,1188\n",
        "1,2,3930,1252\n",
        "1,2,3835,1315\n",
        "1,2,3830,1245\n",
        "1,2,3856,1430\n",
        "1,2,3249,1279\n",
        "1,2,3577,1245\n",
        "1,2,3933,1309\n",
        "1,2,3850,1412\n",
        "1,2,3309,1120\n",
        "1,2,3406,1220\n",
        "1,2,3506,1280\n",
        "1,2,3907,1440\n",
        "1,2,4160,1370\n",
        "1,2,3318,1192\n",
        "1,2,3662,1230\n",
        "1,2,3899,1346\n",
        "1,2,3700,1290\n",
        "1,2,3779,1165\n",
        "1,2,3473,1240\n",
        "1,2,3490,1132\n",
        "1,2,3654,1242\n",
        "1,2,3478,1270\n",
        "1,2,3495,1218\n",
        "1,2,3834,1430\n",
        "1,2,3876,1588\n",
        "1,2,3661,1320\n",
        "1,2,3618,1290\n",
        "1,2,3648,1260\n",
        "1,2,4032,1425\n",
        "1,2,3399,1226\n",
        "1,2,3916,1360\n",
        "1,2,4430,1620\n",
        "1,2,3695,1310\n",
        "1,2,3524,1250\n",
        "1,2,3571,1295\n",
        "1,2,3594,1290\n",
        "1,2,3383,1290\n",
        "1,2,3499,1275\n",
        "1,2,3589,1250\n",
        "1,2,3900,1270\n",
        "1,2,4114,1362\n",
        "1,2,3937,1300\n",
        "1,2,3399,1173\n",
        "1,2,4200,1256\n",
        "1,2,4488,1440\n",
        "1,2,3614,1180\n",
        "1,2,4051,1306\n",
        "1,2,3782,1350\n",
        "1,2,3391,1125\n",
        "1,2,3124,1165\n",
        "1,2,4053,1312\n",
        "1,2,3582,1300\n",
        "1,2,3666,1270\n",
        "1,2,3532,1335\n",
        "1,2,4046,1450\n",
        "1,2,3667,1310\n",
        "2,1,2857,1027\n",
        "2,1,3436,1235\n",
        "2,1,3791,1260\n",
        "2,1,3302,1165\n",
        "2,1,3104,1080\n",
        "2,1,3171,1127\n",
        "2,1,3572,1270\n",
        "2,1,3530,1252\n",
        "2,1,3175,1200\n",
        "2,1,3438,1290\n",
        "2,1,3903,1334\n",
        "2,1,3899,1380\n",
        "2,1,3401,1140\n",
        "2,1,3267,1243\n",
        "2,1,3451,1340\n",
        "2,1,3090,1168\n",
        "2,1,3413,1322\n",
        "2,1,3323,1249\n",
        "2,1,3680,1321\n",
        "2,1,3439,1192\n",
        "2,1,3853,1373\n",
        "2,1,3156,1170\n",
        "2,1,3279,1265\n",
        "2,1,3707,1235\n",
        "2,1,4006,1302\n",
        "2,1,3269,1241\n",
        "2,1,3071,1078\n",
        "2,1,3779,1520\n",
        "2,1,3548,1460\n",
        "2,1,3292,1075\n",
        "2,1,3497,1280\n",
        "2,1,3082,1180\n",
        "2,1,3248,1250\n",
        "2,1,3358,1190\n",
        "2,1,3803,1374\n",
        "2,1,3566,1306\n",
        "2,1,3145,1202\n",
        "2,1,3503,1240\n",
        "2,1,3571,1316\n",
        "2,1,3724,1280\n",
        "2,1,3615,1350\n",
        "2,1,3203,1180\n",
        "2,1,3609,1210\n",
        "2,1,3561,1127\n",
        "2,1,3979,1324\n",
        "2,1,3533,1210\n",
        "2,1,3689,1290\n",
        "2,1,3158,1100\n",
        "2,1,4005,1280\n",
        "2,1,3181,1175\n",
        "2,1,3479,1160\n",
        "2,1,3642,1205\n",
        "2,1,3632,1163\n",
        "2,2,3069,1022\n",
        "2,2,3394,1243\n",
        "2,2,3703,1350\n",
        "2,2,3165,1237\n",
        "2,2,3354,1204\n",
        "2,2,3000,1090\n",
        "2,2,3687,1355\n",
        "2,2,3556,1250\n",
        "2,2,2773,1076\n",
        "2,2,3058,1120\n",
        "2,2,3344,1220\n",
        "2,2,3493,1240\n",
        "2,2,3297,1220\n",
        "2,2,3360,1095\n",
        "2,2,3228,1235\n",
        "2,2,3277,1105\n",
        "2,2,3851,1405\n",
        "2,2,3067,1150\n",
        "2,2,3692,1305\n",
        "2,2,3402,1220\n",
        "2,2,3995,1296\n",
        "2,2,3318,1175\n",
        "2,2,2720,955\n",
        "2,2,2937,1070\n",
        "2,2,3580,1320\n",
        "2,2,2939,1060\n",
        "2,2,2989,1130\n",
        "2,2,3586,1250\n",
        "2,2,3156,1225\n",
        "2,2,3246,1180\n",
        "2,2,3170,1178\n",
        "2,2,3268,1142\n",
        "2,2,3389,1130\n",
        "2,2,3381,1185\n",
        "2,2,2864,1012\n",
        "2,2,3740,1280\n",
        "2,2,3479,1103\n",
        "2,2,3647,1408\n",
        "2,2,3716,1300\n",
        "2,2,3284,1246\n",
        "2,2,4204,1380\n",
        "2,2,3735,1350\n",
        "2,2,3218,1060\n",
        "2,2,3685,1350\n",
        "2,2,3704,1220\n",
        "2,2,3214,1110\n",
        "2,2,3394,1215\n",
        "2,2,3233,1104\n",
        "2,2,3352,1170\n",
        "2,2,3391,1120\"\"\""
      ],
      "metadata": {
        "id": "NOs4xl7FNc7h"
      },
      "execution_count": 3,
      "outputs": []
    },
    {
      "cell_type": "code",
      "source": [
        "df = pd.read_csv(StringIO(data))"
      ],
      "metadata": {
        "id": "IOLC4yk3NflZ"
      },
      "execution_count": 4,
      "outputs": []
    },
    {
      "cell_type": "code",
      "source": [
        "m = mean(df['volume'])\n",
        "v = variance(df['volume'], m)\n",
        "(m,v)"
      ],
      "metadata": {
        "colab": {
          "base_uri": "https://localhost:8080/"
        },
        "id": "Cv4JU9R5NieK",
        "outputId": "0ee68bb2-02db-4e5f-a71f-285bc746d7f2"
      },
      "execution_count": 5,
      "outputs": [
        {
          "output_type": "execute_result",
          "data": {
            "text/plain": [
              "(3633.9915611814345, 31486153.983122338)"
            ]
          },
          "metadata": {},
          "execution_count": 5
        }
      ]
    },
    {
      "cell_type": "code",
      "source": [
        "x = df['volume']\n",
        "y = df['weight']\n",
        "mean_x = mean(x)\n",
        "mean_y = mean(y)\n",
        "covariance(x, mean_x, y, mean_y)"
      ],
      "metadata": {
        "colab": {
          "base_uri": "https://localhost:8080/"
        },
        "id": "wx5CeHVtNl2P",
        "outputId": "3f0fa6cc-c958-4416-c1bd-c7bc27a28bf8"
      },
      "execution_count": 6,
      "outputs": [
        {
          "output_type": "execute_result",
          "data": {
            "text/plain": [
              "8294376.74683544"
            ]
          },
          "metadata": {},
          "execution_count": 6
        }
      ]
    },
    {
      "cell_type": "code",
      "source": [
        "import matplotlib.pyplot as plt\n",
        "plt.scatter(x, y)"
      ],
      "metadata": {
        "colab": {
          "base_uri": "https://localhost:8080/",
          "height": 283
        },
        "id": "sLllZQt5NoU7",
        "outputId": "e850fade-9a8b-4d00-9a50-4ed648bf01ed"
      },
      "execution_count": 7,
      "outputs": [
        {
          "output_type": "execute_result",
          "data": {
            "text/plain": [
              "<matplotlib.collections.PathCollection at 0x7f03dcf9c410>"
            ]
          },
          "metadata": {},
          "execution_count": 7
        },
        {
          "output_type": "display_data",
          "data": {
            "image/png": "[encoded data removed]",
            "text/plain": [
              "<Figure size 432x288 with 1 Axes>"
            ]
          },
          "metadata": {
            "needs_background": "light"
          }
        }
      ]
    },
    {
      "cell_type": "markdown",
      "source": [
        "# Fitting / Training a model"
      ],
      "metadata": {
        "id": "7qTB6alJN4cR"
      }
    },
    {
      "cell_type": "code",
      "source": [
        "(b1,b2) = fit(x, y)\n",
        "print(b1,b2)"
      ],
      "metadata": {
        "colab": {
          "base_uri": "https://localhost:8080/"
        },
        "id": "JgQ3b8EaNpvb",
        "outputId": "b8ce0a73-51e2-4ce7-de1e-a0dfeb627c85"
      },
      "execution_count": 9,
      "outputs": [
        {
          "output_type": "stream",
          "name": "stdout",
          "text": [
            "325.57342104944223 0.26342933948939945\n"
          ]
        }
      ]
    },
    {
      "cell_type": "code",
      "source": [
        "from sklearn.model_selection import train_test_split\n",
        "\n",
        "X_train, X_test, y_train, y_test = train_test_split(x, y, test_size = 0.33)"
      ],
      "metadata": {
        "id": "Q9W-BYL6OKI2"
      },
      "execution_count": 10,
      "outputs": []
    },
    {
      "cell_type": "code",
      "source": [
        "model = fit(x, y)"
      ],
      "metadata": {
        "id": "8qxUHUv_ONAp"
      },
      "execution_count": 11,
      "outputs": []
    },
    {
      "cell_type": "code",
      "source": [
        "def perdict(x, model):\n",
        "  return (model[0]+model[1]*x)"
      ],
      "metadata": {
        "id": "J3bN9XDLOPBJ"
      },
      "execution_count": 12,
      "outputs": []
    },
    {
      "cell_type": "markdown",
      "source": [
        "# Model Evaluation"
      ],
      "metadata": {
        "id": "KriAFekFOWH9"
      }
    },
    {
      "cell_type": "code",
      "source": [
        "errors = perdict(X_test, model) - y_test"
      ],
      "metadata": {
        "id": "wEK0ZS0vOQAk"
      },
      "execution_count": 13,
      "outputs": []
    },
    {
      "cell_type": "code",
      "source": [
        "errors.describe()"
      ],
      "metadata": {
        "colab": {
          "base_uri": "https://localhost:8080/"
        },
        "id": "DuerdLUOOTWS",
        "outputId": "ebb19bd1-1910-418d-f9a1-7fbccfeb1eca"
      },
      "execution_count": 14,
      "outputs": [
        {
          "output_type": "execute_result",
          "data": {
            "text/plain": [
              "count     79.000000\n",
              "mean      -0.399668\n",
              "std       63.355584\n",
              "min     -199.779282\n",
              "25%      -29.366087\n",
              "50%        0.665057\n",
              "75%       26.573966\n",
              "max      139.044093\n",
              "dtype: float64"
            ]
          },
          "metadata": {},
          "execution_count": 14
        }
      ]
    },
    {
      "cell_type": "code",
      "source": [
        "from math import sqrt\n",
        "def rmse(errors):\n",
        "  return (sqrt(mean([float(e)**2.0 for e in errors])))"
      ],
      "metadata": {
        "id": "k7cNKS0hOYa2"
      },
      "execution_count": 15,
      "outputs": []
    },
    {
      "cell_type": "code",
      "source": [
        "rmse(errors)"
      ],
      "metadata": {
        "colab": {
          "base_uri": "https://localhost:8080/"
        },
        "id": "ONOsGEd_OcL9",
        "outputId": "34d23733-9770-4c73-873c-2ffaaf7500c5"
      },
      "execution_count": 16,
      "outputs": [
        {
          "output_type": "execute_result",
          "data": {
            "text/plain": [
              "62.954590611491085"
            ]
          },
          "metadata": {},
          "execution_count": 16
        }
      ]
    },
    {
      "cell_type": "code",
      "source": [
        "plt.scatter(X_test, y_test)\n",
        "plt.plot(X_test, perdict(X_test, model))"
      ],
      "metadata": {
        "colab": {
          "base_uri": "https://localhost:8080/",
          "height": 283
        },
        "id": "SPiUeDUGOeQN",
        "outputId": "45d33b98-c839-417d-851f-c923bbce2f21"
      },
      "execution_count": 17,
      "outputs": [
        {
          "output_type": "execute_result",
          "data": {
            "text/plain": [
              "[<matplotlib.lines.Line2D at 0x7f03ce6d3c90>]"
            ]
          },
          "metadata": {},
          "execution_count": 17
        },
        {
          "output_type": "display_data",
          "data": {
            "image/png": "[encoded data removed]",
            "text/plain": [
              "<Figure size 432x288 with 1 Axes>"
            ]
          },
          "metadata": {
            "needs_background": "light"
          }
        }
      ]
    },
    {
      "cell_type": "markdown",
      "source": [
        "## Compare with sklearn package"
      ],
      "metadata": {
        "id": "X_kvbUVgOCfC"
      }
    },
    {
      "cell_type": "code",
      "source": [
        "from sklearn import linear_model\n",
        "reg = linear_model.LinearRegression()\n",
        "reg.fit(pd.DataFrame(X_train), pd.DataFrame(y_train))"
      ],
      "metadata": {
        "colab": {
          "base_uri": "https://localhost:8080/"
        },
        "id": "RgZAne3mN7XJ",
        "outputId": "bd98a543-e2e3-4e72-fb22-06a9bb43337e"
      },
      "execution_count": 18,
      "outputs": [
        {
          "output_type": "execute_result",
          "data": {
            "text/plain": [
              "LinearRegression()"
            ]
          },
          "metadata": {},
          "execution_count": 18
        }
      ]
    },
    {
      "cell_type": "code",
      "source": [
        "model2 = [reg.intercept_[0], reg.coef_[0]]\n",
        "model2"
      ],
      "metadata": {
        "colab": {
          "base_uri": "https://localhost:8080/"
        },
        "id": "slAvxuFHOj1J",
        "outputId": "034c0d01-1ed0-4798-fd54-3f559a837191"
      },
      "execution_count": 19,
      "outputs": [
        {
          "output_type": "execute_result",
          "data": {
            "text/plain": [
              "[339.3581378068179, array([0.25957357])]"
            ]
          },
          "metadata": {},
          "execution_count": 19
        }
      ]
    },
    {
      "cell_type": "code",
      "source": [
        "plt.scatter(X_test, y_test)\n",
        "plt.plot(X_test, perdict(X_test, model))\n",
        "plt.plot(X_test, perdict(X_test, model2))"
      ],
      "metadata": {
        "colab": {
          "base_uri": "https://localhost:8080/",
          "height": 283
        },
        "id": "ptf_m6DVOmIj",
        "outputId": "04f55f53-83ce-4b76-d99d-fce22a904bcc"
      },
      "execution_count": 20,
      "outputs": [
        {
          "output_type": "execute_result",
          "data": {
            "text/plain": [
              "[<matplotlib.lines.Line2D at 0x7f03ce2f0fd0>]"
            ]
          },
          "metadata": {},
          "execution_count": 20
        },
        {
          "output_type": "display_data",
          "data": {
            "image/png": "[encoded data removed]",
            "text/plain": [
              "<Figure size 432x288 with 1 Axes>"
            ]
          },
          "metadata": {
            "needs_background": "light"
          }
        }
      ]
    },
    {
      "cell_type": "code",
      "source": [
        "rmse(y_test-perdict(X_test, model2))"
      ],
      "metadata": {
        "colab": {
          "base_uri": "https://localhost:8080/"
        },
        "id": "6v3cQzGlOpik",
        "outputId": "a5eaad83-38c3-4371-b1d3-fcde6e1c85b5"
      },
      "execution_count": 21,
      "outputs": [
        {
          "output_type": "execute_result",
          "data": {
            "text/plain": [
              "63.03734093019323"
            ]
          },
          "metadata": {},
          "execution_count": 21
        }
      ]
    },
    {
      "cell_type": "code",
      "source": [
        "df.describe()"
      ],
      "metadata": {
        "colab": {
          "base_uri": "https://localhost:8080/",
          "height": 300
        },
        "id": "f9b4GcPzOnwf",
        "outputId": "c7d1ad28-7875-4404-f225-6a9061606f8e"
      },
      "execution_count": 22,
      "outputs": [
        {
          "output_type": "execute_result",
          "data": {
            "text/html": [
              "\n",
              "  <div id=\"df-8ee35050-6045-49e9-9548-9e55f82e7175\">\n",
              "    <div class=\"colab-df-container\">\n",
              "      <div>\n",
              "<style scoped>\n",
              "    .dataframe tbody tr th:only-of-type {\n",
              "        vertical-align: middle;\n",
              "    }\n",
              "\n",
              "    .dataframe tbody tr th {\n",
              "        vertical-align: top;\n",
              "    }\n",
              "\n",
              "    .dataframe thead th {\n",
              "        text-align: right;\n",
              "    }\n",
              "</style>\n",
              "<table border=\"1\" class=\"dataframe\">\n",
              "  <thead>\n",
              "    <tr style=\"text-align: right;\">\n",
              "      <th></th>\n",
              "      <th>gender</th>\n",
              "      <th>age</th>\n",
              "      <th>volume</th>\n",
              "      <th>weight</th>\n",
              "    </tr>\n",
              "  </thead>\n",
              "  <tbody>\n",
              "    <tr>\n",
              "      <th>count</th>\n",
              "      <td>237.000000</td>\n",
              "      <td>237.000000</td>\n",
              "      <td>237.000000</td>\n",
              "      <td>237.000000</td>\n",
              "    </tr>\n",
              "    <tr>\n",
              "      <th>mean</th>\n",
              "      <td>1.434599</td>\n",
              "      <td>1.535865</td>\n",
              "      <td>3633.991561</td>\n",
              "      <td>1282.873418</td>\n",
              "    </tr>\n",
              "    <tr>\n",
              "      <th>std</th>\n",
              "      <td>0.496753</td>\n",
              "      <td>0.499768</td>\n",
              "      <td>365.261422</td>\n",
              "      <td>120.340446</td>\n",
              "    </tr>\n",
              "    <tr>\n",
              "      <th>min</th>\n",
              "      <td>1.000000</td>\n",
              "      <td>1.000000</td>\n",
              "      <td>2720.000000</td>\n",
              "      <td>955.000000</td>\n",
              "    </tr>\n",
              "    <tr>\n",
              "      <th>25%</th>\n",
              "      <td>1.000000</td>\n",
              "      <td>1.000000</td>\n",
              "      <td>3389.000000</td>\n",
              "      <td>1207.000000</td>\n",
              "    </tr>\n",
              "    <tr>\n",
              "      <th>50%</th>\n",
              "      <td>1.000000</td>\n",
              "      <td>2.000000</td>\n",
              "      <td>3614.000000</td>\n",
              "      <td>1280.000000</td>\n",
              "    </tr>\n",
              "    <tr>\n",
              "      <th>75%</th>\n",
              "      <td>2.000000</td>\n",
              "      <td>2.000000</td>\n",
              "      <td>3876.000000</td>\n",
              "      <td>1350.000000</td>\n",
              "    </tr>\n",
              "    <tr>\n",
              "      <th>max</th>\n",
              "      <td>2.000000</td>\n",
              "      <td>2.000000</td>\n",
              "      <td>4747.000000</td>\n",
              "      <td>1635.000000</td>\n",
              "    </tr>\n",
              "  </tbody>\n",
              "</table>\n",
              "</div>\n",
              "      <button class=\"colab-df-convert\" onclick=\"convertToInteractive('df-8ee35050-6045-49e9-9548-9e55f82e7175')\"\n",
              "              title=\"Convert this dataframe to an interactive table.\"\n",
              "              style=\"display:none;\">\n",
              "        \n",
              "  <svg xmlns=\"http://www.w3.org/2000/svg\" height=\"24px\"viewBox=\"0 0 24 24\"\n",
              "       width=\"24px\">\n",
              "    <path d=\"M0 0h24v24H0V0z\" fill=\"none\"/>\n",
              "    <path d=\"M18.56 5.44l.94 2.06.94-2.06 2.06-.94-2.06-.94-.94-2.06-.94 2.06-2.06.94zm-11 1L8.5 8.5l.94-2.06 2.06-.94-2.06-.94L8.5 2.5l-.94 2.06-2.06.94zm10 10l.94 2.06.94-2.06 2.06-.94-2.06-.94-.94-2.06-.94 2.06-2.06.94z\"/><path d=\"M17.41 7.96l-1.37-1.37c-.4-.4-.92-.59-1.43-.59-.52 0-1.04.2-1.43.59L10.3 9.45l-7.72 7.72c-.78.78-.78 2.05 0 2.83L4 21.41c.39.39.9.59 1.41.59.51 0 1.02-.2 1.41-.59l7.78-7.78 2.81-2.81c.8-.78.8-2.07 0-2.86zM5.41 20L4 18.59l7.72-7.72 1.47 1.35L5.41 20z\"/>\n",
              "  </svg>\n",
              "      </button>\n",
              "      \n",
              "  <style>\n",
              "    .colab-df-container {\n",
              "      display:flex;\n",
              "      flex-wrap:wrap;\n",
              "      gap: 12px;\n",
              "    }\n",
              "\n",
              "    .colab-df-convert {\n",
              "      background-color: #E8F0FE;\n",
              "      border: none;\n",
              "      border-radius: 50%;\n",
              "      cursor: pointer;\n",
              "      display: none;\n",
              "      fill: #1967D2;\n",
              "      height: 32px;\n",
              "      padding: 0 0 0 0;\n",
              "      width: 32px;\n",
              "    }\n",
              "\n",
              "    .colab-df-convert:hover {\n",
              "      background-color: #E2EBFA;\n",
              "      box-shadow: 0px 1px 2px rgba(60, 64, 67, 0.3), 0px 1px 3px 1px rgba(60, 64, 67, 0.15);\n",
              "      fill: #174EA6;\n",
              "    }\n",
              "\n",
              "    [theme=dark] .colab-df-convert {\n",
              "      background-color: #3B4455;\n",
              "      fill: #D2E3FC;\n",
              "    }\n",
              "\n",
              "    [theme=dark] .colab-df-convert:hover {\n",
              "      background-color: #434B5C;\n",
              "      box-shadow: 0px 1px 3px 1px rgba(0, 0, 0, 0.15);\n",
              "      filter: drop-shadow(0px 1px 2px rgba(0, 0, 0, 0.3));\n",
              "      fill: #FFFFFF;\n",
              "    }\n",
              "  </style>\n",
              "\n",
              "      <script>\n",
              "        const buttonEl =\n",
              "          document.querySelector('#df-8ee35050-6045-49e9-9548-9e55f82e7175 button.colab-df-convert');\n",
              "        buttonEl.style.display =\n",
              "          google.colab.kernel.accessAllowed ? 'block' : 'none';\n",
              "\n",
              "        async function convertToInteractive(key) {\n",
              "          const element = document.querySelector('#df-8ee35050-6045-49e9-9548-9e55f82e7175');\n",
              "          const dataTable =\n",
              "            await google.colab.kernel.invokeFunction('convertToInteractive',\n",
              "                                                     [key], {});\n",
              "          if (!dataTable) return;\n",
              "\n",
              "          const docLinkHtml = 'Like what you see? Visit the ' +\n",
              "            '<a target=\"_blank\" href=https://colab.research.google.com/notebooks/data_table.ipynb>data table notebook</a>'\n",
              "            + ' to learn more about interactive tables.';\n",
              "          element.innerHTML = '';\n",
              "          dataTable['output_type'] = 'display_data';\n",
              "          await google.colab.output.renderOutput(dataTable, element);\n",
              "          const docLink = document.createElement('div');\n",
              "          docLink.innerHTML = docLinkHtml;\n",
              "          element.appendChild(docLink);\n",
              "        }\n",
              "      </script>\n",
              "    </div>\n",
              "  </div>\n",
              "  "
            ],
            "text/plain": [
              "           gender         age       volume       weight\n",
              "count  237.000000  237.000000   237.000000   237.000000\n",
              "mean     1.434599    1.535865  3633.991561  1282.873418\n",
              "std      0.496753    0.499768   365.261422   120.340446\n",
              "min      1.000000    1.000000  2720.000000   955.000000\n",
              "25%      1.000000    1.000000  3389.000000  1207.000000\n",
              "50%      1.000000    2.000000  3614.000000  1280.000000\n",
              "75%      2.000000    2.000000  3876.000000  1350.000000\n",
              "max      2.000000    2.000000  4747.000000  1635.000000"
            ]
          },
          "metadata": {},
          "execution_count": 22
        }
      ]
    },
    {
      "cell_type": "markdown",
      "source": [
        "## Model Adjustment"
      ],
      "metadata": {
        "id": "MlQTll9cO4gA"
      }
    },
    {
      "cell_type": "code",
      "source": [
        "X_train, X_test, y_train, y_test = train_test_split(df[['gender','age','volume']], df['weight'], test_size = 0.33)"
      ],
      "metadata": {
        "id": "dypHImprOv5g"
      },
      "execution_count": 23,
      "outputs": []
    },
    {
      "cell_type": "code",
      "source": [
        "reg2 = linear_model.LinearRegression()\n",
        "reg2.fit(pd.DataFrame(X_train), pd.DataFrame(y_train))"
      ],
      "metadata": {
        "colab": {
          "base_uri": "https://localhost:8080/"
        },
        "id": "4mIJ0R65O8XQ",
        "outputId": "6de569ff-4fb1-455f-8342-734b0484cb05"
      },
      "execution_count": 24,
      "outputs": [
        {
          "output_type": "execute_result",
          "data": {
            "text/plain": [
              "LinearRegression()"
            ]
          },
          "metadata": {},
          "execution_count": 24
        }
      ]
    },
    {
      "cell_type": "code",
      "source": [
        "pred = reg2.predict(X_test)\n",
        "ps = pd.Series([p[0] for p in pred])"
      ],
      "metadata": {
        "id": "tVgTdUjuO_jW"
      },
      "execution_count": 25,
      "outputs": []
    },
    {
      "cell_type": "code",
      "source": [
        "err = pd.Series(y_test)-[p[0] for p in pred]\n",
        "rmse(err)"
      ],
      "metadata": {
        "colab": {
          "base_uri": "https://localhost:8080/"
        },
        "id": "BaDqJjNBPBEL",
        "outputId": "0bf9bd1f-ac7e-4a4f-a673-3ff086518886"
      },
      "execution_count": 26,
      "outputs": [
        {
          "output_type": "execute_result",
          "data": {
            "text/plain": [
              "70.69827707518903"
            ]
          },
          "metadata": {},
          "execution_count": 26
        }
      ]
    },
    {
      "cell_type": "markdown",
      "source": [
        "# Advanced Model Building"
      ],
      "metadata": {
        "id": "H11-3QkyPHpY"
      }
    },
    {
      "cell_type": "code",
      "source": [
        "import numpy as np\n",
        "import matplotlib.pyplot as plt\n",
        "from sklearn.pipeline import Pipeline\n",
        "from sklearn.preprocessing import PolynomialFeatures\n",
        "from sklearn.linear_model import LinearRegression\n",
        "from sklearn.model_selection import cross_val_score"
      ],
      "metadata": {
        "id": "bEh6A00xPD5-"
      },
      "execution_count": 27,
      "outputs": []
    },
    {
      "cell_type": "code",
      "source": [
        "def true_fun(X):\n",
        "  return np.cos(1.5 * np.pi * X)\n",
        "\n",
        "np.random.seed(0)\n",
        "\n",
        "n_samples = 30\n",
        "degrees = [1, 4, 15, 32, 64]"
      ],
      "metadata": {
        "id": "c7Ia0ykDPLw8"
      },
      "execution_count": 28,
      "outputs": []
    },
    {
      "cell_type": "code",
      "source": [
        "X = np.sort(np.random.rand(n_samples))\n",
        "y = true_fun(X) + np.random.rand(n_samples)"
      ],
      "metadata": {
        "id": "qeoxnNEvPNco"
      },
      "execution_count": 29,
      "outputs": []
    },
    {
      "cell_type": "code",
      "source": [
        "plt.figure(figsize=(14, 5))\n",
        "\n",
        "for i in range(len(degrees)):\n",
        "  ax = plt.subplot(1, len(degrees), i+1)\n",
        "  plt.setp(ax, xticks=(), yticks=())\n",
        "\n",
        "  polynomial_features = PolynomialFeatures(degree=degrees[i],\n",
        "                                           include_bias=False)\n",
        "  linear_regression = LinearRegression()\n",
        "  pipeline = Pipeline([('polynomial_features', polynomial_features),\n",
        "                       ('linear_regression', linear_regression)])\n",
        "  pipeline.fit(X[:, np.newaxis], y)\n",
        "\n",
        "  # Evaluate the models using crossvalidation\n",
        "  scores = cross_val_score(pipeline, X[:, np.newaxis], y,\n",
        "                           scoring='neg_mean_squared_error', cv=10)\n",
        "  \n",
        "  X_test = np.linspace(0, 1, 100)\n",
        "  plt.plot(X_test, pipeline.predict(X_test[:, np.newaxis]), label='Model')\n",
        "  plt.plot(X_test, true_fun(X_test), label='True Function')\n",
        "  plt.scatter(X, y, edgecolors='b', s=20, label='Sample')\n",
        "  plt.xlabel('x')\n",
        "  plt.ylabel('y')\n",
        "  plt.xlim((0,1))\n",
        "  plt.ylim((-2,2))\n",
        "  plt.legend(loc='best')\n",
        "  plt.title('Degree {}\\nMSE = {:.2e}(+/- {:.2e})'.format(\n",
        "      degrees[i], -scores.mean(), scores.std()))\n",
        "  \n",
        "plt.show()"
      ],
      "metadata": {
        "colab": {
          "base_uri": "https://localhost:8080/",
          "height": 348
        },
        "id": "y9rnk1PKPO2N",
        "outputId": "1711543b-48cb-4d08-c2a1-12d421b03a0c"
      },
      "execution_count": 30,
      "outputs": [
        {
          "output_type": "display_data",
          "data": {
            "image/png": "[encoded data removed]",
            "text/plain": [
              "<Figure size 1008x360 with 5 Axes>"
            ]
          },
          "metadata": {}
        }
      ]
    },
    {
      "cell_type": "code",
      "source": [
        ""
      ],
      "metadata": {
        "id": "Urw_T4U0PRI9"
      },
      "execution_count": null,
      "outputs": []
    }
  ]
}