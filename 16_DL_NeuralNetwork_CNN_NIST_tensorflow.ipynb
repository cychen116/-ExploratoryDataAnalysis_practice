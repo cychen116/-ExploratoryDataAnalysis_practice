{
  "nbformat": 4,
  "nbformat_minor": 0,
  "metadata": {
    "colab": {
      "name": "16_ML_ NeuralNetwork_CNN_NIST_tensorflow.ipynb",
      "provenance": [],
      "toc_visible": true,
      "authorship_tag": "ABX9TyMZLrIVmWZyU4nGZFgCarcf",
      "include_colab_link": true
    },
    "kernelspec": {
      "name": "python3",
      "display_name": "Python 3"
    },
    "language_info": {
      "name": "python"
    }
  },
  "cells": [
    {
      "cell_type": "markdown",
      "metadata": {
        "id": "view-in-github",
        "colab_type": "text"
      },
      "source": [
        "<a href=\"https://colab.research.google.com/github/cychen116/DataAnalysis_practice/blob/main/16_ML__NeuralNetwork_CNN_NIST_tensorflow.ipynb\" target=\"_parent\"><img src=\"https://colab.research.google.com/assets/colab-badge.svg\" alt=\"Open In Colab\"/></a>"
      ]
    },
    {
      "cell_type": "markdown",
      "source": [
        "Extend Digits network to hhandwritten characters \n",
        "\n",
        "Use NIST dataset: EMNIST Letters: 145,600 characters. 26 balanced classes.\n",
        "https://www.nist.gov/itl/products-and-services/emnist-dataset\n",
        "\n",
        "* Play with NN configurations -- number of layers, ssize of layers\n",
        "* Please try to break it\n",
        "* Throw in some random noise \n",
        "* Replace tangent with another function (logit/ sigmioid???)"
      ],
      "metadata": {
        "id": "Tg8PnQXIxVOr"
      }
    },
    {
      "cell_type": "code",
      "execution_count": 1,
      "metadata": {
        "id": "8dGGVzl2wvA8"
      },
      "outputs": [],
      "source": [
        "# Data Basic\n",
        "import pandas as pd\n",
        "import numpy as np\n",
        "# Visualization\n",
        "import matplotlib.pyplot as plt \n",
        "import seaborn as sns\n",
        "sns.set_theme(style=\"white\")"
      ]
    },
    {
      "cell_type": "code",
      "source": [
        "from google.colab import drive\n",
        "drive.mount(\"/content/drive\")\n",
        "data_dir = \"/content/drive/MyDrive/Colab Notebooks/EMSE 6575/Data\""
      ],
      "metadata": {
        "colab": {
          "base_uri": "https://localhost:8080/"
        },
        "id": "O_QeFvSgytBN",
        "outputId": "251c4541-f7e7-42d8-8c17-dd56cfb954b3"
      },
      "execution_count": 2,
      "outputs": [
        {
          "output_type": "stream",
          "name": "stdout",
          "text": [
            "Mounted at /content/drive\n"
          ]
        }
      ]
    },
    {
      "cell_type": "code",
      "source": [
        "import sys\n",
        "sys.path.append(data_dir)\n",
        "#import util from the that we made last times\n",
        "from neuralnetwork_util import Network, FCLayer, ActivationLayer, FCLayer, ActivationLayer, mse, mse_prime"
      ],
      "metadata": {
        "id": "SRkc3Vupyvz1"
      },
      "execution_count": 3,
      "outputs": []
    },
    {
      "cell_type": "markdown",
      "source": [
        "# Loading Data"
      ],
      "metadata": {
        "id": "oH735IjK2U6f"
      }
    },
    {
      "cell_type": "code",
      "source": [
        "train = pd.read_csv(data_dir + '/emnist-letters-train.csv')\n",
        "test = pd.read_csv(data_dir + '/emnist-letters-test.csv')\n",
        "print(train.shape)\n",
        "print(test.shape)"
      ],
      "metadata": {
        "colab": {
          "base_uri": "https://localhost:8080/"
        },
        "id": "DoJjm9mj0ez8",
        "outputId": "ae78c71d-208f-40c8-ec62-8619b49a731c"
      },
      "execution_count": 33,
      "outputs": [
        {
          "output_type": "stream",
          "name": "stdout",
          "text": [
            "(88799, 785)\n",
            "(14799, 785)\n"
          ]
        }
      ]
    },
    {
      "cell_type": "markdown",
      "source": [
        "## Reshape Data"
      ],
      "metadata": {
        "id": "Ozs9tJgg2Y11"
      }
    },
    {
      "cell_type": "code",
      "source": [
        "#training_letters\n",
        "y1 = np.array(train.iloc[:,0].values)\n",
        "x1 = np.array(train.iloc[:,1:].values)\n",
        "#testing_labels\n",
        "y2 = np.array(test.iloc[:,0].values)\n",
        "x2 = np.array(test.iloc[:,1:].values)\n",
        "print(x1.shape, y1.shape)\n",
        "print(x2.shape, y2.shape)"
      ],
      "metadata": {
        "colab": {
          "base_uri": "https://localhost:8080/"
        },
        "id": "cVJyKJxu2Lpg",
        "outputId": "0fe23b87-8ba3-41f1-ba4e-8fcf9641bc60"
      },
      "execution_count": 35,
      "outputs": [
        {
          "output_type": "stream",
          "name": "stdout",
          "text": [
            "(88799, 784) (88799,)\n",
            "(14799, 784) (14799,)\n"
          ]
        }
      ]
    },
    {
      "cell_type": "code",
      "source": [
        "np.unique(y2)"
      ],
      "metadata": {
        "colab": {
          "base_uri": "https://localhost:8080/"
        },
        "id": "VnhQ49Uk4EED",
        "outputId": "203cfeb5-89c8-4135-b5ef-e241c20db836"
      },
      "execution_count": 16,
      "outputs": [
        {
          "output_type": "execute_result",
          "data": {
            "text/plain": [
              "array([0., 1.], dtype=float32)"
            ]
          },
          "metadata": {},
          "execution_count": 16
        }
      ]
    },
    {
      "cell_type": "code",
      "source": [
        "import matplotlib.pyplot as plt \n",
        "fig,axes = plt.subplots(3,5,figsize=(10,8))\n",
        "for i,ax in enumerate(axes.flat):\n",
        "    ax.imshow(x1[i].reshape([28,28]),cmap='gray')"
      ],
      "metadata": {
        "colab": {
          "base_uri": "https://localhost:8080/",
          "height": 456
        },
        "id": "TYPGczlr2xb2",
        "outputId": "464a55d8-f301-4c50-b901-17cca9d680e6"
      },
      "execution_count": 9,
      "outputs": [
        {
          "output_type": "display_data",
          "data": {
            "image/png": "[encoded data removed]",
            "text/plain": [
              "<Figure size 720x576 with 15 Axes>"
            ]
          },
          "metadata": {
            "needs_background": "light"
          }
        }
      ]
    },
    {
      "cell_type": "markdown",
      "source": [
        "# Normalization"
      ],
      "metadata": {
        "id": "zm7Z_weN3Gtu"
      }
    },
    {
      "cell_type": "code",
      "source": [
        "import tensorflow as tf"
      ],
      "metadata": {
        "id": "BbiMWiWK2_bg"
      },
      "execution_count": 10,
      "outputs": []
    },
    {
      "cell_type": "code",
      "source": [
        "# Normalise and reshape data\n",
        "train_images = x1 / 255.0\n",
        "test_images = x2 / 255.0\n",
        "\n",
        "train_images_number = train_images.shape[0]\n",
        "train_images_height = 28\n",
        "train_images_width = 28\n",
        "train_images_size = train_images_height*train_images_width\n",
        "\n",
        "train_images = train_images.reshape(train_images_number, train_images_height, train_images_width, 1)\n",
        "\n",
        "test_images_number = test_images.shape[0]\n",
        "test_images_height = 28\n",
        "test_images_width = 28\n",
        "test_images_size = test_images_height*test_images_width\n",
        "\n",
        "test_images = test_images.reshape(test_images_number, test_images_height, test_images_width, 1)"
      ],
      "metadata": {
        "id": "yVJ_5m9i3MNk"
      },
      "execution_count": 11,
      "outputs": []
    },
    {
      "cell_type": "code",
      "source": [
        "# Transform labels\n",
        "# According to Documents\n",
        "number_of_classes = 37\n",
        "\n",
        "y1 = tf.keras.utils.to_categorical(y1, number_of_classes)\n",
        "y2 = tf.keras.utils.to_categorical(y2, number_of_classes)"
      ],
      "metadata": {
        "id": "IwDeL75E3V7b"
      },
      "execution_count": 36,
      "outputs": []
    },
    {
      "cell_type": "markdown",
      "source": [
        "# CNN Classification"
      ],
      "metadata": {
        "id": "XIZ_lRDo-f-S"
      }
    },
    {
      "cell_type": "code",
      "source": [
        "from tensorflow.keras.callbacks import EarlyStopping, ReduceLROnPlateau,ModelCheckpoint\n",
        "from sklearn.model_selection import train_test_split"
      ],
      "metadata": {
        "id": "gUu3vkfS3YFF"
      },
      "execution_count": 37,
      "outputs": []
    },
    {
      "cell_type": "code",
      "source": [
        "train_x,test_x,train_y,test_y = train_test_split(train_images,y1,test_size=0.2,random_state = 42)"
      ],
      "metadata": {
        "id": "jELBjAIV-l05"
      },
      "execution_count": 38,
      "outputs": []
    },
    {
      "cell_type": "code",
      "source": [
        "model = tf.keras.Sequential([ \n",
        "    tf.keras.layers.Conv2D(32,3,input_shape=(28,28,1)),\n",
        "    tf.keras.layers.MaxPooling2D(2,2),\n",
        "    tf.keras.layers.Flatten(input_shape=(28,28,1)),\n",
        "    tf.keras.layers.Dense(512,activation='relu'),\n",
        "    tf.keras.layers.Dense(128,activation='relu'),\n",
        "    tf.keras.layers.Dense(number_of_classes,activation='softmax')\n",
        "])"
      ],
      "metadata": {
        "id": "jq3B4cy6-nYS"
      },
      "execution_count": 39,
      "outputs": []
    },
    {
      "cell_type": "code",
      "source": [
        "model.compile(optimizer='rmsprop',loss='categorical_crossentropy',metrics=['accuracy'])"
      ],
      "metadata": {
        "id": "43YjzhF1-rV6"
      },
      "execution_count": 40,
      "outputs": []
    },
    {
      "cell_type": "markdown",
      "source": [
        "#Callback API's to save best weights and change learning rate"
      ],
      "metadata": {
        "id": "ssEOXGkz-yos"
      }
    },
    {
      "cell_type": "code",
      "source": [
        "MCP = ModelCheckpoint('Best_points.h5',verbose=1,save_best_only=True,monitor='val_accuracy',mode='max')\n",
        "ES = EarlyStopping(monitor='val_accuracy',min_delta=0,verbose=0,restore_best_weights = True,patience=3,mode='max')\n",
        "RLP = ReduceLROnPlateau(monitor='val_loss',patience=3,factor=0.2,min_lr=0.0001)"
      ],
      "metadata": {
        "id": "kKvRN70c-u9B"
      },
      "execution_count": 41,
      "outputs": []
    },
    {
      "cell_type": "code",
      "source": [
        "history = model.fit(train_x,train_y,epochs=10,validation_data=(test_x,test_y),callbacks=[MCP,ES,RLP])"
      ],
      "metadata": {
        "colab": {
          "base_uri": "https://localhost:8080/"
        },
        "id": "5igJVGnl-6HC",
        "outputId": "0df21090-28b9-4398-a312-a45aa8a863fa"
      },
      "execution_count": 42,
      "outputs": [
        {
          "output_type": "stream",
          "name": "stdout",
          "text": [
            "Epoch 1/10\n",
            "2220/2220 [==============================] - ETA: 0s - loss: 0.5636 - accuracy: 0.8232\n",
            "Epoch 1: val_accuracy improved from -inf to 0.89369, saving model to Best_points.h5\n",
            "2220/2220 [==============================] - 126s 56ms/step - loss: 0.5636 - accuracy: 0.8232 - val_loss: 0.3327 - val_accuracy: 0.8937 - lr: 0.0010\n",
            "Epoch 2/10\n",
            "2220/2220 [==============================] - ETA: 0s - loss: 0.2814 - accuracy: 0.9091\n",
            "Epoch 2: val_accuracy improved from 0.89369 to 0.89735, saving model to Best_points.h5\n",
            "2220/2220 [==============================] - 130s 58ms/step - loss: 0.2814 - accuracy: 0.9091 - val_loss: 0.3228 - val_accuracy: 0.8974 - lr: 0.0010\n",
            "Epoch 3/10\n",
            "2220/2220 [==============================] - ETA: 0s - loss: 0.2226 - accuracy: 0.9258\n",
            "Epoch 3: val_accuracy improved from 0.89735 to 0.90298, saving model to Best_points.h5\n",
            "2220/2220 [==============================] - 118s 53ms/step - loss: 0.2226 - accuracy: 0.9258 - val_loss: 0.3192 - val_accuracy: 0.9030 - lr: 0.0010\n",
            "Epoch 4/10\n",
            "2219/2220 [============================>.] - ETA: 0s - loss: 0.1948 - accuracy: 0.9350\n",
            "Epoch 4: val_accuracy improved from 0.90298 to 0.90952, saving model to Best_points.h5\n",
            "2220/2220 [==============================] - 117s 53ms/step - loss: 0.1949 - accuracy: 0.9349 - val_loss: 0.3267 - val_accuracy: 0.9095 - lr: 0.0010\n",
            "Epoch 5/10\n",
            "2220/2220 [==============================] - ETA: 0s - loss: 0.1804 - accuracy: 0.9406\n",
            "Epoch 5: val_accuracy did not improve from 0.90952\n",
            "2220/2220 [==============================] - 118s 53ms/step - loss: 0.1804 - accuracy: 0.9406 - val_loss: 0.4546 - val_accuracy: 0.8957 - lr: 0.0010\n",
            "Epoch 6/10\n",
            "2220/2220 [==============================] - ETA: 0s - loss: 0.1712 - accuracy: 0.9435\n",
            "Epoch 6: val_accuracy did not improve from 0.90952\n",
            "2220/2220 [==============================] - 115s 52ms/step - loss: 0.1712 - accuracy: 0.9435 - val_loss: 0.4064 - val_accuracy: 0.8945 - lr: 0.0010\n",
            "Epoch 7/10\n",
            "2219/2220 [============================>.] - ETA: 0s - loss: 0.0799 - accuracy: 0.9692\n",
            "Epoch 7: val_accuracy improved from 0.90952 to 0.91678, saving model to Best_points.h5\n",
            "2220/2220 [==============================] - 119s 54ms/step - loss: 0.0799 - accuracy: 0.9692 - val_loss: 0.4100 - val_accuracy: 0.9168 - lr: 2.0000e-04\n",
            "Epoch 8/10\n",
            "2220/2220 [==============================] - ETA: 0s - loss: 0.0660 - accuracy: 0.9744\n",
            "Epoch 8: val_accuracy did not improve from 0.91678\n",
            "2220/2220 [==============================] - 116s 52ms/step - loss: 0.0660 - accuracy: 0.9744 - val_loss: 0.3886 - val_accuracy: 0.9140 - lr: 2.0000e-04\n",
            "Epoch 9/10\n",
            "2220/2220 [==============================] - ETA: 0s - loss: 0.0617 - accuracy: 0.9758\n",
            "Epoch 9: val_accuracy did not improve from 0.91678\n",
            "2220/2220 [==============================] - 116s 52ms/step - loss: 0.0617 - accuracy: 0.9758 - val_loss: 0.4317 - val_accuracy: 0.9154 - lr: 2.0000e-04\n",
            "Epoch 10/10\n",
            "2220/2220 [==============================] - ETA: 0s - loss: 0.0507 - accuracy: 0.9797\n",
            "Epoch 10: val_accuracy improved from 0.91678 to 0.91875, saving model to Best_points.h5\n",
            "2220/2220 [==============================] - 117s 53ms/step - loss: 0.0507 - accuracy: 0.9797 - val_loss: 0.4424 - val_accuracy: 0.9187 - lr: 1.0000e-04\n"
          ]
        }
      ]
    },
    {
      "cell_type": "markdown",
      "source": [
        "# Plot Accuracy to Evaluate Model"
      ],
      "metadata": {
        "id": "CzB_v8Ez-__w"
      }
    },
    {
      "cell_type": "code",
      "source": [
        "import seaborn as sns\n",
        "\n",
        "q = len(history.history['accuracy'])\n",
        "\n",
        "plt.figsize=(10,10)\n",
        "sns.lineplot(x = range(1,1+q),y = history.history['accuracy'], label='Accuracy')\n",
        "sns.lineplot(x = range(1,1+q),y = history.history['val_accuracy'], label='Val_Accuracy')\n",
        "plt.xlabel('epochs')\n",
        "plt.ylabel('Accuray')"
      ],
      "metadata": {
        "colab": {
          "base_uri": "https://localhost:8080/",
          "height": 302
        },
        "id": "Cq2v6hyQ-8AC",
        "outputId": "b3243876-c4dc-42d9-8c97-8e416f377469"
      },
      "execution_count": 44,
      "outputs": [
        {
          "output_type": "execute_result",
          "data": {
            "text/plain": [
              "Text(0, 0.5, 'Accuray')"
            ]
          },
          "metadata": {},
          "execution_count": 44
        },
        {
          "output_type": "display_data",
          "data": {
            "image/png": "[encoded data removed]",
            "text/plain": [
              "<Figure size 432x288 with 1 Axes>"
            ]
          },
          "metadata": {
            "needs_background": "light"
          }
        }
      ]
    },
    {
      "cell_type": "markdown",
      "source": [
        "# Adjust Layers by Tensorflow\n",
        "https://www.tensorflow.org/api_docs/python/tf/keras/activations\n",
        "\n",
        "- Changed the middle activation functions from relu to tanh\n",
        "\n",
        "- Changed the final activation function from softmax to sigmoid."
      ],
      "metadata": {
        "id": "d6YwS_gJ_V0y"
      }
    },
    {
      "cell_type": "code",
      "source": [
        "model = tf.keras.Sequential([ \n",
        "    tf.keras.layers.Conv2D(32,3,input_shape=(28,28,1)),\n",
        "    tf.keras.layers.MaxPooling2D(2,2),\n",
        "    tf.keras.layers.Flatten(input_shape=(28,28,1)),\n",
        "    tf.keras.layers.Dense(512,activation='tanh'),\n",
        "    tf.keras.layers.Dense(128,activation='tanh'),\n",
        "    tf.keras.layers.Dense(number_of_classes,activation='sigmoid')\n",
        "])"
      ],
      "metadata": {
        "id": "YYVpAvis_mwS"
      },
      "execution_count": 45,
      "outputs": []
    },
    {
      "cell_type": "code",
      "source": [
        "model.compile(optimizer='rmsprop',loss='categorical_crossentropy',metrics=['accuracy'])\n",
        "MCP = ModelCheckpoint('Best_points.h5',verbose=1,save_best_only=True,monitor='val_accuracy',mode='max')\n",
        "ES = EarlyStopping(monitor='val_accuracy',min_delta=0,verbose=0,restore_best_weights = True,patience=3,mode='max')\n",
        "RLP = ReduceLROnPlateau(monitor='val_loss',patience=3,factor=0.2,min_lr=0.0001)\n",
        "history = model.fit(train_x,train_y,epochs=10,validation_data=(test_x,test_y),callbacks=[MCP,ES,RLP])"
      ],
      "metadata": {
        "colab": {
          "base_uri": "https://localhost:8080/"
        },
        "id": "3exFIFke_vF_",
        "outputId": "b7d408dc-a3d9-4915-88a1-764a5b41bb24"
      },
      "execution_count": 46,
      "outputs": [
        {
          "output_type": "stream",
          "name": "stdout",
          "text": [
            "Epoch 1/10\n",
            "2219/2220 [============================>.] - ETA: 0s - loss: 0.5963 - accuracy: 0.8194\n",
            "Epoch 1: val_accuracy improved from -inf to 0.88243, saving model to Best_points.h5\n",
            "2220/2220 [==============================] - 117s 52ms/step - loss: 0.5961 - accuracy: 0.8195 - val_loss: 0.3721 - val_accuracy: 0.8824 - lr: 0.0010\n",
            "Epoch 2/10\n",
            "2220/2220 [==============================] - ETA: 0s - loss: 0.2974 - accuracy: 0.9016\n",
            "Epoch 2: val_accuracy improved from 0.88243 to 0.89307, saving model to Best_points.h5\n",
            "2220/2220 [==============================] - 114s 52ms/step - loss: 0.2974 - accuracy: 0.9016 - val_loss: 0.3277 - val_accuracy: 0.8931 - lr: 0.0010\n",
            "Epoch 3/10\n",
            "2220/2220 [==============================] - ETA: 0s - loss: 0.2238 - accuracy: 0.9239\n",
            "Epoch 3: val_accuracy improved from 0.89307 to 0.90845, saving model to Best_points.h5\n",
            "2220/2220 [==============================] - 115s 52ms/step - loss: 0.2238 - accuracy: 0.9239 - val_loss: 0.2913 - val_accuracy: 0.9084 - lr: 0.0010\n",
            "Epoch 4/10\n",
            "2220/2220 [==============================] - ETA: 0s - loss: 0.1785 - accuracy: 0.9389\n",
            "Epoch 4: val_accuracy did not improve from 0.90845\n",
            "2220/2220 [==============================] - 116s 52ms/step - loss: 0.1785 - accuracy: 0.9389 - val_loss: 0.2862 - val_accuracy: 0.9061 - lr: 0.0010\n",
            "Epoch 5/10\n",
            "2220/2220 [==============================] - ETA: 0s - loss: 0.1463 - accuracy: 0.9472\n",
            "Epoch 5: val_accuracy improved from 0.90845 to 0.91014, saving model to Best_points.h5\n",
            "2220/2220 [==============================] - 115s 52ms/step - loss: 0.1463 - accuracy: 0.9472 - val_loss: 0.2814 - val_accuracy: 0.9101 - lr: 0.0010\n",
            "Epoch 6/10\n",
            "2219/2220 [============================>.] - ETA: 0s - loss: 0.1203 - accuracy: 0.9557\n",
            "Epoch 6: val_accuracy did not improve from 0.91014\n",
            "2220/2220 [==============================] - 114s 51ms/step - loss: 0.1203 - accuracy: 0.9557 - val_loss: 0.2949 - val_accuracy: 0.9091 - lr: 0.0010\n",
            "Epoch 7/10\n",
            "2220/2220 [==============================] - ETA: 0s - loss: 0.1027 - accuracy: 0.9620\n",
            "Epoch 7: val_accuracy did not improve from 0.91014\n",
            "2220/2220 [==============================] - 114s 51ms/step - loss: 0.1027 - accuracy: 0.9620 - val_loss: 0.3068 - val_accuracy: 0.9095 - lr: 0.0010\n",
            "Epoch 8/10\n",
            "2219/2220 [============================>.] - ETA: 0s - loss: 0.0899 - accuracy: 0.9660\n",
            "Epoch 8: val_accuracy did not improve from 0.91014\n",
            "2220/2220 [==============================] - 112s 51ms/step - loss: 0.0899 - accuracy: 0.9660 - val_loss: 0.3276 - val_accuracy: 0.9075 - lr: 0.0010\n"
          ]
        }
      ]
    },
    {
      "cell_type": "code",
      "source": [
        ""
      ],
      "metadata": {
        "id": "THAsJguuD2Vw"
      },
      "execution_count": null,
      "outputs": []
    }
  ]
}
